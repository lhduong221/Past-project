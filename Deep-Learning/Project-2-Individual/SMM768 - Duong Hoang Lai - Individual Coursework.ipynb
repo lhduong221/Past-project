{
  "cells": [
    {
      "cell_type": "markdown",
      "metadata": {
        "id": "m80JMaVK4frj"
      },
      "source": [
        "# **Libraries**"
      ]
    },
    {
      "cell_type": "code",
      "execution_count": 1,
      "metadata": {
        "id": "2MAZFROXV8Xc"
      },
      "outputs": [],
      "source": [
        "import pandas as pd\n",
        "import matplotlib.pyplot as plt\n",
        "import numpy as np\n",
        "from bertopic import BERTopic\n",
        "from sentence_transformers import SentenceTransformer\n",
        "from sklearn.feature_extraction.text import CountVectorizer\n",
        "import nltk\n",
        "from nltk.corpus import stopwords\n",
        "from umap import UMAP\n",
        "import hdbscan\n",
        "from sklearn.feature_extraction.text import TfidfVectorizer\n",
        "from bertopic.representation import KeyBERTInspired, PartOfSpeech, MaximalMarginalRelevance"
      ]
    },
    {
      "cell_type": "markdown",
      "metadata": {
        "id": "QWwOLsVlV8Xg"
      },
      "source": [
        "# **Data**"
      ]
    },
    {
      "cell_type": "code",
      "execution_count": 2,
      "metadata": {
        "id": "zt2e2PH1V8Xi"
      },
      "outputs": [
        {
          "name": "stdout",
          "output_type": "stream",
          "text": [
            "<class 'pandas.core.frame.DataFrame'>\n",
            "RangeIndex: 10000 entries, 0 to 9999\n",
            "Data columns (total 7 columns):\n",
            " #   Column              Non-Null Count  Dtype \n",
            "---  ------              --------------  ----- \n",
            " 0   published_date      10000 non-null  object\n",
            " 1   published_platform  10000 non-null  object\n",
            " 2   rating              10000 non-null  int64 \n",
            " 3   type                10000 non-null  object\n",
            " 4   text                10000 non-null  object\n",
            " 5   title               9999 non-null   object\n",
            " 6   helpful_votes       10000 non-null  int64 \n",
            "dtypes: int64(2), object(5)\n",
            "memory usage: 547.0+ KB\n"
          ]
        }
      ],
      "source": [
        "df = pd.read_csv('https://www.dropbox.com/scl/fi/ekrltx48nq8ll7txpmkcg/singapore_airlines_reviews.csv?rlkey=lj0uqi5vpaaploqxg50yqbrj1&st=mindhem4&dl=1')\n",
        "df.info()"
      ]
    },
    {
      "cell_type": "code",
      "execution_count": 3,
      "metadata": {
        "id": "IXUA2EFjV8Xj"
      },
      "outputs": [
        {
          "data": {
            "text/html": [
              "<div>\n",
              "<style scoped>\n",
              "    .dataframe tbody tr th:only-of-type {\n",
              "        vertical-align: middle;\n",
              "    }\n",
              "\n",
              "    .dataframe tbody tr th {\n",
              "        vertical-align: top;\n",
              "    }\n",
              "\n",
              "    .dataframe thead th {\n",
              "        text-align: right;\n",
              "    }\n",
              "</style>\n",
              "<table border=\"1\" class=\"dataframe\">\n",
              "  <thead>\n",
              "    <tr style=\"text-align: right;\">\n",
              "      <th></th>\n",
              "      <th>published_date</th>\n",
              "      <th>published_platform</th>\n",
              "      <th>rating</th>\n",
              "      <th>type</th>\n",
              "      <th>text</th>\n",
              "      <th>title</th>\n",
              "      <th>helpful_votes</th>\n",
              "    </tr>\n",
              "  </thead>\n",
              "  <tbody>\n",
              "    <tr>\n",
              "      <th>0</th>\n",
              "      <td>2024-03-12T14:41:14-04:00</td>\n",
              "      <td>Desktop</td>\n",
              "      <td>3</td>\n",
              "      <td>review</td>\n",
              "      <td>We used this airline to go from Singapore to L...</td>\n",
              "      <td>Ok</td>\n",
              "      <td>0</td>\n",
              "    </tr>\n",
              "    <tr>\n",
              "      <th>1</th>\n",
              "      <td>2024-03-11T19:39:13-04:00</td>\n",
              "      <td>Desktop</td>\n",
              "      <td>5</td>\n",
              "      <td>review</td>\n",
              "      <td>The service on Singapore Airlines Suites Class...</td>\n",
              "      <td>The service in Suites Class makes one feel lik...</td>\n",
              "      <td>0</td>\n",
              "    </tr>\n",
              "    <tr>\n",
              "      <th>2</th>\n",
              "      <td>2024-03-11T12:20:23-04:00</td>\n",
              "      <td>Desktop</td>\n",
              "      <td>1</td>\n",
              "      <td>review</td>\n",
              "      <td>Booked, paid and received email confirmation f...</td>\n",
              "      <td>Don’t give them your money</td>\n",
              "      <td>0</td>\n",
              "    </tr>\n",
              "    <tr>\n",
              "      <th>3</th>\n",
              "      <td>2024-03-11T07:12:27-04:00</td>\n",
              "      <td>Desktop</td>\n",
              "      <td>5</td>\n",
              "      <td>review</td>\n",
              "      <td>Best airline in the world, seats, food, servic...</td>\n",
              "      <td>Best Airline in the World</td>\n",
              "      <td>0</td>\n",
              "    </tr>\n",
              "    <tr>\n",
              "      <th>4</th>\n",
              "      <td>2024-03-10T05:34:18-04:00</td>\n",
              "      <td>Desktop</td>\n",
              "      <td>2</td>\n",
              "      <td>review</td>\n",
              "      <td>Premium Economy Seating on Singapore Airlines ...</td>\n",
              "      <td>Premium Economy Seating on Singapore Airlines ...</td>\n",
              "      <td>0</td>\n",
              "    </tr>\n",
              "  </tbody>\n",
              "</table>\n",
              "</div>"
            ],
            "text/plain": [
              "              published_date published_platform  rating    type  \\\n",
              "0  2024-03-12T14:41:14-04:00            Desktop       3  review   \n",
              "1  2024-03-11T19:39:13-04:00            Desktop       5  review   \n",
              "2  2024-03-11T12:20:23-04:00            Desktop       1  review   \n",
              "3  2024-03-11T07:12:27-04:00            Desktop       5  review   \n",
              "4  2024-03-10T05:34:18-04:00            Desktop       2  review   \n",
              "\n",
              "                                                text  \\\n",
              "0  We used this airline to go from Singapore to L...   \n",
              "1  The service on Singapore Airlines Suites Class...   \n",
              "2  Booked, paid and received email confirmation f...   \n",
              "3  Best airline in the world, seats, food, servic...   \n",
              "4  Premium Economy Seating on Singapore Airlines ...   \n",
              "\n",
              "                                               title  helpful_votes  \n",
              "0                                                 Ok              0  \n",
              "1  The service in Suites Class makes one feel lik...              0  \n",
              "2                         Don’t give them your money              0  \n",
              "3                          Best Airline in the World              0  \n",
              "4  Premium Economy Seating on Singapore Airlines ...              0  "
            ]
          },
          "execution_count": 3,
          "metadata": {},
          "output_type": "execute_result"
        }
      ],
      "source": [
        "df.head()"
      ]
    },
    {
      "cell_type": "markdown",
      "metadata": {
        "id": "elS5OXxjV8Xk"
      },
      "source": [
        "# **Exploratory Data Analysis**"
      ]
    },
    {
      "cell_type": "code",
      "execution_count": 4,
      "metadata": {
        "id": "kM8RTeGlV8Xk"
      },
      "outputs": [
        {
          "data": {
            "text/html": [
              "<div>\n",
              "<style scoped>\n",
              "    .dataframe tbody tr th:only-of-type {\n",
              "        vertical-align: middle;\n",
              "    }\n",
              "\n",
              "    .dataframe tbody tr th {\n",
              "        vertical-align: top;\n",
              "    }\n",
              "\n",
              "    .dataframe thead th {\n",
              "        text-align: right;\n",
              "    }\n",
              "</style>\n",
              "<table border=\"1\" class=\"dataframe\">\n",
              "  <thead>\n",
              "    <tr style=\"text-align: right;\">\n",
              "      <th></th>\n",
              "      <th>rating</th>\n",
              "      <th>review_length</th>\n",
              "      <th>contains_excellent</th>\n",
              "      <th>contains_terrible</th>\n",
              "    </tr>\n",
              "  </thead>\n",
              "  <tbody>\n",
              "    <tr>\n",
              "      <th>0</th>\n",
              "      <td>1</td>\n",
              "      <td>920.468307</td>\n",
              "      <td>0.021760</td>\n",
              "      <td>0.096500</td>\n",
              "    </tr>\n",
              "    <tr>\n",
              "      <th>1</th>\n",
              "      <td>2</td>\n",
              "      <td>871.423573</td>\n",
              "      <td>0.053407</td>\n",
              "      <td>0.071823</td>\n",
              "    </tr>\n",
              "    <tr>\n",
              "      <th>2</th>\n",
              "      <td>3</td>\n",
              "      <td>737.867195</td>\n",
              "      <td>0.080278</td>\n",
              "      <td>0.042616</td>\n",
              "    </tr>\n",
              "    <tr>\n",
              "      <th>3</th>\n",
              "      <td>4</td>\n",
              "      <td>526.661922</td>\n",
              "      <td>0.149466</td>\n",
              "      <td>0.006101</td>\n",
              "    </tr>\n",
              "    <tr>\n",
              "      <th>4</th>\n",
              "      <td>5</td>\n",
              "      <td>431.168326</td>\n",
              "      <td>0.222345</td>\n",
              "      <td>0.002028</td>\n",
              "    </tr>\n",
              "  </tbody>\n",
              "</table>\n",
              "</div>"
            ],
            "text/plain": [
              "   rating  review_length  contains_excellent  contains_terrible\n",
              "0       1     920.468307            0.021760           0.096500\n",
              "1       2     871.423573            0.053407           0.071823\n",
              "2       3     737.867195            0.080278           0.042616\n",
              "3       4     526.661922            0.149466           0.006101\n",
              "4       5     431.168326            0.222345           0.002028"
            ]
          },
          "execution_count": 4,
          "metadata": {},
          "output_type": "execute_result"
        }
      ],
      "source": [
        "# Step 1: Calculate the length of each review\n",
        "df['review_length'] = df['text'].apply(len)\n",
        "\n",
        "# For simplicity, let's consider \"excellent\" for positive and \"terrible\" for negative sentiments\n",
        "df['contains_excellent'] = df['text'].str.contains('excellent', case=False).astype(int)\n",
        "df['contains_terrible'] = df['text'].str.contains('terrible', case=False).astype(int)\n",
        "\n",
        "# Preparing data for visualization\n",
        "# We'll aggregate data to see if there's a visible trend between the length of reviews, presence of specific words, and ratings\n",
        "aggregated_data = df.groupby('rating').agg({\n",
        "    'review_length': 'mean',\n",
        "    'contains_excellent': 'mean',\n",
        "    'contains_terrible': 'mean'\n",
        "}).reset_index()\n",
        "\n",
        "aggregated_data"
      ]
    },
    {
      "cell_type": "code",
      "execution_count": 5,
      "metadata": {
        "id": "S886a6BMV8Xl"
      },
      "outputs": [
        {
          "data": {
            "image/png": "[encoded data removed]",
            "text/plain": [
              "<Figure size 1800x500 with 3 Axes>"
            ]
          },
          "metadata": {},
          "output_type": "display_data"
        }
      ],
      "source": [
        "fig, axes = plt.subplots(1, 3, figsize=(18, 5))\n",
        "\n",
        "# Review length vs. rating\n",
        "axes[0].bar(aggregated_data['rating'], aggregated_data['review_length'], color='skyblue')\n",
        "axes[0].set_title('Average Review Length vs. Rating')\n",
        "axes[0].set_xlabel('Rating')\n",
        "axes[0].set_ylabel('Average Review Length')\n",
        "\n",
        "# Presence of \"excellent\" vs. rating\n",
        "axes[1].bar(aggregated_data['rating'], aggregated_data['contains_excellent'], color='lightgreen')\n",
        "axes[1].set_title('Presence of \"Excellent\" vs. Rating')\n",
        "axes[1].set_xlabel('Rating')\n",
        "axes[1].set_ylabel('Average Occurrence of \"Excellent\"')\n",
        "\n",
        "# Presence of \"terrible\" vs. rating\n",
        "axes[2].bar(aggregated_data['rating'], aggregated_data['contains_terrible'], color='salmon')\n",
        "axes[2].set_title('Presence of \"Terrible\" vs. Rating')\n",
        "axes[2].set_xlabel('Rating')\n",
        "axes[2].set_ylabel('Average Occurrence of \"Terrible\"')\n",
        "\n",
        "plt.tight_layout()\n",
        "plt.show()"
      ]
    },
    {
      "cell_type": "markdown",
      "metadata": {
        "id": "aw_ULPe1n2Vv"
      },
      "source": [
        "We next aggregate the data by year, and plot how the ratings have changed over time.\n"
      ]
    },
    {
      "cell_type": "code",
      "execution_count": 6,
      "metadata": {
        "id": "uu6DvUfVV8Xp"
      },
      "outputs": [
        {
          "data": {
            "text/html": [
              "<div>\n",
              "<style scoped>\n",
              "    .dataframe tbody tr th:only-of-type {\n",
              "        vertical-align: middle;\n",
              "    }\n",
              "\n",
              "    .dataframe tbody tr th {\n",
              "        vertical-align: top;\n",
              "    }\n",
              "\n",
              "    .dataframe thead th {\n",
              "        text-align: right;\n",
              "    }\n",
              "</style>\n",
              "<table border=\"1\" class=\"dataframe\">\n",
              "  <thead>\n",
              "    <tr style=\"text-align: right;\">\n",
              "      <th></th>\n",
              "      <th>published_date</th>\n",
              "      <th>published_platform</th>\n",
              "      <th>rating</th>\n",
              "      <th>type</th>\n",
              "      <th>text</th>\n",
              "      <th>title</th>\n",
              "      <th>helpful_votes</th>\n",
              "      <th>review_length</th>\n",
              "      <th>contains_excellent</th>\n",
              "      <th>contains_terrible</th>\n",
              "      <th>year</th>\n",
              "    </tr>\n",
              "  </thead>\n",
              "  <tbody>\n",
              "    <tr>\n",
              "      <th>0</th>\n",
              "      <td>2024-03-12 18:41:14+00:00</td>\n",
              "      <td>Desktop</td>\n",
              "      <td>3</td>\n",
              "      <td>review</td>\n",
              "      <td>We used this airline to go from Singapore to L...</td>\n",
              "      <td>Ok</td>\n",
              "      <td>0</td>\n",
              "      <td>1352</td>\n",
              "      <td>0</td>\n",
              "      <td>0</td>\n",
              "      <td>2024</td>\n",
              "    </tr>\n",
              "    <tr>\n",
              "      <th>1</th>\n",
              "      <td>2024-03-11 23:39:13+00:00</td>\n",
              "      <td>Desktop</td>\n",
              "      <td>5</td>\n",
              "      <td>review</td>\n",
              "      <td>The service on Singapore Airlines Suites Class...</td>\n",
              "      <td>The service in Suites Class makes one feel lik...</td>\n",
              "      <td>0</td>\n",
              "      <td>4666</td>\n",
              "      <td>1</td>\n",
              "      <td>0</td>\n",
              "      <td>2024</td>\n",
              "    </tr>\n",
              "    <tr>\n",
              "      <th>2</th>\n",
              "      <td>2024-03-11 16:20:23+00:00</td>\n",
              "      <td>Desktop</td>\n",
              "      <td>1</td>\n",
              "      <td>review</td>\n",
              "      <td>Booked, paid and received email confirmation f...</td>\n",
              "      <td>Don’t give them your money</td>\n",
              "      <td>0</td>\n",
              "      <td>420</td>\n",
              "      <td>0</td>\n",
              "      <td>0</td>\n",
              "      <td>2024</td>\n",
              "    </tr>\n",
              "    <tr>\n",
              "      <th>3</th>\n",
              "      <td>2024-03-11 11:12:27+00:00</td>\n",
              "      <td>Desktop</td>\n",
              "      <td>5</td>\n",
              "      <td>review</td>\n",
              "      <td>Best airline in the world, seats, food, servic...</td>\n",
              "      <td>Best Airline in the World</td>\n",
              "      <td>0</td>\n",
              "      <td>144</td>\n",
              "      <td>0</td>\n",
              "      <td>0</td>\n",
              "      <td>2024</td>\n",
              "    </tr>\n",
              "    <tr>\n",
              "      <th>4</th>\n",
              "      <td>2024-03-10 09:34:18+00:00</td>\n",
              "      <td>Desktop</td>\n",
              "      <td>2</td>\n",
              "      <td>review</td>\n",
              "      <td>Premium Economy Seating on Singapore Airlines ...</td>\n",
              "      <td>Premium Economy Seating on Singapore Airlines ...</td>\n",
              "      <td>0</td>\n",
              "      <td>582</td>\n",
              "      <td>0</td>\n",
              "      <td>0</td>\n",
              "      <td>2024</td>\n",
              "    </tr>\n",
              "  </tbody>\n",
              "</table>\n",
              "</div>"
            ],
            "text/plain": [
              "             published_date published_platform  rating    type  \\\n",
              "0 2024-03-12 18:41:14+00:00            Desktop       3  review   \n",
              "1 2024-03-11 23:39:13+00:00            Desktop       5  review   \n",
              "2 2024-03-11 16:20:23+00:00            Desktop       1  review   \n",
              "3 2024-03-11 11:12:27+00:00            Desktop       5  review   \n",
              "4 2024-03-10 09:34:18+00:00            Desktop       2  review   \n",
              "\n",
              "                                                text  \\\n",
              "0  We used this airline to go from Singapore to L...   \n",
              "1  The service on Singapore Airlines Suites Class...   \n",
              "2  Booked, paid and received email confirmation f...   \n",
              "3  Best airline in the world, seats, food, servic...   \n",
              "4  Premium Economy Seating on Singapore Airlines ...   \n",
              "\n",
              "                                               title  helpful_votes  \\\n",
              "0                                                 Ok              0   \n",
              "1  The service in Suites Class makes one feel lik...              0   \n",
              "2                         Don’t give them your money              0   \n",
              "3                          Best Airline in the World              0   \n",
              "4  Premium Economy Seating on Singapore Airlines ...              0   \n",
              "\n",
              "   review_length  contains_excellent  contains_terrible  year  \n",
              "0           1352                   0                  0  2024  \n",
              "1           4666                   1                  0  2024  \n",
              "2            420                   0                  0  2024  \n",
              "3            144                   0                  0  2024  \n",
              "4            582                   0                  0  2024  "
            ]
          },
          "execution_count": 6,
          "metadata": {},
          "output_type": "execute_result"
        }
      ],
      "source": [
        "df['published_date'] = pd.to_datetime(df['published_date'], format='ISO8601', utc=True)\n",
        "df['year'] = df['published_date'].dt.year\n",
        "df.head()"
      ]
    },
    {
      "cell_type": "code",
      "execution_count": 7,
      "metadata": {
        "id": "Xgwe1hvPV8Xq"
      },
      "outputs": [
        {
          "data": {
            "text/html": [
              "<div>\n",
              "<style scoped>\n",
              "    .dataframe tbody tr th:only-of-type {\n",
              "        vertical-align: middle;\n",
              "    }\n",
              "\n",
              "    .dataframe tbody tr th {\n",
              "        vertical-align: top;\n",
              "    }\n",
              "\n",
              "    .dataframe thead th {\n",
              "        text-align: right;\n",
              "    }\n",
              "</style>\n",
              "<table border=\"1\" class=\"dataframe\">\n",
              "  <thead>\n",
              "    <tr style=\"text-align: right;\">\n",
              "      <th></th>\n",
              "      <th>year</th>\n",
              "      <th>rating</th>\n",
              "    </tr>\n",
              "  </thead>\n",
              "  <tbody>\n",
              "    <tr>\n",
              "      <th>0</th>\n",
              "      <td>2018</td>\n",
              "      <td>4.319710</td>\n",
              "    </tr>\n",
              "    <tr>\n",
              "      <th>1</th>\n",
              "      <td>2019</td>\n",
              "      <td>4.246012</td>\n",
              "    </tr>\n",
              "    <tr>\n",
              "      <th>2</th>\n",
              "      <td>2020</td>\n",
              "      <td>4.046103</td>\n",
              "    </tr>\n",
              "    <tr>\n",
              "      <th>3</th>\n",
              "      <td>2021</td>\n",
              "      <td>2.435294</td>\n",
              "    </tr>\n",
              "    <tr>\n",
              "      <th>4</th>\n",
              "      <td>2022</td>\n",
              "      <td>2.181159</td>\n",
              "    </tr>\n",
              "    <tr>\n",
              "      <th>5</th>\n",
              "      <td>2023</td>\n",
              "      <td>2.684112</td>\n",
              "    </tr>\n",
              "    <tr>\n",
              "      <th>6</th>\n",
              "      <td>2024</td>\n",
              "      <td>2.333333</td>\n",
              "    </tr>\n",
              "  </tbody>\n",
              "</table>\n",
              "</div>"
            ],
            "text/plain": [
              "   year    rating\n",
              "0  2018  4.319710\n",
              "1  2019  4.246012\n",
              "2  2020  4.046103\n",
              "3  2021  2.435294\n",
              "4  2022  2.181159\n",
              "5  2023  2.684112\n",
              "6  2024  2.333333"
            ]
          },
          "execution_count": 7,
          "metadata": {},
          "output_type": "execute_result"
        }
      ],
      "source": [
        "aggregated_data = df.groupby('year').agg({\n",
        "    'rating': 'mean',\n",
        "}).reset_index()\n",
        "\n",
        "aggregated_data"
      ]
    },
    {
      "cell_type": "code",
      "execution_count": 8,
      "metadata": {},
      "outputs": [
        {
          "data": {
            "image/png": "[encoded data removed]",
            "text/plain": [
              "<Figure size 1000x600 with 1 Axes>"
            ]
          },
          "metadata": {},
          "output_type": "display_data"
        }
      ],
      "source": [
        "# Disable LaTeX rendering\n",
        "plt.rcParams['text.usetex'] = False\n",
        "\n",
        "plt.style.use('Solarize_Light2')\n",
        "plt.figure(figsize=(10, 6))\n",
        "bars = plt.bar(aggregated_data['year'], aggregated_data['rating'], color='skyblue', width=0.4)\n",
        "\n",
        "# Add values on top of bars\n",
        "for bar in bars:\n",
        "    height = bar.get_height()\n",
        "    plt.text(bar.get_x() + bar.get_width()/2, height + 0.05, f'{abs(height):.2f}',\n",
        "             ha='center', va='bottom', fontsize=10)\n",
        "\n",
        "plt.title('Average Rating per Year')\n",
        "plt.xlabel('Year')\n",
        "plt.ylabel('Average Rating')\n",
        "\n",
        "plt.show()\n"
      ]
    },
    {
      "cell_type": "code",
      "execution_count": 9,
      "metadata": {},
      "outputs": [
        {
          "data": {
            "image/png": "[encoded data removed]",
            "text/plain": [
              "<Figure size 1200x600 with 1 Axes>"
            ]
          },
          "metadata": {},
          "output_type": "display_data"
        }
      ],
      "source": [
        "# Plot the number of text per year\n",
        "df['year'] = df['published_date'].dt.year\n",
        "df['year'].value_counts().sort_index().plot(kind='bar', figsize=(12, 6))\n",
        "plt.title('Number of Reviews per Year')\n",
        "plt.xlabel('Year')\n",
        "plt.ylabel('Number of Reviews')\n",
        "plt.show()"
      ]
    },
    {
      "cell_type": "markdown",
      "metadata": {},
      "source": [
        "## The drop in the number of reviews is highly likely due to the Covid pandemic leading to the sharp decrease in the number of people traveling."
      ]
    },
    {
      "cell_type": "markdown",
      "metadata": {},
      "source": [
        "# **Prepare BERTopic model**"
      ]
    },
    {
      "cell_type": "code",
      "execution_count": 10,
      "metadata": {},
      "outputs": [
        {
          "name": "stderr",
          "output_type": "stream",
          "text": [
            "[nltk_data] Downloading package stopwords to\n",
            "[nltk_data]     /Users/duonglai/nltk_data...\n",
            "[nltk_data]   Package stopwords is already up-to-date!\n"
          ]
        }
      ],
      "source": [
        "nltk.download('stopwords')\n",
        "stop_words = set(stopwords.words('english'))\n",
        "\n",
        "# Start with the default English stop words\n",
        "custom_stop_words = set(stop_words)\n",
        "\n",
        "# Add additional words that are too generic specifically in airline reviews\n",
        "additional_stop_words = {\"customer\", \"airlines\", \"airline\", \"get\", \"one\", \"never\", \"understand\", \"even\", \n",
        "                         \"fly\", \"flight\", \"flights\", \"flying\", \"flew\", \"flown\", \"travel\", \"travelling\",\n",
        "                         \"would\", \"said\", \"us\", \"told\", \"singapore\", \"sq\", \"sa\", \"sia\"}\n",
        "custom_stop_words.update(additional_stop_words)\n",
        "\n",
        "# Convert back to list\n",
        "custom_stop_words = list(custom_stop_words)\n",
        "\n",
        "# Select an embedding model for the text data (\"all-MiniLM-L6-v2\" is chosen for its balance between speed and performance)\n",
        "embedding_model = SentenceTransformer(\"all-MiniLM-L6-v2\")\n",
        "\n",
        "# Select a Dimensionality Reduction method\n",
        "umap_model = UMAP(n_components=5, \n",
        "                  n_neighbors=8, # To help focusing on identifying local structures that would lead to more coherent topics\n",
        "                  min_dist=0.3,\n",
        "                  metric='cosine', \n",
        "                  random_state=42)\n",
        "\n",
        "\n",
        "# Define a custom HDBSCAN model with tuned hyperparameters\n",
        "hdbscan_model = hdbscan.HDBSCAN(\n",
        "    min_cluster_size=10,       \n",
        "    min_samples=10,            \n",
        "    cluster_selection_epsilon=0.1,    \n",
        "    prediction_data=True\n",
        ")\n",
        "\n",
        "\n",
        "# Create a custom vectorizer with the stop words and n-grams\n",
        "vectorizer = CountVectorizer(stop_words=list(custom_stop_words),\n",
        "                             ngram_range=(1, 2))\n",
        "\n",
        "\n",
        "# Using TfidfVectorizer instead of CountVectorizer for rarer and more informative words\n",
        "custom_vectorizer = TfidfVectorizer(\n",
        "    stop_words=custom_stop_words,\n",
        "    ngram_range=(1, 2)\n",
        ")\n",
        "\n",
        "# Using multiple representation model for better topic representation\n",
        "# The main representation for summarizing topics\n",
        "main_representation = KeyBERTInspired()\n",
        "\n",
        "# An additional way of representing topics using a part-of-speech filter\n",
        "pos_model = PartOfSpeech(\"en_core_web_sm\")\n",
        "\n",
        "# Combining two approaches for a diverse representation (KeyBERTInspired and MMR)\n",
        "mmr_model = [KeyBERTInspired(top_n_words=30), MaximalMarginalRelevance(diversity=.5)]\n",
        "\n",
        "# Group all representation methods into a dictionary\n",
        "representation_model = {\n",
        "   \"Main\": main_representation,\n",
        "   \"POS\": pos_model,\n",
        "   \"MMR\": mmr_model\n",
        "}\n",
        "\n",
        "# Initialize BERTopic using the custom vectorizer\n",
        "topic_model = BERTopic(embedding_model=embedding_model,\n",
        "                       umap_model=umap_model,\n",
        "                       hdbscan_model=hdbscan_model,\n",
        "                       #vectorizer_model=vectorizer,\n",
        "                       vectorizer_model=custom_vectorizer, # Using TfidfVectorizer\n",
        "                       representation_model=representation_model)\n"
      ]
    },
    {
      "cell_type": "markdown",
      "metadata": {},
      "source": [
        "# **Approach**\n",
        "In order to be able identify nuances of reviews of each year, we will use the model separately on each year to identify the topics of reviews.\n",
        "Running fit_transform on each year’s dataset allows each model to focus on that year’s data. This way, the latent topics will closely reflect the specific themes and sentiments unique to that period— which is important in our case where the tone and content differ significantly from positive to negative reviews."
      ]
    },
    {
      "cell_type": "markdown",
      "metadata": {},
      "source": [
        "# **2018**"
      ]
    },
    {
      "cell_type": "markdown",
      "metadata": {},
      "source": [
        "## Data Slicing"
      ]
    },
    {
      "cell_type": "code",
      "execution_count": 11,
      "metadata": {},
      "outputs": [
        {
          "data": {
            "text/plain": [
              "(2618, 11)"
            ]
          },
          "execution_count": 11,
          "metadata": {},
          "output_type": "execute_result"
        }
      ],
      "source": [
        "df_2018 = df[df['year'] == 2018]\n",
        "df_2018.shape"
      ]
    },
    {
      "cell_type": "code",
      "execution_count": 12,
      "metadata": {},
      "outputs": [
        {
          "data": {
            "image/png": "[encoded data removed]",
            "text/plain": [
              "<Figure size 500x400 with 1 Axes>"
            ]
          },
          "metadata": {},
          "output_type": "display_data"
        }
      ],
      "source": [
        "# Distribution of ratings in 2018\n",
        "df_2018['rating'].value_counts().sort_index().plot(kind='bar', figsize=(5, 4))\n",
        "plt.title('Distribution of Ratings in 2018')\n",
        "plt.xlabel('Rating')\n",
        "plt.ylabel('Number of Reviews')\n",
        "plt.show()"
      ]
    },
    {
      "cell_type": "markdown",
      "metadata": {},
      "source": [
        "## Fitting BERTopic"
      ]
    },
    {
      "cell_type": "code",
      "execution_count": 13,
      "metadata": {},
      "outputs": [
        {
          "name": "stderr",
          "output_type": "stream",
          "text": [
            "OMP: Info #276: omp_set_nested routine deprecated, please use omp_set_max_active_levels instead.\n"
          ]
        },
        {
          "data": {
            "text/html": [
              "<div>\n",
              "<style scoped>\n",
              "    .dataframe tbody tr th:only-of-type {\n",
              "        vertical-align: middle;\n",
              "    }\n",
              "\n",
              "    .dataframe tbody tr th {\n",
              "        vertical-align: top;\n",
              "    }\n",
              "\n",
              "    .dataframe thead th {\n",
              "        text-align: right;\n",
              "    }\n",
              "</style>\n",
              "<table border=\"1\" class=\"dataframe\">\n",
              "  <thead>\n",
              "    <tr style=\"text-align: right;\">\n",
              "      <th></th>\n",
              "      <th>Topic</th>\n",
              "      <th>Count</th>\n",
              "      <th>Name</th>\n",
              "      <th>Representation</th>\n",
              "      <th>POS</th>\n",
              "      <th>MMR</th>\n",
              "      <th>Representative_Docs</th>\n",
              "    </tr>\n",
              "  </thead>\n",
              "  <tbody>\n",
              "    <tr>\n",
              "      <th>0</th>\n",
              "      <td>-1</td>\n",
              "      <td>1310</td>\n",
              "      <td>-1_booking_seats_passengers_seat</td>\n",
              "      <td>[booking, seats, passengers, seat, boarding, c...</td>\n",
              "      <td>[service, food, class, good, seat, time, seats...</td>\n",
              "      <td>[booking, boarding, lounge, business class, ca...</td>\n",
              "      <td>[My access online to select my dietary prefere...</td>\n",
              "    </tr>\n",
              "    <tr>\n",
              "      <th>1</th>\n",
              "      <td>0</td>\n",
              "      <td>586</td>\n",
              "      <td>0_comfortable seats_seats comfortable_cabin cr...</td>\n",
              "      <td>[comfortable seats, seats comfortable, cabin c...</td>\n",
              "      <td>[good, food, service, comfortable, staff, grea...</td>\n",
              "      <td>[seats comfortable, cabin crew, boarding, infl...</td>\n",
              "      <td>[I have used this airline a number of times an...</td>\n",
              "    </tr>\n",
              "    <tr>\n",
              "      <th>2</th>\n",
              "      <td>1</td>\n",
              "      <td>161</td>\n",
              "      <td>1_air canada_asia pacific_traveling_planes</td>\n",
              "      <td>[air canada, asia pacific, traveling, planes, ...</td>\n",
              "      <td>[service, good, best, food, great, staff, time...</td>\n",
              "      <td>[air canada, cabin crew, shanghai, thai, haul,...</td>\n",
              "      <td>[As long-haul travel veterans of over 40 years...</td>\n",
              "    </tr>\n",
              "    <tr>\n",
              "      <th>3</th>\n",
              "      <td>2</td>\n",
              "      <td>87</td>\n",
              "      <td>2_food quality_service friendly_cabin_entertai...</td>\n",
              "      <td>[food quality, service friendly, cabin, entert...</td>\n",
              "      <td>[service, good, food, experience, crew, great,...</td>\n",
              "      <td>[food quality, service friendly, entertainment...</td>\n",
              "      <td>[We have been loyal supporters of SQ for many ...</td>\n",
              "    </tr>\n",
              "    <tr>\n",
              "      <th>4</th>\n",
              "      <td>3</td>\n",
              "      <td>85</td>\n",
              "      <td>3_singaporeair_changi airport_plane good_changi</td>\n",
              "      <td>[singaporeair, changi airport, plane good, cha...</td>\n",
              "      <td>[food, good, great, staff, movies, time, servi...</td>\n",
              "      <td>[singaporeair, changi airport, plane good, cab...</td>\n",
              "      <td>[I have reviewed my hotel separately but the w...</td>\n",
              "    </tr>\n",
              "    <tr>\n",
              "      <th>5</th>\n",
              "      <td>4</td>\n",
              "      <td>84</td>\n",
              "      <td>4_qantas emirates_qantas_better melbourne_sydney</td>\n",
              "      <td>[qantas emirates, qantas, better melbourne, sy...</td>\n",
              "      <td>[brisbane, good, service, food, great, staff, ...</td>\n",
              "      <td>[qantas emirates, recommend brisbane, use melb...</td>\n",
              "      <td>[We actually flew PE from Brisbane to London a...</td>\n",
              "    </tr>\n",
              "    <tr>\n",
              "      <th>6</th>\n",
              "      <td>5</td>\n",
              "      <td>73</td>\n",
              "      <td>5_passengers_boarding_serving_meals</td>\n",
              "      <td>[passengers, boarding, serving, meals, attenda...</td>\n",
              "      <td>[time, staff, meal, hours, food, delay, hour, ...</td>\n",
              "      <td>[boarding, serving, attendant, airport, snacks...</td>\n",
              "      <td>[My family of five have had good experiences w...</td>\n",
              "    </tr>\n",
              "    <tr>\n",
              "      <th>7</th>\n",
              "      <td>6</td>\n",
              "      <td>71</td>\n",
              "      <td>6_a380 good_a380 seat_a380 aircraft_love a380</td>\n",
              "      <td>[a380 good, a380 seat, a380 aircraft, love a38...</td>\n",
              "      <td>[good, food, service, seats, new, seat, airbus...</td>\n",
              "      <td>[a380 seat, a380 aircraft, friendly a380, a380...</td>\n",
              "      <td>[Longhaul economy is a tough gig at the best o...</td>\n",
              "    </tr>\n",
              "    <tr>\n",
              "      <th>8</th>\n",
              "      <td>7</td>\n",
              "      <td>34</td>\n",
              "      <td>7_economy seating_economy premium_economy seat...</td>\n",
              "      <td>[economy seating, economy premium, economy sea...</td>\n",
              "      <td>[economy, premium, premium economy, seats, goo...</td>\n",
              "      <td>[economy premium, economy seats, economy passe...</td>\n",
              "      <td>[We had booked economy but were offered an upg...</td>\n",
              "    </tr>\n",
              "    <tr>\n",
              "      <th>9</th>\n",
              "      <td>8</td>\n",
              "      <td>30</td>\n",
              "      <td>8_premium economy_economy seat_aircraft premiu...</td>\n",
              "      <td>[premium economy, economy seat, aircraft premi...</td>\n",
              "      <td>[economy, premium, premium economy, leg, seats...</td>\n",
              "      <td>[premium economy, economy seat, aircraft premi...</td>\n",
              "      <td>[Recently flew premium economy on Singapore Ai...</td>\n",
              "    </tr>\n",
              "    <tr>\n",
              "      <th>10</th>\n",
              "      <td>9</td>\n",
              "      <td>30</td>\n",
              "      <td>9_business lounge_lounge access_lounge_class l...</td>\n",
              "      <td>[business lounge, lounge access, lounge, class...</td>\n",
              "      <td>[business, class, lounge, service, bed, food, ...</td>\n",
              "      <td>[business lounge, seatings, meals served, clas...</td>\n",
              "      <td>[I am considering the both up and down flights...</td>\n",
              "    </tr>\n",
              "    <tr>\n",
              "      <th>11</th>\n",
              "      <td>10</td>\n",
              "      <td>22</td>\n",
              "      <td>10_international culinary_destination culinary...</td>\n",
              "      <td>[international culinary, destination culinary,...</td>\n",
              "      <td>[class, business, chefs, experience, service, ...</td>\n",
              "      <td>[destination culinary, business class, pe serv...</td>\n",
              "      <td>[Been on a few PE flights.  The first trip fro...</td>\n",
              "    </tr>\n",
              "    <tr>\n",
              "      <th>12</th>\n",
              "      <td>11</td>\n",
              "      <td>17</td>\n",
              "      <td>11_seats comfortable_stewardesses good_amazing...</td>\n",
              "      <td>[seats comfortable, stewardesses good, amazing...</td>\n",
              "      <td>[comfortable, good, food, time, entertainment,...</td>\n",
              "      <td>[seats comfortable, stewardesses good, istanbu...</td>\n",
              "      <td>[I love Singapore Airlines. The service is sup...</td>\n",
              "    </tr>\n",
              "    <tr>\n",
              "      <th>13</th>\n",
              "      <td>12</td>\n",
              "      <td>17</td>\n",
              "      <td>12_seats duty_assigning seats_booking_seats</td>\n",
              "      <td>[seats duty, assigning seats, booking, seats, ...</td>\n",
              "      <td>[seats, adjacent seats, seat, adjacent, call, ...</td>\n",
              "      <td>[assigning seats, single booking, wife allocat...</td>\n",
              "      <td>[My husband and I travelled from Singapore to ...</td>\n",
              "    </tr>\n",
              "    <tr>\n",
              "      <th>14</th>\n",
              "      <td>13</td>\n",
              "      <td>11</td>\n",
              "      <td>13_premium economy_airport_onboard service_bus...</td>\n",
              "      <td>[premium economy, airport, onboard service, bu...</td>\n",
              "      <td>[class, business, economy, elements, great, ho...</td>\n",
              "      <td>[premium economy, airport, onboard service, wi...</td>\n",
              "      <td>[I recently flew with Singapore airlines Sydne...</td>\n",
              "    </tr>\n",
              "  </tbody>\n",
              "</table>\n",
              "</div>"
            ],
            "text/plain": [
              "    Topic  Count                                               Name  \\\n",
              "0      -1   1310                   -1_booking_seats_passengers_seat   \n",
              "1       0    586  0_comfortable seats_seats comfortable_cabin cr...   \n",
              "2       1    161         1_air canada_asia pacific_traveling_planes   \n",
              "3       2     87  2_food quality_service friendly_cabin_entertai...   \n",
              "4       3     85    3_singaporeair_changi airport_plane good_changi   \n",
              "5       4     84   4_qantas emirates_qantas_better melbourne_sydney   \n",
              "6       5     73                5_passengers_boarding_serving_meals   \n",
              "7       6     71      6_a380 good_a380 seat_a380 aircraft_love a380   \n",
              "8       7     34  7_economy seating_economy premium_economy seat...   \n",
              "9       8     30  8_premium economy_economy seat_aircraft premiu...   \n",
              "10      9     30  9_business lounge_lounge access_lounge_class l...   \n",
              "11     10     22  10_international culinary_destination culinary...   \n",
              "12     11     17  11_seats comfortable_stewardesses good_amazing...   \n",
              "13     12     17        12_seats duty_assigning seats_booking_seats   \n",
              "14     13     11  13_premium economy_airport_onboard service_bus...   \n",
              "\n",
              "                                       Representation  \\\n",
              "0   [booking, seats, passengers, seat, boarding, c...   \n",
              "1   [comfortable seats, seats comfortable, cabin c...   \n",
              "2   [air canada, asia pacific, traveling, planes, ...   \n",
              "3   [food quality, service friendly, cabin, entert...   \n",
              "4   [singaporeair, changi airport, plane good, cha...   \n",
              "5   [qantas emirates, qantas, better melbourne, sy...   \n",
              "6   [passengers, boarding, serving, meals, attenda...   \n",
              "7   [a380 good, a380 seat, a380 aircraft, love a38...   \n",
              "8   [economy seating, economy premium, economy sea...   \n",
              "9   [premium economy, economy seat, aircraft premi...   \n",
              "10  [business lounge, lounge access, lounge, class...   \n",
              "11  [international culinary, destination culinary,...   \n",
              "12  [seats comfortable, stewardesses good, amazing...   \n",
              "13  [seats duty, assigning seats, booking, seats, ...   \n",
              "14  [premium economy, airport, onboard service, bu...   \n",
              "\n",
              "                                                  POS  \\\n",
              "0   [service, food, class, good, seat, time, seats...   \n",
              "1   [good, food, service, comfortable, staff, grea...   \n",
              "2   [service, good, best, food, great, staff, time...   \n",
              "3   [service, good, food, experience, crew, great,...   \n",
              "4   [food, good, great, staff, movies, time, servi...   \n",
              "5   [brisbane, good, service, food, great, staff, ...   \n",
              "6   [time, staff, meal, hours, food, delay, hour, ...   \n",
              "7   [good, food, service, seats, new, seat, airbus...   \n",
              "8   [economy, premium, premium economy, seats, goo...   \n",
              "9   [economy, premium, premium economy, leg, seats...   \n",
              "10  [business, class, lounge, service, bed, food, ...   \n",
              "11  [class, business, chefs, experience, service, ...   \n",
              "12  [comfortable, good, food, time, entertainment,...   \n",
              "13  [seats, adjacent seats, seat, adjacent, call, ...   \n",
              "14  [class, business, economy, elements, great, ho...   \n",
              "\n",
              "                                                  MMR  \\\n",
              "0   [booking, boarding, lounge, business class, ca...   \n",
              "1   [seats comfortable, cabin crew, boarding, infl...   \n",
              "2   [air canada, cabin crew, shanghai, thai, haul,...   \n",
              "3   [food quality, service friendly, entertainment...   \n",
              "4   [singaporeair, changi airport, plane good, cab...   \n",
              "5   [qantas emirates, recommend brisbane, use melb...   \n",
              "6   [boarding, serving, attendant, airport, snacks...   \n",
              "7   [a380 seat, a380 aircraft, friendly a380, a380...   \n",
              "8   [economy premium, economy seats, economy passe...   \n",
              "9   [premium economy, economy seat, aircraft premi...   \n",
              "10  [business lounge, seatings, meals served, clas...   \n",
              "11  [destination culinary, business class, pe serv...   \n",
              "12  [seats comfortable, stewardesses good, istanbu...   \n",
              "13  [assigning seats, single booking, wife allocat...   \n",
              "14  [premium economy, airport, onboard service, wi...   \n",
              "\n",
              "                                  Representative_Docs  \n",
              "0   [My access online to select my dietary prefere...  \n",
              "1   [I have used this airline a number of times an...  \n",
              "2   [As long-haul travel veterans of over 40 years...  \n",
              "3   [We have been loyal supporters of SQ for many ...  \n",
              "4   [I have reviewed my hotel separately but the w...  \n",
              "5   [We actually flew PE from Brisbane to London a...  \n",
              "6   [My family of five have had good experiences w...  \n",
              "7   [Longhaul economy is a tough gig at the best o...  \n",
              "8   [We had booked economy but were offered an upg...  \n",
              "9   [Recently flew premium economy on Singapore Ai...  \n",
              "10  [I am considering the both up and down flights...  \n",
              "11  [Been on a few PE flights.  The first trip fro...  \n",
              "12  [I love Singapore Airlines. The service is sup...  \n",
              "13  [My husband and I travelled from Singapore to ...  \n",
              "14  [I recently flew with Singapore airlines Sydne...  "
            ]
          },
          "execution_count": 13,
          "metadata": {},
          "output_type": "execute_result"
        }
      ],
      "source": [
        "topics, probs = topic_model.fit_transform(df_2018['text'])\n",
        "topic_model.get_topic_info()"
      ]
    },
    {
      "cell_type": "code",
      "execution_count": 14,
      "metadata": {},
      "outputs": [
        {
          "data": {
            "text/plain": [
              "{'Main': [('comfortable seats', np.float32(0.550828)),\n",
              "  ('seats comfortable', np.float32(0.5354465)),\n",
              "  ('cabin crew', np.float32(0.47347677)),\n",
              "  ('seats', np.float32(0.47203565)),\n",
              "  ('cabin', np.float32(0.45106977)),\n",
              "  ('service great', np.float32(0.45078248)),\n",
              "  ('boarding', np.float32(0.4475733)),\n",
              "  ('aircraft', np.float32(0.43733245)),\n",
              "  ('inflight', np.float32(0.42843637)),\n",
              "  ('service good', np.float32(0.42183906))],\n",
              " 'POS': [('good', np.float64(0.018725772230942545)),\n",
              "  ('food', np.float64(0.018521903660200068)),\n",
              "  ('service', np.float64(0.017467770533062747)),\n",
              "  ('comfortable', np.float64(0.012586803675445275)),\n",
              "  ('staff', np.float64(0.012445485658475489)),\n",
              "  ('great', np.float64(0.012355873278512194)),\n",
              "  ('seats', np.float64(0.010009245776072144)),\n",
              "  ('excellent', np.float64(0.009798508876078702)),\n",
              "  ('crew', np.float64(0.009551095037416244)),\n",
              "  ('friendly', np.float64(0.009484592745864698))],\n",
              " 'MMR': [('seats comfortable', np.float32(0.5354465)),\n",
              "  ('cabin crew', np.float32(0.47347677)),\n",
              "  ('boarding', np.float32(0.4475733)),\n",
              "  ('inflight', np.float32(0.42843637)),\n",
              "  ('great service', np.float32(0.41124222)),\n",
              "  ('pleasant', np.float32(0.32754567)),\n",
              "  ('leg room', np.float32(0.32048446)),\n",
              "  ('food good', np.float32(0.30206713)),\n",
              "  ('trip', np.float32(0.3001051)),\n",
              "  ('staff friendly', np.float32(0.27543223))]}"
            ]
          },
          "execution_count": 14,
          "metadata": {},
          "output_type": "execute_result"
        }
      ],
      "source": [
        "topic_model.get_topic(0, full=True)"
      ]
    },
    {
      "cell_type": "code",
      "execution_count": 15,
      "metadata": {},
      "outputs": [
        {
          "data": {
            "text/plain": [
              "{'Main': [('seats duty', np.float32(0.47819254)),\n",
              "  ('assigning seats', np.float32(0.46043864)),\n",
              "  ('booking', np.float32(0.44717982)),\n",
              "  ('seats', np.float32(0.42672962)),\n",
              "  ('single booking', np.float32(0.4232302)),\n",
              "  ('adjacent seats', np.float32(0.42095295)),\n",
              "  ('seats though', np.float32(0.37602606)),\n",
              "  ('seat', np.float32(0.34004915)),\n",
              "  ('booked', np.float32(0.33099553)),\n",
              "  ('ticket', np.float32(0.28909126))],\n",
              " 'POS': [('seats', np.float64(0.019365520030276816)),\n",
              "  ('adjacent seats', np.float64(0.01743395292921456)),\n",
              "  ('seat', np.float64(0.014510369704401142)),\n",
              "  ('adjacent', np.float64(0.01301817310891656)),\n",
              "  ('call', np.float64(0.010636192344179373)),\n",
              "  ('single booking', np.float64(0.009724923806220281)),\n",
              "  ('husband', np.float64(0.009659885934270699)),\n",
              "  ('email', np.float64(0.00952778639252905)),\n",
              "  ('ticket', np.float64(0.009389201168340125)),\n",
              "  ('higher price', np.float64(0.008911993822937647))],\n",
              " 'MMR': [('assigning seats', np.float32(0.46043864)),\n",
              "  ('single booking', np.float32(0.4232302)),\n",
              "  ('wife allocated', np.float32(0.26791918)),\n",
              "  ('bestjet', np.float32(0.25076815)),\n",
              "  ('swap', np.float32(0.19039212)),\n",
              "  ('duty manager', np.float32(0.17733304)),\n",
              "  ('neck cushion', np.float32(0.17281193)),\n",
              "  ('refused refused', np.float32(0.16482547)),\n",
              "  ('issue', np.float32(0.1630868)),\n",
              "  ('manila', np.float32(0.15928818))]}"
            ]
          },
          "execution_count": 15,
          "metadata": {},
          "output_type": "execute_result"
        }
      ],
      "source": [
        "topic_model.get_topic(12, full=True)"
      ]
    },
    {
      "cell_type": "markdown",
      "metadata": {},
      "source": [
        "## Adjusting approach\n",
        "\n",
        " From the initial topic extraction, we can understand the general subjects of the reviews.  \n",
        "  \n",
        " However, determining whether these topics are commented positively or negatively—and uncovering any deeper meaning—remains challenging.  \n",
        "  \n",
        " To address this, we will separate the analysis of topics in positive reviews from those in negative reviews.  \n",
        "  \n",
        " We can easily distinguish positive and negative reviews by their ratings: those rated 4 or 5 are considered positive, while those rated 1 or 2 are regarded as negative. \n",
        "  \n",
        " Reviews with a rating of 3 will be excluded, as their neutrality could distort the interpretation of the extracted topics."
      ]
    },
    {
      "cell_type": "markdown",
      "metadata": {},
      "source": [
        "## Fitting BERTopic on highly rated reviews"
      ]
    },
    {
      "cell_type": "code",
      "execution_count": 16,
      "metadata": {},
      "outputs": [
        {
          "name": "stdout",
          "output_type": "stream",
          "text": [
            "Total number of 2018 positive review: 2183\n"
          ]
        }
      ],
      "source": [
        "df_2018_rating_4_5 = df_2018[df_2018['rating'].isin([4, 5])]\n",
        "print(\"Total number of 2018 positive review:\" , df_2018_rating_4_5.shape[0])"
      ]
    },
    {
      "cell_type": "code",
      "execution_count": 17,
      "metadata": {},
      "outputs": [],
      "source": [
        "topics, probs = topic_model.fit_transform(df_2018_rating_4_5['text'])"
      ]
    },
    {
      "cell_type": "code",
      "execution_count": 18,
      "metadata": {},
      "outputs": [
        {
          "data": {
            "text/html": [
              "<div>\n",
              "<style scoped>\n",
              "    .dataframe tbody tr th:only-of-type {\n",
              "        vertical-align: middle;\n",
              "    }\n",
              "\n",
              "    .dataframe tbody tr th {\n",
              "        vertical-align: top;\n",
              "    }\n",
              "\n",
              "    .dataframe thead th {\n",
              "        text-align: right;\n",
              "    }\n",
              "</style>\n",
              "<table border=\"1\" class=\"dataframe\">\n",
              "  <thead>\n",
              "    <tr style=\"text-align: right;\">\n",
              "      <th></th>\n",
              "      <th>Topic</th>\n",
              "      <th>Count</th>\n",
              "      <th>Name</th>\n",
              "      <th>Representation</th>\n",
              "      <th>POS</th>\n",
              "      <th>MMR</th>\n",
              "      <th>Representative_Docs</th>\n",
              "    </tr>\n",
              "  </thead>\n",
              "  <tbody>\n",
              "    <tr>\n",
              "      <th>0</th>\n",
              "      <td>-1</td>\n",
              "      <td>362</td>\n",
              "      <td>-1_boarding_lounge_airport_cabin</td>\n",
              "      <td>[boarding, lounge, airport, cabin, seats, chan...</td>\n",
              "      <td>[service, good, food, time, seats, economy, gr...</td>\n",
              "      <td>[boarding, lounge, seats, changi airport, cabi...</td>\n",
              "      <td>[I used Singapore Airlines this time flying fr...</td>\n",
              "    </tr>\n",
              "    <tr>\n",
              "      <th>1</th>\n",
              "      <td>0</td>\n",
              "      <td>1064</td>\n",
              "      <td>0_changi airport_passengers_boarding_cabin crew</td>\n",
              "      <td>[changi airport, passengers, boarding, cabin c...</td>\n",
              "      <td>[service, good, food, time, economy, staff, cl...</td>\n",
              "      <td>[changi airport, cabin crew, plane, premium ec...</td>\n",
              "      <td>[Very efficient crew. Excellent service. Good ...</td>\n",
              "    </tr>\n",
              "    <tr>\n",
              "      <th>2</th>\n",
              "      <td>1</td>\n",
              "      <td>567</td>\n",
              "      <td>1_comfortable seats_seats comfortable_cabin cr...</td>\n",
              "      <td>[comfortable seats, seats comfortable, cabin c...</td>\n",
              "      <td>[good, food, service, staff, comfortable, grea...</td>\n",
              "      <td>[seats comfortable, cabin crew, boarding, food...</td>\n",
              "      <td>[Very pleasant flight, great service from cabi...</td>\n",
              "    </tr>\n",
              "    <tr>\n",
              "      <th>3</th>\n",
              "      <td>2</td>\n",
              "      <td>88</td>\n",
              "      <td>2_friendly a380_a380 great_seating plan_seating</td>\n",
              "      <td>[friendly a380, a380 great, seating plan, seat...</td>\n",
              "      <td>[a380, good, seat, food, service, seats, comfo...</td>\n",
              "      <td>[friendly a380, seating plan, airbus a380, arm...</td>\n",
              "      <td>[The Singapore Airlines A380 flight from Singa...</td>\n",
              "    </tr>\n",
              "    <tr>\n",
              "      <th>4</th>\n",
              "      <td>3</td>\n",
              "      <td>82</td>\n",
              "      <td>3_food quality_cabin_bangkok_cabin crew</td>\n",
              "      <td>[food quality, cabin, bangkok, cabin crew, lan...</td>\n",
              "      <td>[service, good, food, great, time, experience,...</td>\n",
              "      <td>[food quality, bangkok, cabin crew, lounge, lo...</td>\n",
              "      <td>[We have been loyal supporters of SQ for many ...</td>\n",
              "    </tr>\n",
              "    <tr>\n",
              "      <th>5</th>\n",
              "      <td>4</td>\n",
              "      <td>20</td>\n",
              "      <td>4_international culinary_destination culinary_...</td>\n",
              "      <td>[international culinary, destination culinary,...</td>\n",
              "      <td>[service, great, economy, business, class, bes...</td>\n",
              "      <td>[destination culinary, inflight, chefs ample, ...</td>\n",
              "      <td>[Whilst I am a top tier frequent flyer with SI...</td>\n",
              "    </tr>\n",
              "  </tbody>\n",
              "</table>\n",
              "</div>"
            ],
            "text/plain": [
              "   Topic  Count                                               Name  \\\n",
              "0     -1    362                   -1_boarding_lounge_airport_cabin   \n",
              "1      0   1064    0_changi airport_passengers_boarding_cabin crew   \n",
              "2      1    567  1_comfortable seats_seats comfortable_cabin cr...   \n",
              "3      2     88    2_friendly a380_a380 great_seating plan_seating   \n",
              "4      3     82            3_food quality_cabin_bangkok_cabin crew   \n",
              "5      4     20  4_international culinary_destination culinary_...   \n",
              "\n",
              "                                      Representation  \\\n",
              "0  [boarding, lounge, airport, cabin, seats, chan...   \n",
              "1  [changi airport, passengers, boarding, cabin c...   \n",
              "2  [comfortable seats, seats comfortable, cabin c...   \n",
              "3  [friendly a380, a380 great, seating plan, seat...   \n",
              "4  [food quality, cabin, bangkok, cabin crew, lan...   \n",
              "5  [international culinary, destination culinary,...   \n",
              "\n",
              "                                                 POS  \\\n",
              "0  [service, good, food, time, seats, economy, gr...   \n",
              "1  [service, good, food, time, economy, staff, cl...   \n",
              "2  [good, food, service, staff, comfortable, grea...   \n",
              "3  [a380, good, seat, food, service, seats, comfo...   \n",
              "4  [service, good, food, great, time, experience,...   \n",
              "5  [service, great, economy, business, class, bes...   \n",
              "\n",
              "                                                 MMR  \\\n",
              "0  [boarding, lounge, seats, changi airport, cabi...   \n",
              "1  [changi airport, cabin crew, plane, premium ec...   \n",
              "2  [seats comfortable, cabin crew, boarding, food...   \n",
              "3  [friendly a380, seating plan, airbus a380, arm...   \n",
              "4  [food quality, bangkok, cabin crew, lounge, lo...   \n",
              "5  [destination culinary, inflight, chefs ample, ...   \n",
              "\n",
              "                                 Representative_Docs  \n",
              "0  [I used Singapore Airlines this time flying fr...  \n",
              "1  [Very efficient crew. Excellent service. Good ...  \n",
              "2  [Very pleasant flight, great service from cabi...  \n",
              "3  [The Singapore Airlines A380 flight from Singa...  \n",
              "4  [We have been loyal supporters of SQ for many ...  \n",
              "5  [Whilst I am a top tier frequent flyer with SI...  "
            ]
          },
          "execution_count": 18,
          "metadata": {},
          "output_type": "execute_result"
        }
      ],
      "source": [
        "topic_model.get_topic_info()"
      ]
    },
    {
      "cell_type": "code",
      "execution_count": 19,
      "metadata": {},
      "outputs": [
        {
          "data": {
            "text/plain": [
              "{'Main': [('international culinary', np.float32(0.36980015)),\n",
              "  ('destination culinary', np.float32(0.36201492)),\n",
              "  ('inflight', np.float32(0.30521756)),\n",
              "  ('chefs ample', np.float32(0.29716662)),\n",
              "  ('culinary', np.float32(0.2791122)),\n",
              "  ('business class', np.float32(0.2731637)),\n",
              "  ('various international', np.float32(0.2563039)),\n",
              "  ('culinary chefs', np.float32(0.25336623)),\n",
              "  ('cabin', np.float32(0.24489602)),\n",
              "  ('trip first', np.float32(0.2448817))],\n",
              " 'POS': [('service', np.float64(0.018587669507428947)),\n",
              "  ('great', np.float64(0.01803470184793814)),\n",
              "  ('economy', np.float64(0.01687353912388805)),\n",
              "  ('business', np.float64(0.016756080633568073)),\n",
              "  ('class', np.float64(0.015379109553386425)),\n",
              "  ('best', np.float64(0.014266070684388975)),\n",
              "  ('chefs', np.float64(0.01366440286854477)),\n",
              "  ('crew', np.float64(0.013522390922383633)),\n",
              "  ('seats', np.float64(0.013162876362473758)),\n",
              "  ('first', np.float64(0.012816608050609113))],\n",
              " 'MMR': [('destination culinary', np.float32(0.36201492)),\n",
              "  ('inflight', np.float32(0.30521756)),\n",
              "  ('chefs ample', np.float32(0.29716662)),\n",
              "  ('business class', np.float32(0.2731637)),\n",
              "  ('various international', np.float32(0.2563039)),\n",
              "  ('flyer 100s', np.float32(0.22371739)),\n",
              "  ('review like', np.float32(0.21732685)),\n",
              "  ('top tier', np.float32(0.2074323)),\n",
              "  ('coffee best', np.float32(0.19576631)),\n",
              "  ('crew', np.float32(0.18924822))]}"
            ]
          },
          "execution_count": 19,
          "metadata": {},
          "output_type": "execute_result"
        }
      ],
      "source": [
        "topic_model.get_topic(4, full=True)"
      ]
    },
    {
      "cell_type": "code",
      "execution_count": 20,
      "metadata": {},
      "outputs": [
        {
          "data": {
            "text/plain": [
              "['Very pleasant flight, great service from cabin crew, food very good and choice available. Comfortable seat and leg room. Wide choice of entertainment during flight. Would wholeheartedly recommend this airline.',\n",
              " 'Seats were comfortable Cabin Crew were friendly and helpful and food was good Entertainment selection of movies were good I had a good flight',\n",
              " 'Service was extremely good. The staff friendly, food was good and enough for the trip. There was a good amount of leg room for an economy flight.']"
            ]
          },
          "execution_count": 20,
          "metadata": {},
          "output_type": "execute_result"
        }
      ],
      "source": [
        "topic_model.get_representative_docs(1)"
      ]
    },
    {
      "cell_type": "markdown",
      "metadata": {},
      "source": [
        "## Fitting BERTopic on lowly rated reviews"
      ]
    },
    {
      "cell_type": "code",
      "execution_count": 21,
      "metadata": {},
      "outputs": [
        {
          "name": "stdout",
          "output_type": "stream",
          "text": [
            "Total number of 2018 negative review: 203\n"
          ]
        }
      ],
      "source": [
        "df_2018_rating_1_2 = df_2018[df_2018['rating'].isin([1, 2])]\n",
        "print(\"Total number of 2018 negative review:\" , df_2018_rating_1_2.shape[0])"
      ]
    },
    {
      "cell_type": "code",
      "execution_count": 22,
      "metadata": {},
      "outputs": [],
      "source": [
        "topics, probs = topic_model.fit_transform(df_2018_rating_1_2['text'])"
      ]
    },
    {
      "cell_type": "code",
      "execution_count": 23,
      "metadata": {},
      "outputs": [
        {
          "data": {
            "text/html": [
              "<div>\n",
              "<style scoped>\n",
              "    .dataframe tbody tr th:only-of-type {\n",
              "        vertical-align: middle;\n",
              "    }\n",
              "\n",
              "    .dataframe tbody tr th {\n",
              "        vertical-align: top;\n",
              "    }\n",
              "\n",
              "    .dataframe thead th {\n",
              "        text-align: right;\n",
              "    }\n",
              "</style>\n",
              "<table border=\"1\" class=\"dataframe\">\n",
              "  <thead>\n",
              "    <tr style=\"text-align: right;\">\n",
              "      <th></th>\n",
              "      <th>Topic</th>\n",
              "      <th>Count</th>\n",
              "      <th>Name</th>\n",
              "      <th>Representation</th>\n",
              "      <th>POS</th>\n",
              "      <th>MMR</th>\n",
              "      <th>Representative_Docs</th>\n",
              "    </tr>\n",
              "  </thead>\n",
              "  <tbody>\n",
              "    <tr>\n",
              "      <th>0</th>\n",
              "      <td>-1</td>\n",
              "      <td>85</td>\n",
              "      <td>-1_booking_seats_passengers_adjacent seats</td>\n",
              "      <td>[booking, seats, passengers, adjacent seats, a...</td>\n",
              "      <td>[seat, business, class, seats, service, bookin...</td>\n",
              "      <td>[booking, passengers, adjacent seats, business...</td>\n",
              "      <td>[This review is to highlight a possibly planne...</td>\n",
              "    </tr>\n",
              "    <tr>\n",
              "      <th>1</th>\n",
              "      <td>0</td>\n",
              "      <td>70</td>\n",
              "      <td>0_passengers_boarding_cabin crew_cabin</td>\n",
              "      <td>[passengers, boarding, cabin crew, cabin, bagg...</td>\n",
              "      <td>[seat, service, crew, time, delay, hours, seat...</td>\n",
              "      <td>[passengers, baggage, meal, behaviour, guangzh...</td>\n",
              "      <td>[Hello there,\\nMy details\\nPNR:-RD48F5\\nFLIGHT...</td>\n",
              "    </tr>\n",
              "    <tr>\n",
              "      <th>2</th>\n",
              "      <td>1</td>\n",
              "      <td>48</td>\n",
              "      <td>1_economy seat_premium economy_economy leg_eco...</td>\n",
              "      <td>[economy seat, premium economy, economy leg, e...</td>\n",
              "      <td>[economy, premium, seat, premium economy, clas...</td>\n",
              "      <td>[economy seat, emirates, economy lite, cathay ...</td>\n",
              "      <td>[Chose to fly Singapore Airlines because it wa...</td>\n",
              "    </tr>\n",
              "  </tbody>\n",
              "</table>\n",
              "</div>"
            ],
            "text/plain": [
              "   Topic  Count                                               Name  \\\n",
              "0     -1     85         -1_booking_seats_passengers_adjacent seats   \n",
              "1      0     70             0_passengers_boarding_cabin crew_cabin   \n",
              "2      1     48  1_economy seat_premium economy_economy leg_eco...   \n",
              "\n",
              "                                      Representation  \\\n",
              "0  [booking, seats, passengers, adjacent seats, a...   \n",
              "1  [passengers, boarding, cabin crew, cabin, bagg...   \n",
              "2  [economy seat, premium economy, economy leg, e...   \n",
              "\n",
              "                                                 POS  \\\n",
              "0  [seat, business, class, seats, service, bookin...   \n",
              "1  [seat, service, crew, time, delay, hours, seat...   \n",
              "2  [economy, premium, seat, premium economy, clas...   \n",
              "\n",
              "                                                 MMR  \\\n",
              "0  [booking, passengers, adjacent seats, business...   \n",
              "1  [passengers, baggage, meal, behaviour, guangzh...   \n",
              "2  [economy seat, emirates, economy lite, cathay ...   \n",
              "\n",
              "                                 Representative_Docs  \n",
              "0  [This review is to highlight a possibly planne...  \n",
              "1  [Hello there,\\nMy details\\nPNR:-RD48F5\\nFLIGHT...  \n",
              "2  [Chose to fly Singapore Airlines because it wa...  "
            ]
          },
          "execution_count": 23,
          "metadata": {},
          "output_type": "execute_result"
        }
      ],
      "source": [
        "topic_model.get_topic_info()"
      ]
    },
    {
      "cell_type": "code",
      "execution_count": 24,
      "metadata": {},
      "outputs": [
        {
          "data": {
            "text/plain": [
              "{'Main': [('economy seat', np.float32(0.43893817)),\n",
              "  ('premium economy', np.float32(0.41533595)),\n",
              "  ('economy leg', np.float32(0.3650755)),\n",
              "  ('economy class', np.float32(0.35632327)),\n",
              "  ('emirates', np.float32(0.33633807)),\n",
              "  ('economy lite', np.float32(0.31330165)),\n",
              "  ('economy', np.float32(0.3124339)),\n",
              "  ('fare', np.float32(0.30196607)),\n",
              "  ('cathay pacific', np.float32(0.29700154)),\n",
              "  ('air nz', np.float32(0.28921002))],\n",
              " 'POS': [('economy', np.float64(0.053164486441813236)),\n",
              "  ('premium', np.float64(0.02855002607681806)),\n",
              "  ('seat', np.float64(0.024757652600049772)),\n",
              "  ('premium economy', np.float64(0.024653735575565102)),\n",
              "  ('class', np.float64(0.02350782173263968)),\n",
              "  ('service', np.float64(0.02342876830521387)),\n",
              "  ('food', np.float64(0.019074719984663625)),\n",
              "  ('seats', np.float64(0.018828500566352973)),\n",
              "  ('leg', np.float64(0.01878165825632659)),\n",
              "  ('good', np.float64(0.014480488130944125))],\n",
              " 'MMR': [('economy seat', np.float32(0.43893817)),\n",
              "  ('emirates', np.float32(0.33633807)),\n",
              "  ('economy lite', np.float32(0.31330165)),\n",
              "  ('cathay pacific', np.float32(0.29700154)),\n",
              "  ('air nz', np.float32(0.28921002)),\n",
              "  ('premium', np.float32(0.26852676)),\n",
              "  ('cramped', np.float32(0.2520552)),\n",
              "  ('business class', np.float32(0.23608467)),\n",
              "  ('plane', np.float32(0.23106445)),\n",
              "  ('disgraceful', np.float32(0.18815154))]}"
            ]
          },
          "execution_count": 24,
          "metadata": {},
          "output_type": "execute_result"
        }
      ],
      "source": [
        "topic_model.get_topic(1, full=True)"
      ]
    },
    {
      "cell_type": "code",
      "execution_count": 25,
      "metadata": {},
      "outputs": [
        {
          "data": {
            "text/plain": [
              "['Hello there,\\nMy details\\nPNR:-RD48F5\\nFLIGHT NO:-SQ851\\nNAME:-VITHLANI/MAYUR\\nDATE OF TRAVEL:-27-09-2018\\nDESTINATION:-GUANGZHOU TO SINGAPORE\\nFirst incident with Ms Manish abdul wahab(air hostess SQ851)\\nI travelled today afternoon from guangzhou to singapore while your air hotess serving food i request her can you give me extra butter if you have?\\nHer name is ms Manish abdul wahab\\nShe replied VERY VERY RUDELY we can’t serve you as we have to serve others and started serving other passengers.\\nI was like seriously is this a behaviour of singapore airline air hostess?it’s ok if you don’t wanna give but you should not treat a passenger like this.\\nI was getting direct flight from delhi(india) to guangzhou(china) in (total five hours journey) but why i selected singapore airlines via singapore (total journey time approximately nineteen hours) because of your airlines name and service.\\nBut very much disappointed with this type of your VERY RUDE BEHAVIOUR\\nIn very lower class airline also i have never faced this type of behaviour.\\n\\nSecond incident with Ms Manish abdul wahab\\nPNR:-RCW2ZV\\nFLIGHT NO:-SQ851\\nNAME:-THAKKAR/PRINUL\\nDATE OF TRAVEL:-27-09-2018\\nDESTINATION:-GUANGZHOU TO SINGAPORE\\nIn flight my screen remote was not working i asked Ms Manish abdul wahab can you fix it?\\nShe checked ane replied i am busy serving other customers i will get back to you in 5 to 10 minutes but till 30 minutes it was not fixed again i called other air hostess she tried to fix but it was not fixed so she replied i am really sorry sir i can’t fix it you don’t have any problem i can change your seat so you can use screen and she changed my seat.\\nThe point is if she (Ms Manish abdul) said i will get back to you why she did’t came back and her rude behaviour is NOT ACCEPTABLE AT ALL.\\n\\nBeacause of this type of BAD SERVICE my friend is having a flight from guangzhou-singapore-delhi he is not going to travel anymore \\nDetails\\nPNR:-RG5F3O\\nFLIGHT NO:-SQ851-SQ402\\nNAME:-PATEL/PRANAVKUMAR\\nDATE OF TRAVEL:-14,15-09-2018\\nDESTINATION:-GUANGZHOU TO SINGAPORE AND SINGAPORE TO DELHI\\nYou are going to loose customers if you hire this type of rude air hostess.',\n",
              " \"No one in my friends or family will ever travel on Singapore airlines.\\n\\nBut before I share my experience I would like to appreciate & thanks Singapore Airlines staff from Delhi.\\n\\nT3 Ground crew & check-in staff at Delhi airport is very friendly, polite humble & customer centric.\\n\\nCabin crew on outbound journey was polite, helpful and humble whenever we had the chance to interact with them few members were from India which made it easier for my elderly mom.\\n\\nI feel food quality and quantity was good as well. If I would have not returned on Singapore airlines I would have given them 5 star.\\n-------------------------------\\nAfter spending 7 beautiful days in Singapore and Malaysia with family I had to see the real side of Singapore airlines.\\n\\nOur check-in was quick thanks to Kiosk.\\n\\nCabin crew welcomed us aboard my mom and I got seated however during dinner when I asked one of the male cabin crew to assist my mom with her tray table his exact words were to ask my mom to remove the bag from her stomach due to which the tray table is not going fully flat, I told him it's her stomach not a bag and requested him if he could assist her in getting her tray flat as she is not able to do it all of a sudden he changed in a rude cabin crew started by saying don't tell me how to do my job I could not understand what was wrong with what I said.\\n\\nI was mid way eating if I could have helped her I wouldn't have asked him for assistances instead he tried to instigated me by charging on our seat and asked me to shut-up and have my dinner I could not believe my ears this statement and behaviour was St least not expected I was surprised no one has ever spoken to my so unprofessionally being a cabin crew that's the least I could have asked for.\\n\\nI didn't loose my cool during this altercation a senior cabin crew broke the argument and offered assistance suggesting he might have misunderstood something i might have said but nor the cabin crew or the senior cabin crew apologised for his unprofessional conduct.\\n\\nIf I or my family would have reacted in any different manner we would have been considered a passenger who didn't behave and was unruly.\\n\\nHATS OF TO SINGAPORE AIRLINES CABIN CREW AND THE MOOD SWINGS.\",\n",
              " 'I have been a fan and admirer of the Singapore Airlines for quite some time being based out of Singapore for the past 5 years (KrisFlyer# - 8838199955). However, my recent experience over a long haul flight has forced me to alter my perception of the conduct of the airline staff/the crew as well as the airlines itself.\\n \\nThis is with respect to a very unpleasant and downright horrible treatment meted out to my wife Paridhi Gupta and myself while we were travelling with an 17 month old infant. It was totally unexpected since Singapore in itself is one of the most kid friendliest places that I haven been to or lived in.\\n\\nRecently due to business reasons, we had to move out of Singapore and to US and despite having a longer flight duration and a higher premium than the competitors, we chose to book our flights with SQ. We had booked 3 Premium Economy Seats although my son (17 month old) isn\\'t required to have his own seat but for the sake of comfort/space and expected high standards of hospitality we did book an additional seat. Then I chose to upgrade my wife\\'s seat to Business Class using the KrisFlyer Miles since it was a 20+ hour journey that we were (taking not including a layover) and it was suggested to us by the customer service that it would be beneficial since our infant could accompany either of us as and when needed. So we ended up with a Business Class seat (with bassinet) and 2 Premium Economy seats on SQ 326 (SIN-FRA) & SQ 26 (FRA-NY) departing on 16th & 17th August 2018 resp.\\n\\nDuring the takeoff, we were told that Sparsh (my son) had to \"sit\" in the seat allotted to him and couldn\\'t be with his mother. It seemed unreasonable but regardless we agreed thinking that it is just for the takeoff as we had been repeatedly assured in my conversations with the customer service that my son could be with his mother as and when reqd over the entire journey (Hence the reason for the bassinet seat allocated to her). Soon after takeoff, we wanted to put Sparsh to sleep and for that it was essential that he was with his mother but Paridhi was refused to take Sparsh to her seat for a nap as it would be against the airline \"policies\" and it would disrupt the \"ambiance/atmosphere\" or \"travel experience\" for the other business class passengers. Our request was to allow him with my wife only for his nap/sleep so that they both could rest and sleep peacefully and we had assured the cabin crew that once awake he will be returned to the premium economy cabin and be with me while awake and \"noisier\". Despite repeated request and my son getting crankier by the minute due to lack of sleep, he was not allowed to be with my wife. At each and every step, my wife was made to feel as if she didn\\'t belong to the \"Business\" class and we should have booked the seats together to avoid the situation and as a result she felt embarrassed and humiliated.  \\n\\nSome of the reasons given to us for disallowing Sparsh to be with my wife were\\n1. Policy#1 - His \"seat\" is in Premium Economy and hence he cant travel business. Really? These rules are applicable for a 17 month old infant?\\n2. Sparsh would disrupt the \"ambiance/atmosphere\" of the business cabin\\n3. Our Business Class passengers will be disturbed by any potential \"noise\" made by Sparsh.\\n         a) Wasn\\'t my wife also a part of the elite business class group, even though she might have gotten her ticket by miles instead of cash? That shouldn\\'t matter in any case.\\n          b) Sparsh was well behaved and friendly and even amused most of the passengers. None of the passengers ever complained to our knowledge or to the crew\\'s knowledge which they admitted when asked if they had indeed received any complaints about a young infant being present in the business class cabin/area \\n4. Policy#2 - The crew wasn\\'t given any knowledge of an infant and they did not have his name \"tagged\" to the bassinet, and hence he could not be given the bassinet and hence could accompany my wife. \\n5. Policy#3 - Only Adults can switch seats (I could switch seats with my wife) but seats cant be switched between an adult and a kid. (The suggestion in itself was absurd so there was no \"switching\" involved. Sparsh could wither with me or my wife as he definitely cant be left unaccompanied)\\n\\nTwice, I left my son with my wife to be fed and put to sleep, but she was approached by the crew cabin within minutes (disrupting Sparsh\\'s light sleep in one instance) and was rudely asked to take Sparsh and go back to his seat. In the end, my wife sorely dejected and stressed out because of this whole experience decided to give up her seat and complete the first leg of the journey with me. \\n\\nThings continued to go downhill on the second leg of our journey (FRA - NY). We made sure to request the ground staff at Frankfurt airport to clearly convey the situation to the cabin crew so that he could be allocated a bassinet but we were told that this decision was solely up to the discretion of the flight crew. This happened despite the crew aboard SQ 326 assuring is that they will forward our request to SQ 26 about the bassinet so that we don\\'t face the same \"issues\"\\n\\nThe crew for SQ 26 seemed well mannered but were very aggressive at the same time in letting us know that in no circumstance Sparsh could be allowed in Business Class since he had his own seat in PE. \\n\\nI can\\'t help but make a note that both the legs of the journey were during the day which was intentional on our part so as to not inconvenience our fellow passengers during the night/sleep time, so the question/point about disrupting the ambiance of any area of the flight becomes downright absurd. We had also let the cabin crew in both flights know that in case they received a single complaint from any of the passengers regarding our son we were more than willing to talk to the concerned passenger(s) and addressing their complaints.\\n\\nAt the last 20 mins of the flight to NY, we were \"allowed\" to be seated in the business class so that we can be together while de-boarding. While this gesture is appreciated, it simply cannot make up for the harrowing experience we faced as a family. Sorely disillusioned and disappointed, we have vowed not only to never travel by SQ ever again but also the elite \"Business Class\" and also will ensure to create awareness amongst our friends with young kids to be careful while planning to travel with SQ.\\n\\nThe whole reason of this email nearly a month after our ordeal is to let the management know of the ground realities and hopefully this leads to a discussion and relaxation of any such rigid policies which could lead to a pleasant experience for travelers especially if a separate seat for an infant has been bought by naive parents. It just feels counter-intuitive that buying a separate seat for Sparsh led to this highly harrowing time for my family, whereas if we had chosen to stick with just 1 seat each for my wife and myself, things might have been simpler. What also struck was the inexplicable attitude of the crew, when dealing with us and refusing to accept the logic for our arguments that if a) being an infant (<2 Yrs old) Sparsh wasn\\'t mandated to have his own seat and would have been travelling with his mother had we opted not to buy a separate seat for him and b) trying to convey to us that even they understood our predicament their hands were tied due to to airline policies. \\n  \\nI do hope this is taken as a constructive criticism and some steps our taken to improve the policies as well as the hospitality shown by the crew to not only with families with young kids but all travelers with different circumstances.']"
            ]
          },
          "execution_count": 25,
          "metadata": {},
          "output_type": "execute_result"
        }
      ],
      "source": [
        "topic_model.get_representative_docs(0)"
      ]
    },
    {
      "cell_type": "markdown",
      "metadata": {},
      "source": [
        "## 2018 Summary\n",
        "- We can see that positive revies are more focused on in-flight service, especially from premium economy and business class passengers. These reviews praises the airline on their food, airplane seats, inflight entertainment, cabin crew attitude and overall experience flying with the airline.\n",
        "- On the other hand, negative reviews are coming from economy class and focused more on the airline's customer service, especially in terms of flight cancellations and delays. The reviews also mention the airline's baggage handling and check-in process. \n",
        "- Generally, Singapore Airline is performing well in terms of customer satisfaction. Despite there are complaints on the airline's customer service, the positive reviews outweigh the negative reviews, thus giving the airline a good rating.\n",
        "- This is an indication that while the airline is doing a good job serving its customers, there are still cases where customer are mistreated and the airline should focus on improving these certain areas."
      ]
    },
    {
      "cell_type": "markdown",
      "metadata": {},
      "source": [
        "# **2019**"
      ]
    },
    {
      "cell_type": "markdown",
      "metadata": {},
      "source": [
        "## Data Slicing"
      ]
    },
    {
      "cell_type": "code",
      "execution_count": 26,
      "metadata": {},
      "outputs": [],
      "source": [
        "df_2019 = df[df['year'] == 2019]"
      ]
    },
    {
      "cell_type": "code",
      "execution_count": 27,
      "metadata": {},
      "outputs": [
        {
          "data": {
            "image/png": "[encoded data removed]",
            "text/plain": [
              "<Figure size 500x400 with 1 Axes>"
            ]
          },
          "metadata": {},
          "output_type": "display_data"
        }
      ],
      "source": [
        "# Distribution of ratings in 2018\n",
        "df_2019['rating'].value_counts().sort_index().plot(kind='bar', figsize=(5, 4))\n",
        "plt.title('Distribution of Ratings in 2019')\n",
        "plt.xlabel('Rating')\n",
        "plt.ylabel('Number of Reviews')\n",
        "plt.show()"
      ]
    },
    {
      "cell_type": "markdown",
      "metadata": {},
      "source": [
        "## Fitting BERTopic on highly rated reviews"
      ]
    },
    {
      "cell_type": "code",
      "execution_count": 28,
      "metadata": {},
      "outputs": [
        {
          "name": "stdout",
          "output_type": "stream",
          "text": [
            "Total number of 2019 positive review: 4162\n"
          ]
        }
      ],
      "source": [
        "df_2019_rating_4_5 = df_2019[df_2019['rating'].isin([4, 5])]\n",
        "print(\"Total number of 2019 positive review:\" , df_2019_rating_4_5.shape[0])"
      ]
    },
    {
      "cell_type": "code",
      "execution_count": 29,
      "metadata": {},
      "outputs": [],
      "source": [
        "topics, probs = topic_model.fit_transform(df_2019_rating_4_5['text'])"
      ]
    },
    {
      "cell_type": "code",
      "execution_count": 30,
      "metadata": {},
      "outputs": [
        {
          "data": {
            "text/html": [
              "<div>\n",
              "<style scoped>\n",
              "    .dataframe tbody tr th:only-of-type {\n",
              "        vertical-align: middle;\n",
              "    }\n",
              "\n",
              "    .dataframe tbody tr th {\n",
              "        vertical-align: top;\n",
              "    }\n",
              "\n",
              "    .dataframe thead th {\n",
              "        text-align: right;\n",
              "    }\n",
              "</style>\n",
              "<table border=\"1\" class=\"dataframe\">\n",
              "  <thead>\n",
              "    <tr style=\"text-align: right;\">\n",
              "      <th></th>\n",
              "      <th>Topic</th>\n",
              "      <th>Count</th>\n",
              "      <th>Name</th>\n",
              "      <th>Representation</th>\n",
              "      <th>POS</th>\n",
              "      <th>MMR</th>\n",
              "      <th>Representative_Docs</th>\n",
              "    </tr>\n",
              "  </thead>\n",
              "  <tbody>\n",
              "    <tr>\n",
              "      <th>0</th>\n",
              "      <td>0</td>\n",
              "      <td>4098</td>\n",
              "      <td>0_seats comfortable_passengers_cabin_aircraft</td>\n",
              "      <td>[seats comfortable, passengers, cabin, aircraf...</td>\n",
              "      <td>[service, good, food, great, staff, time, seat...</td>\n",
              "      <td>[seats comfortable, airport, boarding, cabin c...</td>\n",
              "      <td>[Excellent service from all Singapore Airlines...</td>\n",
              "    </tr>\n",
              "    <tr>\n",
              "      <th>1</th>\n",
              "      <td>1</td>\n",
              "      <td>64</td>\n",
              "      <td>1_changi_service good_airport_service excellent</td>\n",
              "      <td>[changi, service good, airport, service excell...</td>\n",
              "      <td>[service, good, food, time, best, crew, great,...</td>\n",
              "      <td>[changi, service good, airport, passengers, se...</td>\n",
              "      <td>[The service in SIA is excellent, the best we ...</td>\n",
              "    </tr>\n",
              "  </tbody>\n",
              "</table>\n",
              "</div>"
            ],
            "text/plain": [
              "   Topic  Count                                             Name  \\\n",
              "0      0   4098    0_seats comfortable_passengers_cabin_aircraft   \n",
              "1      1     64  1_changi_service good_airport_service excellent   \n",
              "\n",
              "                                      Representation  \\\n",
              "0  [seats comfortable, passengers, cabin, aircraf...   \n",
              "1  [changi, service good, airport, service excell...   \n",
              "\n",
              "                                                 POS  \\\n",
              "0  [service, good, food, great, staff, time, seat...   \n",
              "1  [service, good, food, time, best, crew, great,...   \n",
              "\n",
              "                                                 MMR  \\\n",
              "0  [seats comfortable, airport, boarding, cabin c...   \n",
              "1  [changi, service good, airport, passengers, se...   \n",
              "\n",
              "                                 Representative_Docs  \n",
              "0  [Excellent service from all Singapore Airlines...  \n",
              "1  [The service in SIA is excellent, the best we ...  "
            ]
          },
          "execution_count": 30,
          "metadata": {},
          "output_type": "execute_result"
        }
      ],
      "source": [
        "topic_model.get_topic_info()"
      ]
    },
    {
      "cell_type": "code",
      "execution_count": 31,
      "metadata": {},
      "outputs": [
        {
          "data": {
            "text/plain": [
              "{'Main': [('seats comfortable', np.float32(0.48590735)),\n",
              "  ('passengers', np.float32(0.38692927)),\n",
              "  ('cabin', np.float32(0.3771889)),\n",
              "  ('aircraft', np.float32(0.36575368)),\n",
              "  ('seats', np.float32(0.3651015)),\n",
              "  ('airport', np.float32(0.3641257)),\n",
              "  ('inflight', np.float32(0.36357415)),\n",
              "  ('boarding', np.float32(0.35790864)),\n",
              "  ('cabin crew', np.float32(0.35336292)),\n",
              "  ('plane', np.float32(0.3507216))],\n",
              " 'POS': [('service', np.float64(0.028439344214935828)),\n",
              "  ('good', np.float64(0.02731016516681379)),\n",
              "  ('food', np.float64(0.027137138580100795)),\n",
              "  ('great', np.float64(0.01884783354627485)),\n",
              "  ('staff', np.float64(0.01820687164503035)),\n",
              "  ('time', np.float64(0.017556941681919923)),\n",
              "  ('seats', np.float64(0.017152008971317856)),\n",
              "  ('class', np.float64(0.016573280229086645)),\n",
              "  ('economy', np.float64(0.01652774265128821)),\n",
              "  ('crew', np.float64(0.015686291928809135))],\n",
              " 'MMR': [('seats comfortable', np.float32(0.48590735)),\n",
              "  ('airport', np.float32(0.3641257)),\n",
              "  ('boarding', np.float32(0.35790864)),\n",
              "  ('cabin crew', np.float32(0.35336292)),\n",
              "  ('premium economy', np.float32(0.33887878)),\n",
              "  ('lounge', np.float32(0.29024178)),\n",
              "  ('leg room', np.float32(0.25643694)),\n",
              "  ('business class', np.float32(0.25110105)),\n",
              "  ('quality', np.float32(0.23360151)),\n",
              "  ('meals', np.float32(0.20708038))]}"
            ]
          },
          "execution_count": 31,
          "metadata": {},
          "output_type": "execute_result"
        }
      ],
      "source": [
        "topic_model.get_topic(0, full=True)"
      ]
    },
    {
      "cell_type": "code",
      "execution_count": 32,
      "metadata": {},
      "outputs": [],
      "source": [
        "topic_model.get_representative_docs(6)"
      ]
    },
    {
      "cell_type": "markdown",
      "metadata": {},
      "source": [
        "## Fitting BERTopic on lowly rated reviews"
      ]
    },
    {
      "cell_type": "code",
      "execution_count": 33,
      "metadata": {},
      "outputs": [
        {
          "name": "stdout",
          "output_type": "stream",
          "text": [
            "Total number of 2019 negative review: 489\n"
          ]
        }
      ],
      "source": [
        "df_2019_rating_1_2 = df_2019[df_2019['rating'].isin([1, 2])]\n",
        "print(\"Total number of 2019 negative review:\" , df_2019_rating_1_2.shape[0])"
      ]
    },
    {
      "cell_type": "code",
      "execution_count": 34,
      "metadata": {},
      "outputs": [],
      "source": [
        "topics, probs = topic_model.fit_transform(df_2019_rating_1_2['text'])"
      ]
    },
    {
      "cell_type": "code",
      "execution_count": 35,
      "metadata": {},
      "outputs": [
        {
          "data": {
            "text/html": [
              "<div>\n",
              "<style scoped>\n",
              "    .dataframe tbody tr th:only-of-type {\n",
              "        vertical-align: middle;\n",
              "    }\n",
              "\n",
              "    .dataframe tbody tr th {\n",
              "        vertical-align: top;\n",
              "    }\n",
              "\n",
              "    .dataframe thead th {\n",
              "        text-align: right;\n",
              "    }\n",
              "</style>\n",
              "<table border=\"1\" class=\"dataframe\">\n",
              "  <thead>\n",
              "    <tr style=\"text-align: right;\">\n",
              "      <th></th>\n",
              "      <th>Topic</th>\n",
              "      <th>Count</th>\n",
              "      <th>Name</th>\n",
              "      <th>Representation</th>\n",
              "      <th>POS</th>\n",
              "      <th>MMR</th>\n",
              "      <th>Representative_Docs</th>\n",
              "    </tr>\n",
              "  </thead>\n",
              "  <tbody>\n",
              "    <tr>\n",
              "      <th>0</th>\n",
              "      <td>-1</td>\n",
              "      <td>208</td>\n",
              "      <td>-1_passengers_seats_boarding_cabin</td>\n",
              "      <td>[passengers, seats, boarding, cabin, attendant...</td>\n",
              "      <td>[food, service, seats, time, seat, business, c...</td>\n",
              "      <td>[passengers, boarding, tickets, lounge, airpor...</td>\n",
              "      <td>[I’ve always had the highest regard for SQ inf...</td>\n",
              "    </tr>\n",
              "    <tr>\n",
              "      <th>1</th>\n",
              "      <td>0</td>\n",
              "      <td>113</td>\n",
              "      <td>0_booking_arrival_booked_airport</td>\n",
              "      <td>[booking, arrival, booked, airport, ticket, bu...</td>\n",
              "      <td>[hotel, time, service, luggage, ticket, delay,...</td>\n",
              "      <td>[booking, airport, business class, delay, melb...</td>\n",
              "      <td>[Flying business class and first time with Sin...</td>\n",
              "    </tr>\n",
              "    <tr>\n",
              "      <th>2</th>\n",
              "      <td>1</td>\n",
              "      <td>97</td>\n",
              "      <td>1_passengers_meal_meals_boarding</td>\n",
              "      <td>[passengers, meal, meals, boarding, serve, sea...</td>\n",
              "      <td>[service, food, seats, economy, meal, plane, b...</td>\n",
              "      <td>[passengers, meals, boarding, seating, economy...</td>\n",
              "      <td>[I have just returned to Adelaide with my elde...</td>\n",
              "    </tr>\n",
              "    <tr>\n",
              "      <th>3</th>\n",
              "      <td>2</td>\n",
              "      <td>28</td>\n",
              "      <td>2_premium economy_economy passengers_economy a...</td>\n",
              "      <td>[premium economy, economy passengers, economy ...</td>\n",
              "      <td>[economy, premium, premium economy, class, foo...</td>\n",
              "      <td>[economy passengers, economy virgin, economy w...</td>\n",
              "      <td>[My husband and I travel very often long dista...</td>\n",
              "    </tr>\n",
              "    <tr>\n",
              "      <th>4</th>\n",
              "      <td>3</td>\n",
              "      <td>23</td>\n",
              "      <td>3_passengers_sit seat_seating_room seats</td>\n",
              "      <td>[passengers, sit seat, seating, room seats, se...</td>\n",
              "      <td>[seat, seats, back, staff, people, nice, extra...</td>\n",
              "      <td>[passengers, room seats, boarding, toilets, qu...</td>\n",
              "      <td>[I caved in and decided to give this airline a...</td>\n",
              "    </tr>\n",
              "    <tr>\n",
              "      <th>5</th>\n",
              "      <td>4</td>\n",
              "      <td>20</td>\n",
              "      <td>4_room inflight_seats_seat ok_seat</td>\n",
              "      <td>[room inflight, seats, seat ok, seat, leg room...</td>\n",
              "      <td>[seat, good, food, service, halal, seats, clas...</td>\n",
              "      <td>[room inflight, seats, stewards lovely, always...</td>\n",
              "      <td>[Everything to do with check in and boarding w...</td>\n",
              "    </tr>\n",
              "  </tbody>\n",
              "</table>\n",
              "</div>"
            ],
            "text/plain": [
              "   Topic  Count                                               Name  \\\n",
              "0     -1    208                 -1_passengers_seats_boarding_cabin   \n",
              "1      0    113                   0_booking_arrival_booked_airport   \n",
              "2      1     97                   1_passengers_meal_meals_boarding   \n",
              "3      2     28  2_premium economy_economy passengers_economy a...   \n",
              "4      3     23           3_passengers_sit seat_seating_room seats   \n",
              "5      4     20                 4_room inflight_seats_seat ok_seat   \n",
              "\n",
              "                                      Representation  \\\n",
              "0  [passengers, seats, boarding, cabin, attendant...   \n",
              "1  [booking, arrival, booked, airport, ticket, bu...   \n",
              "2  [passengers, meal, meals, boarding, serve, sea...   \n",
              "3  [premium economy, economy passengers, economy ...   \n",
              "4  [passengers, sit seat, seating, room seats, se...   \n",
              "5  [room inflight, seats, seat ok, seat, leg room...   \n",
              "\n",
              "                                                 POS  \\\n",
              "0  [food, service, seats, time, seat, business, c...   \n",
              "1  [hotel, time, service, luggage, ticket, delay,...   \n",
              "2  [service, food, seats, economy, meal, plane, b...   \n",
              "3  [economy, premium, premium economy, class, foo...   \n",
              "4  [seat, seats, back, staff, people, nice, extra...   \n",
              "5  [seat, good, food, service, halal, seats, clas...   \n",
              "\n",
              "                                                 MMR  \\\n",
              "0  [passengers, boarding, tickets, lounge, airpor...   \n",
              "1  [booking, airport, business class, delay, melb...   \n",
              "2  [passengers, meals, boarding, seating, economy...   \n",
              "3  [economy passengers, economy virgin, economy w...   \n",
              "4  [passengers, room seats, boarding, toilets, qu...   \n",
              "5  [room inflight, seats, stewards lovely, always...   \n",
              "\n",
              "                                 Representative_Docs  \n",
              "0  [I’ve always had the highest regard for SQ inf...  \n",
              "1  [Flying business class and first time with Sin...  \n",
              "2  [I have just returned to Adelaide with my elde...  \n",
              "3  [My husband and I travel very often long dista...  \n",
              "4  [I caved in and decided to give this airline a...  \n",
              "5  [Everything to do with check in and boarding w...  "
            ]
          },
          "execution_count": 35,
          "metadata": {},
          "output_type": "execute_result"
        }
      ],
      "source": [
        "topic_model.get_topic_info()"
      ]
    },
    {
      "cell_type": "code",
      "execution_count": 36,
      "metadata": {},
      "outputs": [
        {
          "data": {
            "text/plain": [
              "{'Main': [('room inflight', np.float32(0.47543892)),\n",
              "  ('seats', np.float32(0.4399663)),\n",
              "  ('seat ok', np.float32(0.41643426)),\n",
              "  ('seat', np.float32(0.38384154)),\n",
              "  ('leg room', np.float32(0.34351823)),\n",
              "  ('parts seat', np.float32(0.32979047)),\n",
              "  ('stewards lovely', np.float32(0.32696646)),\n",
              "  ('cramped hardest', np.float32(0.32420692)),\n",
              "  ('comfortable', np.float32(0.31966606)),\n",
              "  ('always a380', np.float32(0.31544128))],\n",
              " 'POS': [('seat', np.float64(0.03933614137403464)),\n",
              "  ('good', np.float64(0.029368558603315897)),\n",
              "  ('food', np.float64(0.022820537618012064)),\n",
              "  ('service', np.float64(0.017443601092425823)),\n",
              "  ('halal', np.float64(0.017115216579319543)),\n",
              "  ('seats', np.float64(0.014698032304174578)),\n",
              "  ('class', np.float64(0.013620155931204641)),\n",
              "  ('entertainment', np.float64(0.013104151296129523)),\n",
              "  ('sleep', np.float64(0.012927291586315774)),\n",
              "  ('business', np.float64(0.012397659199434384))],\n",
              " 'MMR': [('room inflight', np.float32(0.47543892)),\n",
              "  ('seats', np.float32(0.4399663)),\n",
              "  ('stewards lovely', np.float32(0.32696646)),\n",
              "  ('always a380', np.float32(0.31544128)),\n",
              "  ('crew attentive', np.float32(0.2919147)),\n",
              "  ('recommended leg', np.float32(0.26770175)),\n",
              "  ('appalling meal', np.float32(0.2522141)),\n",
              "  ('emirates qatar', np.float32(0.23981927)),\n",
              "  ('sleep side', np.float32(0.20492332)),\n",
              "  ('klm', np.float32(0.1963478))]}"
            ]
          },
          "execution_count": 36,
          "metadata": {},
          "output_type": "execute_result"
        }
      ],
      "source": [
        "topic_model.get_topic(4, full=True)"
      ]
    },
    {
      "cell_type": "code",
      "execution_count": 37,
      "metadata": {},
      "outputs": [
        {
          "data": {
            "text/plain": [
              "['Flying business class and first time with Singapore airlines, I am not impressed, my wife an I receive a message saying our flight was delayed over 2 hours from Phuket to Singapore the problem is we have a business class flight to Melbourne  also with Singapore on the same ticket yet (1) I received no comment about what was happening to my flight to Melbourne that we would now miss (2) there was no contact number or way to ask. Our concierge spend 30 minutes trying to talk to a person about our flight we are going to miss through no fault of our own. We finally talked to a human and they said we can put you on a flight leaving in 30 minutes, we were an hour drive so impossible so we are now finally on a flight to Melbourne leaving 2 1/2 hours later which effects other matters in Melbourne. I expected much more for a business class passenger (even economy? You should have known I had a connecting flight and given me options. I wasn’t even notified of my alternatives. Very poor service indeed and it has not happened when I have flown with competitors. I did get a $10 hamburger voucher , which was an insult. After arriving at the airport we are told more delays and could not answer whether I will miss the new connecting flight. To reiterate all flights are business class on the one ticket they know one delay effect my next flight but Singapore Airlines does not care. Treated worse than economy on other airlines.  business class and first time with Singapore airlines, I am not impressed, my wife an I receive a message saying our flight was delayed over 2 hours from Phuket to Singapore the problem is we have a business class flight to Melbourne  also with Singapore on the same ticket yet (1) I received no comment about what was happening to my flight to Melbourne that we would now miss (2) there was no contact number or way to ask. Our concierge spend 30 minutes trying to talk to a person about our flight we are going to miss through no fault of our own. We finally talked to a human and they said we can put you on a flight leaving in 30 minutes, we were an hour drive so impossible so we are now finally on a flight to Melbourne leaving 2 1/2 hours later which effects other matters in Melbourne. I expected much more for a business class passenger (even economy? You should have known I had a connecting flight and given me options. I wasn’t even notified of my alternatives. Very poor service indeed and it has not happened when I have flown with competitors. I did get a $10 hamburger voucher , which was an insult. After arriving at the airport we are told more delays and could not answer whether I will miss the new connecting flight. To reiterate all flights are business class on the one ticket they know one delay effect my next flight but Singapore Airlines does not care. Treated worse than economy on other airlines. ',\n",
              " \"I am a SQ-Passenger, flying back from Bangkok (BKK) to Surabaya (SUB), transiting in Singapore (SUB) with the booking code MUGBEW. Krisflyer number: 8826682704, Flying from Bangkok (BKK) 27 March 2019 at 15:40 with SQ977, scheduled arrival: same day on 19:15 SIN. Depart again at 28 March 2019 on 07:50 SIN, arrive at final destination at 09:15 SUB. If the Flight departed according to the schedule, i had enough time to get some good sleep in my sister’s apartment in Singapore, and  then fly back to my final destination with full energy. Suddently, before take-off, the flight SQ977 from BKK to SIN had an engine problem (I don’t really know what is it), which caused the Pilot to cancel the flight. The real problem starting from this point. The SQ Ground Staff in BKK managed the situation in very horrible and chaotic manners. Unfortunately I forgot the name of the SQ-Ground Staffs in BKK (chinese male with singaporean english accent, approx. 175 cm, aged 35-45, with short hair, and wear blue shirt and yellow SQ jacket).\\n1. Regarding the Transit Hotel\\nI previously asked that staff, which way is better: FIRST, prolonged stay in BKK with complimentary transit hotel or SECOND, as soon as possible arrive in Singapore to get the connecting flight, with verbally stated: complimentary transit hotel too. After that the SQ staff told me that the SECOND option is the best: arrive in Singapore to get the connecting flight, with (many times repeated verbal statement): complimentary transit hotel at singapore is available for me. I am very attracted with the second option, and believed that I can trust all of the SQ personals. Of course previously the BKK Staffs warned me that the complimentary transit is unavailable because I can catch the scheduled flight to SUB in early morning on time. But after a long explaination from my sides, and presumably very kind thought of SQ staff in BKK, finally he somehow understood my situation and stated verbally: complimentary transit hotel at singapore is possible. The promise about Transit hotel was only a verbal statement. No written consent, no proof of statement. The Singapore-ground staffs mentioned again their rules without any second thought and exceptions, that if my connecting flight on time, they cannot issue the hotel ticket. And the SQ ground staffs didn’t get any information from Bangkok-Staffs. In the end, i cannot have some good rest at transit hotel. What i got AFTER 30 MIN ARGUEING is only access at lousy SATS lounge with no Bed rests, small sofa and plain food. It is definetely cheating and abusing the passenger physically and mentally. Great job! \\n2.\\tIf I didn’t ask many times about my next flight after SQ977 cancellation, somehow they do nothing. After asking and waiting very long until 20:40, finally one of the ground staff (a young man with black suit, thai accent) told me there is an available flight on 21:10 depart BKK-SIN. TOO SLOW AND TOO UNRESPONSIVE. \\n3.\\tI must RUN to catch the flight. I am wondering, why should I RUN instead of telling the staff on 21:10 flight to wait for me? After all, those was the fault of SQ.\\n4.\\tRegarding baggage transfer: I asked the BKK ground Staff many times, wether they arrange my baggage properly or not. They said YES. But after I arrive at singapore, the result: NO RECORD of baggage. Luckily there is still my baggage tag. Somehow there are many nonprofessional management and no proper communication between all SQ staffs. Now I have been contacted, that my baggage will arrive approx. 29 March 2019, on 21:00 (H+1 after my arrival).\\n5.\\tWhile waiting on board at the SQ977 (because of engineer check), the Pilot stated: Drinks and Snacks will be provided. What I got was just only limited selection of drinks, and no snack. I must request it if I wan’t to get some snack. Again, another cheating intention.\\n6.\\tDuring waiting period in BKK, what I get was only just lousy sandwich, fruit and mineral water, no dinner provided. Looks likes SQ move forward to direction of low budget airlines-Style while treating the passenger.\\nTaken together, after many times flying with SQ,  my journey this time leaves me surprisingly a very bad and unforgetable Memory. Emotionally and physically, I am very tired with this matters. I recommend every person who read my comments to reconsider choosing Singapore Airlines, because they changed dramatically. They don’t deserve good reputation. It’s all just the past. Now they just did everything by the Computer System, not with personal touch and emotional think. Their services are in many aspects significantly decreased. And all they did was just abusing the Passanger mentally and physically. It’s a pity that I have already booked a journey to Japan on January 2020 with SQ. I also think that as krisflyer member, it didn’t make some differences. Just I have been told by the SQ transit desk staff: what I can do now is just only write some FEEDBACK. But additionally, I will publish this article to the newspaper randomly as many as possible. At least this is what I can do to compensate myself emotionally. GOOD JOB SQ!!!\\nFor all SQ passenger, especially during emergency and unexpected situation: don't believe their verbal statement. Make everything written, even in a random piece of paper.\",\n",
              " 'We were on a dual leg flight Kochi - Singapore  - Sydney booked directly with Singapore Airlines SQ.  About 20 hours before the first leg we received a communication that our initial leg ex Kochi had been delayed and we would, therefore, miss our onward connection.  I spent 45 minutes on the phone trying to sort out a rebooked onward leg and get confirmation we would get a hotel in Singapore given the 12+ hour delay and long transit time.  At the end of that, I was told the call centre could not help…so why keep asking me questions/keep placing me on hold for so long?\\n\\nOn checking in for the delayed first leg we were given boarding passes for the rebooked second leg and told to approach transit staff in Singapore who would give us hotel details.  Arriving in Singapore at the transit desk we were probably 5th in line with another 30 people behind us.  We were still waiting to be seen an hour later.  Despite 8 people behind the counter only 2 seemed to be dealing with our flight’s delay the rest sat there doing nothing.  At some stage, some more senior SQ staff appeared (a Juffri Bin Ablh(?) appeared in charge/took the lead) and then announced to all of us waiting there were no hotels available and we would be offered lounge passes while they tried to find hotels.  No-one was convinced, we’d all gotten a few hours sleep at best in the last 24 hours and were all facing another sleepless night on a plane - we needed beds, not a lounge with sofas and food and drink, we had had been queuing for an hour and SQ staff would not commit any timeframe for finding hotels.  Initially, we were told that no available hotels was because it was a “busy time in Singapore” but plenty of hotels showed up as available on hotel booking sites - when we raised this the response was SQ did not have payment arrangements with them.\\n\\nSQ management - when things like this happen many passengers are happy to book their own hotel and claim the cost back, they just need to know the parameters that SQ think are reasonable and need a level of comfort that their claims would be dealt with fairly and reasonably - your staff would not provide anything of the sort, in fact, their responses raised doubts we would get reimbursed at all.  Most of the hotels on the hotel booking sites were A$150-200 for the night, passengers are not trying to exploit the situation they just want beds to sleep in.  Let’s also be clear, we knew 18 hours before we arrived in Singapore that our connection would be missed and we would have at least a 12-hour transit delay in Singapore so why couldn’t hotels have been sourced or parameters printed out for passengers to manage the situation themselves way before we arrived in Singapore?\\n\\nTraveller tip - I didn’t check this out until after the event…my travel insurance actually provided quite generous expense reimbursement for delays over 6 hours.  With the benefit of hindsight, I should have bypassed the SQ bs, booked my own hotel and claimed back from SQ with my insurance policy as the backstop.  An administrative pain but I could have done without the stress and with an extra 1.5 hours sleep that I missed out on.\\n\\nI believe that the best companies prove themselves with how they react when issues arise - unfortunately, SQ you have nice planes with good service and a good safety record, but when things go wrong you suck.']"
            ]
          },
          "execution_count": 37,
          "metadata": {},
          "output_type": "execute_result"
        }
      ],
      "source": [
        "topic_model.get_representative_docs(0)"
      ]
    },
    {
      "cell_type": "markdown",
      "metadata": {},
      "source": [
        "## 2019 Summary\n",
        "- More compliments on the airline's in-flight service, as well as comments on the plane's seatings, cabin crew, and food.\n",
        "- Pre-flight service is also mentioned in the positive reviews, showing that the airline is doing a good job in terms of customer service.\n",
        "- Especially there are many positive reviews on the cabin crew's supportive attitude, even on flights with kids and children. \n",
        "- The negative reviews are still mostly from economy class passengers, but this time also contains comments about premium economy\n",
        "- There's also more complaints about the food and the in-flight service that is not as good as it used to be.\n",
        "- Interestingly, there are also negative reviews about the seatings in the airplane, which is a new topic that was not prominent in the previous year. \n",
        "- Overall, the airline is still performing well in terms of customer satisfaction, but there are still areas that need to be improved."
      ]
    },
    {
      "cell_type": "markdown",
      "metadata": {},
      "source": [
        "# **2020**"
      ]
    },
    {
      "cell_type": "markdown",
      "metadata": {},
      "source": [
        "## Data slicing"
      ]
    },
    {
      "cell_type": "code",
      "execution_count": 38,
      "metadata": {},
      "outputs": [
        {
          "data": {
            "text/plain": [
              "(911, 11)"
            ]
          },
          "execution_count": 38,
          "metadata": {},
          "output_type": "execute_result"
        }
      ],
      "source": [
        "df_2020 = df[(df['year'] == 2020)]\n",
        "df_2020.shape"
      ]
    },
    {
      "cell_type": "code",
      "execution_count": 39,
      "metadata": {},
      "outputs": [
        {
          "data": {
            "image/png": "[encoded data removed]",
            "text/plain": [
              "<Figure size 500x400 with 1 Axes>"
            ]
          },
          "metadata": {},
          "output_type": "display_data"
        }
      ],
      "source": [
        "# Distribution of ratings in 2018\n",
        "df_2020['rating'].value_counts().sort_index().plot(kind='bar', figsize=(5, 4))\n",
        "plt.title('Distribution of Ratings in 2020')\n",
        "plt.xlabel('Rating')\n",
        "plt.ylabel('Number of Reviews')\n",
        "plt.show()"
      ]
    },
    {
      "cell_type": "markdown",
      "metadata": {},
      "source": [
        "## Fitting BERTopic on highly rated reviews"
      ]
    },
    {
      "cell_type": "code",
      "execution_count": 40,
      "metadata": {},
      "outputs": [
        {
          "name": "stdout",
          "output_type": "stream",
          "text": [
            "Total number of 2020 positive review: 686\n"
          ]
        }
      ],
      "source": [
        "df_2020_rating_4_5 = df_2020[df_2020['rating'].isin([4, 5])]\n",
        "print(\"Total number of 2020 positive review:\" , df_2020_rating_4_5.shape[0])"
      ]
    },
    {
      "cell_type": "code",
      "execution_count": 41,
      "metadata": {},
      "outputs": [],
      "source": [
        "topics, probs = topic_model.fit_transform(df_2020_rating_4_5['text'])"
      ]
    },
    {
      "cell_type": "code",
      "execution_count": 42,
      "metadata": {},
      "outputs": [
        {
          "data": {
            "text/html": [
              "<div>\n",
              "<style scoped>\n",
              "    .dataframe tbody tr th:only-of-type {\n",
              "        vertical-align: middle;\n",
              "    }\n",
              "\n",
              "    .dataframe tbody tr th {\n",
              "        vertical-align: top;\n",
              "    }\n",
              "\n",
              "    .dataframe thead th {\n",
              "        text-align: right;\n",
              "    }\n",
              "</style>\n",
              "<table border=\"1\" class=\"dataframe\">\n",
              "  <thead>\n",
              "    <tr style=\"text-align: right;\">\n",
              "      <th></th>\n",
              "      <th>Topic</th>\n",
              "      <th>Count</th>\n",
              "      <th>Name</th>\n",
              "      <th>Representation</th>\n",
              "      <th>POS</th>\n",
              "      <th>MMR</th>\n",
              "      <th>Representative_Docs</th>\n",
              "    </tr>\n",
              "  </thead>\n",
              "  <tbody>\n",
              "    <tr>\n",
              "      <th>0</th>\n",
              "      <td>-1</td>\n",
              "      <td>102</td>\n",
              "      <td>-1_class seats_class cabin_class cabins_busine...</td>\n",
              "      <td>[class seats, class cabin, class cabins, busin...</td>\n",
              "      <td>[class, seat, passengers, seats, business, cab...</td>\n",
              "      <td>[class cabin, business class, passengers place...</td>\n",
              "      <td>[Singapore Airlines operates the A350-900 Medi...</td>\n",
              "    </tr>\n",
              "    <tr>\n",
              "      <th>1</th>\n",
              "      <td>0</td>\n",
              "      <td>355</td>\n",
              "      <td>0_seats_passengers_seat_boarding</td>\n",
              "      <td>[seats, passengers, seat, boarding, cabin, air...</td>\n",
              "      <td>[service, good, food, time, great, staff, clas...</td>\n",
              "      <td>[seats, boarding, airport, cabin crew, lounge,...</td>\n",
              "      <td>[January 2020 was an incredible month as I got...</td>\n",
              "    </tr>\n",
              "    <tr>\n",
              "      <th>2</th>\n",
              "      <td>1</td>\n",
              "      <td>229</td>\n",
              "      <td>1_cabin crew_cabin_aircraft_boarding</td>\n",
              "      <td>[cabin crew, cabin, aircraft, boarding, inflig...</td>\n",
              "      <td>[good, food, service, great, staff, crew, comf...</td>\n",
              "      <td>[cabin crew, boarding, inflight, food good, se...</td>\n",
              "      <td>[Great airline.  Cabin crew could not be bette...</td>\n",
              "    </tr>\n",
              "  </tbody>\n",
              "</table>\n",
              "</div>"
            ],
            "text/plain": [
              "   Topic  Count                                               Name  \\\n",
              "0     -1    102  -1_class seats_class cabin_class cabins_busine...   \n",
              "1      0    355                   0_seats_passengers_seat_boarding   \n",
              "2      1    229               1_cabin crew_cabin_aircraft_boarding   \n",
              "\n",
              "                                      Representation  \\\n",
              "0  [class seats, class cabin, class cabins, busin...   \n",
              "1  [seats, passengers, seat, boarding, cabin, air...   \n",
              "2  [cabin crew, cabin, aircraft, boarding, inflig...   \n",
              "\n",
              "                                                 POS  \\\n",
              "0  [class, seat, passengers, seats, business, cab...   \n",
              "1  [service, good, food, time, great, staff, clas...   \n",
              "2  [good, food, service, great, staff, crew, comf...   \n",
              "\n",
              "                                                 MMR  \\\n",
              "0  [class cabin, business class, passengers place...   \n",
              "1  [seats, boarding, airport, cabin crew, lounge,...   \n",
              "2  [cabin crew, boarding, inflight, food good, se...   \n",
              "\n",
              "                                 Representative_Docs  \n",
              "0  [Singapore Airlines operates the A350-900 Medi...  \n",
              "1  [January 2020 was an incredible month as I got...  \n",
              "2  [Great airline.  Cabin crew could not be bette...  "
            ]
          },
          "execution_count": 42,
          "metadata": {},
          "output_type": "execute_result"
        }
      ],
      "source": [
        "topic_model.get_topic_info()"
      ]
    },
    {
      "cell_type": "code",
      "execution_count": 43,
      "metadata": {},
      "outputs": [
        {
          "data": {
            "text/plain": [
              "{'Main': [('cabin crew', np.float32(0.4865934)),\n",
              "  ('cabin', np.float32(0.46392712)),\n",
              "  ('aircraft', np.float32(0.45506114)),\n",
              "  ('boarding', np.float32(0.45022836)),\n",
              "  ('inflight', np.float32(0.43150264)),\n",
              "  ('service good', np.float32(0.41359848)),\n",
              "  ('passengers', np.float32(0.41103965)),\n",
              "  ('plane', np.float32(0.40960172)),\n",
              "  ('good food', np.float32(0.37292036)),\n",
              "  ('good service', np.float32(0.35611886))],\n",
              " 'POS': [('good', np.float64(0.03906396257852478)),\n",
              "  ('food', np.float64(0.035938758432233084)),\n",
              "  ('service', np.float64(0.03209818630240892)),\n",
              "  ('great', np.float64(0.023869423865977662)),\n",
              "  ('staff', np.float64(0.022008431774255488)),\n",
              "  ('crew', np.float64(0.021099302841269613)),\n",
              "  ('comfortable', np.float64(0.017880231493227504)),\n",
              "  ('entertainment', np.float64(0.015632607085246292)),\n",
              "  ('best', np.float64(0.01545395192566692)),\n",
              "  ('time', np.float64(0.01421767294943816))],\n",
              " 'MMR': [('cabin crew', np.float32(0.4865934)),\n",
              "  ('boarding', np.float32(0.45022836)),\n",
              "  ('inflight', np.float32(0.43150264)),\n",
              "  ('food good', np.float32(0.33938983)),\n",
              "  ('seats', np.float32(0.33761925)),\n",
              "  ('lounge', np.float32(0.29600134)),\n",
              "  ('leg room', np.float32(0.24908097)),\n",
              "  ('attentive', np.float32(0.24527021)),\n",
              "  ('experience', np.float32(0.23494717)),\n",
              "  ('served', np.float32(0.23108913))]}"
            ]
          },
          "execution_count": 43,
          "metadata": {},
          "output_type": "execute_result"
        }
      ],
      "source": [
        "topic_model.get_topic(1, full=True)"
      ]
    },
    {
      "cell_type": "markdown",
      "metadata": {},
      "source": [
        "## Fitting BERTopic on lowly rated reviews"
      ]
    },
    {
      "cell_type": "code",
      "execution_count": 44,
      "metadata": {},
      "outputs": [
        {
          "name": "stdout",
          "output_type": "stream",
          "text": [
            "Total number of 2020 negative review: 147\n"
          ]
        }
      ],
      "source": [
        "df_2020_rating_1_2 = df_2020[df_2020['rating'].isin([1, 2])]\n",
        "print(\"Total number of 2020 negative review:\" , df_2020_rating_1_2.shape[0])"
      ]
    },
    {
      "cell_type": "code",
      "execution_count": 45,
      "metadata": {},
      "outputs": [],
      "source": [
        "topics, probs = topic_model.fit_transform(df_2020_rating_1_2['text'])"
      ]
    },
    {
      "cell_type": "code",
      "execution_count": 46,
      "metadata": {},
      "outputs": [
        {
          "data": {
            "text/html": [
              "<div>\n",
              "<style scoped>\n",
              "    .dataframe tbody tr th:only-of-type {\n",
              "        vertical-align: middle;\n",
              "    }\n",
              "\n",
              "    .dataframe tbody tr th {\n",
              "        vertical-align: top;\n",
              "    }\n",
              "\n",
              "    .dataframe thead th {\n",
              "        text-align: right;\n",
              "    }\n",
              "</style>\n",
              "<table border=\"1\" class=\"dataframe\">\n",
              "  <thead>\n",
              "    <tr style=\"text-align: right;\">\n",
              "      <th></th>\n",
              "      <th>Topic</th>\n",
              "      <th>Count</th>\n",
              "      <th>Name</th>\n",
              "      <th>Representation</th>\n",
              "      <th>POS</th>\n",
              "      <th>MMR</th>\n",
              "      <th>Representative_Docs</th>\n",
              "    </tr>\n",
              "  </thead>\n",
              "  <tbody>\n",
              "    <tr>\n",
              "      <th>0</th>\n",
              "      <td>-1</td>\n",
              "      <td>68</td>\n",
              "      <td>-1_booking_refund_boarding_cancellation</td>\n",
              "      <td>[booking, refund, boarding, cancellation, pass...</td>\n",
              "      <td>[service, staff, seat, refund, card, change, c...</td>\n",
              "      <td>[refund, boarding, cancellation, passenger, ai...</td>\n",
              "      <td>[Singapore Airlines has always been known for ...</td>\n",
              "    </tr>\n",
              "    <tr>\n",
              "      <th>1</th>\n",
              "      <td>0</td>\n",
              "      <td>58</td>\n",
              "      <td>0_passengers_attendant_airport_plane</td>\n",
              "      <td>[passengers, attendant, airport, plane, seats,...</td>\n",
              "      <td>[service, hours, seat, food, back, time, seats...</td>\n",
              "      <td>[passengers, attendant, plane, seats, premium ...</td>\n",
              "      <td>[Before reading this review please note that t...</td>\n",
              "    </tr>\n",
              "    <tr>\n",
              "      <th>2</th>\n",
              "      <td>1</td>\n",
              "      <td>21</td>\n",
              "      <td>1_refund_refund amount_requested refund_refunded</td>\n",
              "      <td>[refund, refund amount, requested refund, refu...</td>\n",
              "      <td>[refund, ticket, due, return, refunds, class, ...</td>\n",
              "      <td>[requested refund, cash refund, cancelled, far...</td>\n",
              "      <td>[In light of the lockdown in many countries in...</td>\n",
              "    </tr>\n",
              "  </tbody>\n",
              "</table>\n",
              "</div>"
            ],
            "text/plain": [
              "   Topic  Count                                              Name  \\\n",
              "0     -1     68           -1_booking_refund_boarding_cancellation   \n",
              "1      0     58              0_passengers_attendant_airport_plane   \n",
              "2      1     21  1_refund_refund amount_requested refund_refunded   \n",
              "\n",
              "                                      Representation  \\\n",
              "0  [booking, refund, boarding, cancellation, pass...   \n",
              "1  [passengers, attendant, airport, plane, seats,...   \n",
              "2  [refund, refund amount, requested refund, refu...   \n",
              "\n",
              "                                                 POS  \\\n",
              "0  [service, staff, seat, refund, card, change, c...   \n",
              "1  [service, hours, seat, food, back, time, seats...   \n",
              "2  [refund, ticket, due, return, refunds, class, ...   \n",
              "\n",
              "                                                 MMR  \\\n",
              "0  [refund, boarding, cancellation, passenger, ai...   \n",
              "1  [passengers, attendant, plane, seats, premium ...   \n",
              "2  [requested refund, cash refund, cancelled, far...   \n",
              "\n",
              "                                 Representative_Docs  \n",
              "0  [Singapore Airlines has always been known for ...  \n",
              "1  [Before reading this review please note that t...  \n",
              "2  [In light of the lockdown in many countries in...  "
            ]
          },
          "execution_count": 46,
          "metadata": {},
          "output_type": "execute_result"
        }
      ],
      "source": [
        "topic_model.get_topic_info()"
      ]
    },
    {
      "cell_type": "code",
      "execution_count": 47,
      "metadata": {},
      "outputs": [
        {
          "data": {
            "text/plain": [
              "{'Main': [('refund', np.float32(0.58125275)),\n",
              "  ('refund amount', np.float32(0.5713319)),\n",
              "  ('requested refund', np.float32(0.571038)),\n",
              "  ('refunded', np.float32(0.5526857)),\n",
              "  ('cash refund', np.float32(0.55214417)),\n",
              "  ('refunds', np.float32(0.5517523)),\n",
              "  ('full refund', np.float32(0.5249747)),\n",
              "  ('cancel', np.float32(0.3373626)),\n",
              "  ('return', np.float32(0.30330345)),\n",
              "  ('cancelled', np.float32(0.2693101))],\n",
              " 'POS': [('refund', np.float64(0.05955229565358733)),\n",
              "  ('ticket', np.float64(0.01887687481697145)),\n",
              "  ('due', np.float64(0.016259166083103477)),\n",
              "  ('return', np.float64(0.01616410197450998)),\n",
              "  ('refunds', np.float64(0.015510256873759804)),\n",
              "  ('class', np.float64(0.014978410116511562)),\n",
              "  ('months', np.float64(0.013143127234266189)),\n",
              "  ('full', np.float64(0.012887096911140474)),\n",
              "  ('tickets', np.float64(0.012302377688277162)),\n",
              "  ('covid', np.float64(0.011885842396520968))],\n",
              " 'MMR': [('requested refund', np.float32(0.571038)),\n",
              "  ('cash refund', np.float32(0.55214417)),\n",
              "  ('cancelled', np.float32(0.2693101)),\n",
              "  ('fare', np.float32(0.2609075)),\n",
              "  ('class ticket', np.float32(0.23349933)),\n",
              "  ('departure date', np.float32(0.19695835)),\n",
              "  ('taxes', np.float32(0.15639445)),\n",
              "  ('heathrow manchester', np.float32(0.15472583)),\n",
              "  ('contact', np.float32(0.14904618)),\n",
              "  ('due covid', np.float32(0.14369822))]}"
            ]
          },
          "execution_count": 47,
          "metadata": {},
          "output_type": "execute_result"
        }
      ],
      "source": [
        "topic_model.get_topic(1, full=True)"
      ]
    },
    {
      "cell_type": "code",
      "execution_count": 48,
      "metadata": {},
      "outputs": [
        {
          "data": {
            "text/plain": [
              "['Before reading this review please note that this was not my 1st time flying Singapore airlines and every other time was a pleasure.\\nThat being said, this trip was a family holiday to Thailand and there were 12 of us on the same flight and we all agreed that this review is a must... so it\\'s not just me being full of nonsense.\\nWe departed from Cape Town, excited and happy that we had chosen to fly on Singapore airlines as, based on my previous experiences, I had only had good things to say... especially about the food. WELL... things have obviously changed dramatically since I last flew because the minute we got given the menus we all looked at one another in shock... the menu option even sounded gross and we all immediately started to regret not having tucked into a burger at the airport.\\nWhen the food arrived it was as disgusting as it sounded on the menu. Between us we had chosen different things so it wasn\\'t a case of one option being better than the other... they we both sub standard and, quite frankly, inedible. The sad thing was that we never ordered special kids meals for the little ones because I had told everyone they wouldn\\'t be disappointed with the food options and that the kids would not want to miss out on the lovely food, usually served on-board Singapore airlines...\\nNeedless to say, I wasn\\'t very popular and we all went to sleep hungry and somewhat grumpy.\\nConsidering it was the 1st of January, we thought that it could just be that the company preparing the on board meals were too busy with New Year celebrations to worry about the food... so we wrote it off to that and agreed that it would surely be better on our return. The 13th of January arrived sooner than we\\'d all hoped and we soon found ourselves back on the plane, heading home after an amazing Thailand vacation. This time we had ordered kids meals for the kids and were looking forward, once again, to the amazing food on Singapore Airlines... \\n0H MY GOODNESS is all I can really say... when the menus arrived we all gasped and almost simultaneously groaned at the thought of having to spend the next 16 hours without food... because if we thought the menu options were terrible going there, they had just got worse! It was agreed that we should have gone with our instinct and had dinner in the airport (again, we had let ourselves down by thinking \"it cant be as bad as last time\")! \\n\\nWhat a shocking in flight food experience! Apart from the children\\'s meals, which were actually quite decent, the rest was inedible... and I am not a fussy eater... in fact, I would claim to eat anything, most of the time... but this was another level of bad and if there were windows on the plane I would have happily tossed it all out for the street dogs to eat.\\nSingapore has a food culture like no other country in Asia (in my opinion) and I love going there for the food... whether you eat in a hawkers market on the street or in one of it Michelin starred restaurants, Singapore never disappoints so for Singapore airlines to serve such poor quality food to their passengers is a travesty! It\\'s the 1st and last impression of Singapore food... and they should be using it to their advantage... but instead they choose to serve food that I wouldn\\'t feed my dog.\\n\\nWith so many other Airlines to choose from when flying to Asia, I\\'d be very reluctant to fly Singapore airlines again!\\n',\n",
              " 'We travelled to Sydney via Singapore using this airline which I’ve always believed to be a world class service and have been nothing but disappointed with their incompetence. \\n\\nThey managed to forward all 4 of our suitcases to Sydney when we were clearly staying in Singapore for a few days to break the trip up and then made us waste over 12 hours getting the suitcases back!! \\n\\nFirst the staff at lost and found at Changi airport advised us they had retrieved the suitcases from the connecting flight to Sydney that day after we told them that our suitcases were not on the conveyor belt at the baggage reclaim and agreed to send them direct to our hotel which was airport side, in a few hours. \\n\\nAfter almost three hours plus they bought what we believed were our suitcases to our hotel only to realise on sight that they were not!! \\n\\nWe then had to go through the process of going back to the airport and speaking to staff at the information desk to get them to find out what was going on as we had given the member of staff at lost and found our original baggage tag numbers, names and hotel details via a form which they completed and provided us with photocopies of the baggage tags we had given them so they could match them to our suitcases. \\n\\nWe were then told we would have to go back inside the terminal and speak to the lost and found which involved getting clearance from customs and our passports. A very kind lady named Fawzea Ali who was the supervisor at the information desk at Changi airport assisted us through this process and we finally established that our suitcases had been inadvertently sent to someone else at the holiday inn hotel which was a distance from Changi airport and would need to be picked up and redirected to our hotel!! \\n\\nYou simply could not make this up and the simple task of matching baggage tag names and numbers to suitcases was poorly handled by the staff at Changi airport and Singapore airlines. \\n\\nTo say we were upset and frustrated was an understatement as after 14 hours of flying we wanted to shower and change into fresh clothes. We also had gifts we had purchased for friends and family which we could not give to them either and had already wasted almost 7 plus hours trying to get our suitcases back!! Finally our suitcases arrived over 10 hours after we had landed and one of two days we had in Singapore were wasted. \\n\\nWe phoned Singapore airlines customer service that evening and explained what had happened and how frustrated we were at their lack of due diligence and incompetence. We suggested they offer recompense for the inconvenience and more importantly the loss of one day of our two in Singapore and they said they would need to look into it and establish why this happened before they could consider any form of recompense and this could take a few days??!! \\n\\nFew days to establish mismatch of baggage tags to suitcases for three individuals?! Seriously? Anyone would think they were investigating a theft or some other heinous crime!! \\n\\nNow on our return flight from Changi airlines after almost three weeks of travelling around Australia we find that Singapore airlines have now managed in their wise wisdom to allocate seats on our return flight to Heathrow in such a way that we cannot get three seats in a row!! This is after going online to check in 20 minutes after the window opened! Why would Singapore airlines allocate seats in such a way as to break up a family of three and let those travelling in pairs or singles have precedence?? \\n\\nSurely with a plane this size they can manage the allocation of seats better? \\n\\nThe whole experience with Singapore airlines from start to finish has left us frustrated and completely dissatisfied with the service provided and we will definitely not use this airline again or recommend it to family and friends who travel frequently all over the world including ourselves. \\n\\nShame on you Singapore airlines, you are not a world class service in our humble opinion and other airlines such as Emirates and Qatar are far better on long haul flights than you. \\n\\nYou have so far failed to deal with our complaint lodged with your customer services whom I’m told are based in Phillipines and offered nothing to redress the loss of time and frustration we have had to suffer in dealing with your incompetence and lack of due diligence as well as poor level of customer service. \\n\\n',\n",
              " 'After having heard so many good things about Singapore Airlines over the decades, I came away really disappointed with my experience on Singapore from LAX to SIN and then on to SYD.\\n\\nThe check-in experience in Los Angeles was poor. We arrived at the airport early on a connecting flight with a different airline, but because check-in didn\\'t open until 2.5 hours before departure (even for business class) we had to spend  3 hours sitting in the cafeteria area of the crowded Tom Bradley terminal with nowhere to sit. Check-in was really subpar.\\n\\nAs so many others have mentioned, I found the seat quite uncomfortable. In seat mode, there is very limited recline. The leg rest is only wide enough to support one leg! And it extends only a small distance before your leg hits the seat in front! Very poorly designed. The foot cubby option has you sitting on a weird, uncomfortable side-angle to both the entertainment screen and the tray table. While in bed mode, things are marginally better, but not by much. The seat width is great, but because of the seat\\'s short length you have to sleep on your side on a very firm bed. This becomes rather uncomfortable after the first 3 hours, of a 17 hour flight. The blanket is far too small, covering my legs or my upper body, but not both (I\\'m 5\\'11\"). To try and get comfortable, I ultimately found myself sitting on the seat in bed mode, with my legs crossed out in front with pillows propping me up. And although there are lots of small storage options for things like water bottles and headphones, there\\'s really no where to store your larger items like shoes, carry on bags, laptops etc. I found myself cuddling up with them or putting them in the overhead locker. All in all, although it looks large and plush, the seat is dysfunctional, uncomfortable and in my experience, one for the worst out there.\\n\\nThe flight attendants were very friendly throughout but their training lacks. Again, compared to other airlines, I found the service rather unpolished. Nobody offered to make my bed, or put it back into seat mode. I was left folding my blanket myself in front of a flight attendant. The delivery of the meal service was odd. The table wasn\\'t set like on other airlines. Rather, I was handed full glasses of water and wine delivered directly from the galley to my table, rather than having both glasses placed and filled at my table from a bottle. The food itself was all over the shop. One meal was average. One was absolutely outstanding - the best I\\'ve had on an airline. While the light refreshment on my second sector was simply inedible and the worst meal I\\'ve had on any airline in any class. From LA, we were served a very quick light supper after take-off where  it felt like the flight attendants were trying to get the whole thing over with as quickly as possible. The next and largest meal service was served about 8 hours into the flight, with the whole cabin effectively woken in the middle of the night. And then to my complete surprise, there was not additional meal service for the next 8 hours!!! Nothing. And NO breakfast.. I was starving, and on a 17 hour flight found this simply unacceptable.  When it became apparent to me that there would be no other meal service - about 45 minutes prior to top-of-descent - I raced to the galley and asked for something to eat. I was offered soup (no bread) and a yogurt parfait. Again, everything about the meals services was just odd. \\n\\nIn terms of amenities, there was very little indeed. No pyjamas. No earplugs. No toothbrush. No toothpaste. Only slippers, socks and a thin eye shade. In fact, you receive much more in economy on most other airlines than you do in Singapore business.\\n\\nThe entertainment system was very good. Very easy to use. Plenty of great movies and TV shows which I really enjoyed. And the screen was large and excellent. \\n\\nBut overall, I found the Singapore experience noticeably inferior to that of other airlines in the region, like Qantas, Cathay Pacific and even Delta who are supposedly ranked lower.\\n\\nUnfortunately, it really does feel like Singapore has taken cost cutting in Business more than one step too far, to the point where it felt like an average Premium economy experience in a large, awkward, uncomfortable seat.\\n\\nI\\'d like to say otherwise, but I won\\'t be flying them again.']"
            ]
          },
          "execution_count": 48,
          "metadata": {},
          "output_type": "execute_result"
        }
      ],
      "source": [
        "topic_model.get_representative_docs(0)"
      ]
    },
    {
      "cell_type": "markdown",
      "metadata": {},
      "source": [
        "## 2020 Summary\n",
        "\n",
        "- Interestingly, although the positive reviews still outweights the negative ones, this time food and in-flight amenities are mentioned in negative reviews\n",
        "- Many negative reviews about refunds and tickets cancellation also arises, likely due to the pandemic impacting customer's schedule and travel plans.\n",
        "- More importantly, there are more negative reviews about the airline's customer support's ability to handle cancellations and refunds as well as tracking customer's ticket information. "
      ]
    },
    {
      "cell_type": "markdown",
      "metadata": {},
      "source": [
        "# **2021**"
      ]
    },
    {
      "cell_type": "markdown",
      "metadata": {},
      "source": [
        "## Data slicing"
      ]
    },
    {
      "cell_type": "code",
      "execution_count": 49,
      "metadata": {
        "id": "HetGXjN5V8Xt"
      },
      "outputs": [
        {
          "data": {
            "text/plain": [
              "(85, 11)"
            ]
          },
          "execution_count": 49,
          "metadata": {},
          "output_type": "execute_result"
        }
      ],
      "source": [
        "# Get 2021 data\n",
        "df_2021 = df[df['year'] == 2021]\n",
        "df_2021.shape"
      ]
    },
    {
      "cell_type": "markdown",
      "metadata": {},
      "source": [
        "This appears to be the year that the airline is impacted the most by the pandemic as indicated by the low number of reviews."
      ]
    },
    {
      "cell_type": "code",
      "execution_count": 50,
      "metadata": {},
      "outputs": [
        {
          "data": {
            "image/png": "[encoded data removed]",
            "text/plain": [
              "<Figure size 700x400 with 1 Axes>"
            ]
          },
          "metadata": {},
          "output_type": "display_data"
        }
      ],
      "source": [
        "# Distribution of ratings in 2018\n",
        "df_2021['rating'].value_counts().sort_index().plot(kind='bar', figsize=(7, 4))\n",
        "plt.title('Distribution of Ratings in 2021')\n",
        "plt.xlabel('Rating')\n",
        "plt.ylabel('Number of Reviews')\n",
        "plt.show()"
      ]
    },
    {
      "cell_type": "markdown",
      "metadata": {},
      "source": [
        "## Fitting BERTopic on highly rated reviews"
      ]
    },
    {
      "cell_type": "code",
      "execution_count": 51,
      "metadata": {},
      "outputs": [
        {
          "name": "stdout",
          "output_type": "stream",
          "text": [
            "Total number of 2021 positive review: 29\n"
          ]
        }
      ],
      "source": [
        "df_2021_rating_4_5 = df_2021[df_2021['rating'].isin([4, 5])]\n",
        "print(\"Total number of 2021 positive review:\" , df_2021_rating_4_5.shape[0])"
      ]
    },
    {
      "cell_type": "code",
      "execution_count": 52,
      "metadata": {},
      "outputs": [],
      "source": [
        "topics, probs = topic_model.fit_transform(df_2021_rating_4_5['text'])"
      ]
    },
    {
      "cell_type": "code",
      "execution_count": 53,
      "metadata": {},
      "outputs": [
        {
          "data": {
            "text/html": [
              "<div>\n",
              "<style scoped>\n",
              "    .dataframe tbody tr th:only-of-type {\n",
              "        vertical-align: middle;\n",
              "    }\n",
              "\n",
              "    .dataframe tbody tr th {\n",
              "        vertical-align: top;\n",
              "    }\n",
              "\n",
              "    .dataframe thead th {\n",
              "        text-align: right;\n",
              "    }\n",
              "</style>\n",
              "<table border=\"1\" class=\"dataframe\">\n",
              "  <thead>\n",
              "    <tr style=\"text-align: right;\">\n",
              "      <th></th>\n",
              "      <th>Topic</th>\n",
              "      <th>Count</th>\n",
              "      <th>Name</th>\n",
              "      <th>Representation</th>\n",
              "      <th>POS</th>\n",
              "      <th>MMR</th>\n",
              "      <th>Representative_Docs</th>\n",
              "    </tr>\n",
              "  </thead>\n",
              "  <tbody>\n",
              "    <tr>\n",
              "      <th>0</th>\n",
              "      <td>-1</td>\n",
              "      <td>29</td>\n",
              "      <td>-1_changi airport_passengers_seats_drinks</td>\n",
              "      <td>[changi airport, passengers, seats, drinks, ca...</td>\n",
              "      <td>[service, covid, good, crew, economy, time, co...</td>\n",
              "      <td>[changi airport, cabin crew, meals, a350, pand...</td>\n",
              "      <td>[Extremely unusual time to fly as we  needed a...</td>\n",
              "    </tr>\n",
              "  </tbody>\n",
              "</table>\n",
              "</div>"
            ],
            "text/plain": [
              "   Topic  Count                                       Name  \\\n",
              "0     -1     29  -1_changi airport_passengers_seats_drinks   \n",
              "\n",
              "                                      Representation  \\\n",
              "0  [changi airport, passengers, seats, drinks, ca...   \n",
              "\n",
              "                                                 POS  \\\n",
              "0  [service, covid, good, crew, economy, time, co...   \n",
              "\n",
              "                                                 MMR  \\\n",
              "0  [changi airport, cabin crew, meals, a350, pand...   \n",
              "\n",
              "                                 Representative_Docs  \n",
              "0  [Extremely unusual time to fly as we  needed a...  "
            ]
          },
          "execution_count": 53,
          "metadata": {},
          "output_type": "execute_result"
        }
      ],
      "source": [
        "topic_model.get_topic_info()"
      ]
    },
    {
      "cell_type": "code",
      "execution_count": 54,
      "metadata": {},
      "outputs": [
        {
          "data": {
            "text/plain": [
              "['Extremely unusual time to fly as we  needed an exemption to fly out of Australia from the government.  We obtained one as working in Tokyo for the year as teachers.  \\nThe check in procedure does take a lot longer as more paperwork and phone calls are needed to check if you are allowed to travel.   The staff were excellent in explaining the procedure as they are working with very few numbers.\\nThe flight had 40 people only, so lots of room and yes we had 3 seats each.  The service of meals and beverages  was done very quickly and efficiently.\\nChangi airport was like a ghost town with most shops closed and all passengers are walked/transported to a transit zone until your next flight is ready.  You are then walked in single file or transported to your next flight,  so very strange as at times their seemed be more workers in PPE gear than passengers.\\nThe steps we went through at Narita were extensive, downloading apps, fill in paperwork and giving a saliva sample to test for covid 19.  It took about 2 hours to get through the steps and we only sat down for maybe 10 minutes at the last stop to get back your covid results.  The people involved were fantastic and we were lucky that we were numbers two and three in the initial first line up, but still over 2 hours it took so be aware.  We knew we were quick as the people picking us up told us we were first out.',\n",
              " 'Had to fly to SFO during covid.\\n\\nI changed my tickets three times, SIA was very accommodating, though charge some fees.\\n\\nChangi airport: almost empty, quick check in, star alliance gold lounged closed, given access to Silverkris lounge. No buffet, make to order food served at table. Excellent service.\\n\\nSFO-SIN: flight was delayed my 70min, was notified personally. We were about 20 people on board. Served 2 hot meals with all drink choices available. Snacks rounds were not done for covid safety, but snacks n drinks were kept at service area for self service.\\nToilet was very very clean, and was cleaned after every single use.\\n\\nSFO-SIN: empty airport, lounge closed, so given 25 USD/person to buy food drink at a Japanese restaurant near boarding gate. Only 6 passengers in the whole aircraft. Again served 2 hot meals and plenty of snacks offered. Before landing, crew in charge, mr Victor Lim offered a bag full of snacks water to take to our quarantine hotel.\\n\\nSIA is very reliable and provides BEST service even during the tough pandemic period.\\nWell done SIA',\n",
              " 'Relatively fast Check Inn with Singapore Airlines Business Class at Shenzhen ISZE).  However, the health procedures take sometime (there is heath quarantine)  form to complete online.  I ask question incorrectly which results in some delay (to my frustration).   The normal passport control and security -pretty easy.  The Shenzhen International Terminals has no shops open and no restaurants.   There is only vending machines for drinks only (poor!) and even all the drinks are not there.    Board on time.  There is about 30 minute delays as passengers are still passing through health controls.   Business Class seat (lie flat is comfortable) but the enclosing dividers for cubicle makes in seat tramped.  This is shame, and only fault of this plane.  Large passengers would find this uncomfortable and the arm would be pressed in - its obviously management did not test with large passengers.  No beverage service prior to departures, but cabin crew were make coffee / tea for passengers (on case by case basis). I was never asked, but don’t like or coffee.   However, my preordered drinks (whisky & Coke) came pretty quickly.   About 20 minutes (after departure).    I chose the beef option (see below) .   Due to covid all the features will served on one tray.  The chocolate tart (with biscuit crush) was great.   Watched two goods movies.   The staff (as usual) were delightful  and introduced themselves.    Flight arrived just after sunset.  Overall a very good flight.']"
            ]
          },
          "execution_count": 54,
          "metadata": {},
          "output_type": "execute_result"
        }
      ],
      "source": [
        "topic_model.get_representative_docs(-1)"
      ]
    },
    {
      "cell_type": "markdown",
      "metadata": {},
      "source": [
        "Due to such small number of review, it is difficult to draw any conclusion from the positive reviews."
      ]
    },
    {
      "cell_type": "markdown",
      "metadata": {},
      "source": [
        "## Fitting BERTopic on lowly rated reviews"
      ]
    },
    {
      "cell_type": "code",
      "execution_count": 55,
      "metadata": {},
      "outputs": [
        {
          "name": "stdout",
          "output_type": "stream",
          "text": [
            "Total number of 2021 negative review: 53\n"
          ]
        }
      ],
      "source": [
        "# Get ratings 1 and 2 from 2021 data\n",
        "df_2021_low_ratings = df_2021[df_2021['rating'].isin([1, 2])]\n",
        "print(\"Total number of 2021 negative review:\" , df_2021_low_ratings.shape[0])"
      ]
    },
    {
      "cell_type": "code",
      "execution_count": 56,
      "metadata": {},
      "outputs": [],
      "source": [
        "topics, probs = topic_model.fit_transform(df_2021_low_ratings['text'])"
      ]
    },
    {
      "cell_type": "code",
      "execution_count": 57,
      "metadata": {},
      "outputs": [
        {
          "data": {
            "text/html": [
              "<div>\n",
              "<style scoped>\n",
              "    .dataframe tbody tr th:only-of-type {\n",
              "        vertical-align: middle;\n",
              "    }\n",
              "\n",
              "    .dataframe tbody tr th {\n",
              "        vertical-align: top;\n",
              "    }\n",
              "\n",
              "    .dataframe thead th {\n",
              "        text-align: right;\n",
              "    }\n",
              "</style>\n",
              "<table border=\"1\" class=\"dataframe\">\n",
              "  <thead>\n",
              "    <tr style=\"text-align: right;\">\n",
              "      <th></th>\n",
              "      <th>Topic</th>\n",
              "      <th>Count</th>\n",
              "      <th>Name</th>\n",
              "      <th>Representation</th>\n",
              "      <th>POS</th>\n",
              "      <th>MMR</th>\n",
              "      <th>Representative_Docs</th>\n",
              "    </tr>\n",
              "  </thead>\n",
              "  <tbody>\n",
              "    <tr>\n",
              "      <th>0</th>\n",
              "      <td>-1</td>\n",
              "      <td>12</td>\n",
              "      <td>-1_inflight entertainment_food offered_meal la...</td>\n",
              "      <td>[inflight entertainment, food offered, meal la...</td>\n",
              "      <td>[meal, puppy, hours, beverage, food, upgrade, ...</td>\n",
              "      <td>[inflight entertainment, food offered, meal la...</td>\n",
              "      <td>[Flew Frankfurt to Adelaide with transit in Si...</td>\n",
              "    </tr>\n",
              "    <tr>\n",
              "      <th>1</th>\n",
              "      <td>0</td>\n",
              "      <td>31</td>\n",
              "      <td>0_refund_transit_ticket_need transit</td>\n",
              "      <td>[refund, transit, ticket, need transit, fare d...</td>\n",
              "      <td>[transit, visa, change, hours, staff, wait, ai...</td>\n",
              "      <td>[refund, fare difference, booking, airport, ho...</td>\n",
              "      <td>[I booked a round-trip ticket on Singapore Air...</td>\n",
              "    </tr>\n",
              "    <tr>\n",
              "      <th>2</th>\n",
              "      <td>1</td>\n",
              "      <td>10</td>\n",
              "      <td>1_tried calling_service bad_callback business_...</td>\n",
              "      <td>[tried calling, service bad, callback business...</td>\n",
              "      <td>[service, time, contact, website, hours, every...</td>\n",
              "      <td>[tried calling, service bad, callback business...</td>\n",
              "      <td>[Our ticket was puchased through an agent whic...</td>\n",
              "    </tr>\n",
              "  </tbody>\n",
              "</table>\n",
              "</div>"
            ],
            "text/plain": [
              "   Topic  Count                                               Name  \\\n",
              "0     -1     12  -1_inflight entertainment_food offered_meal la...   \n",
              "1      0     31               0_refund_transit_ticket_need transit   \n",
              "2      1     10  1_tried calling_service bad_callback business_...   \n",
              "\n",
              "                                      Representation  \\\n",
              "0  [inflight entertainment, food offered, meal la...   \n",
              "1  [refund, transit, ticket, need transit, fare d...   \n",
              "2  [tried calling, service bad, callback business...   \n",
              "\n",
              "                                                 POS  \\\n",
              "0  [meal, puppy, hours, beverage, food, upgrade, ...   \n",
              "1  [transit, visa, change, hours, staff, wait, ai...   \n",
              "2  [service, time, contact, website, hours, every...   \n",
              "\n",
              "                                                 MMR  \\\n",
              "0  [inflight entertainment, food offered, meal la...   \n",
              "1  [refund, fare difference, booking, airport, ho...   \n",
              "2  [tried calling, service bad, callback business...   \n",
              "\n",
              "                                 Representative_Docs  \n",
              "0  [Flew Frankfurt to Adelaide with transit in Si...  \n",
              "1  [I booked a round-trip ticket on Singapore Air...  \n",
              "2  [Our ticket was puchased through an agent whic...  "
            ]
          },
          "execution_count": 57,
          "metadata": {},
          "output_type": "execute_result"
        }
      ],
      "source": [
        "topic_model.get_topic_info()"
      ]
    },
    {
      "cell_type": "code",
      "execution_count": 58,
      "metadata": {},
      "outputs": [
        {
          "data": {
            "text/plain": [
              "{'Main': [('inflight entertainment', np.float32(0.33409753)),\n",
              "  ('food offered', np.float32(0.3326105)),\n",
              "  ('meal landing', np.float32(0.3163199)),\n",
              "  ('premium economy', np.float32(0.31127477)),\n",
              "  ('inflight', np.float32(0.29382208)),\n",
              "  ('offered meal', np.float32(0.2928443)),\n",
              "  ('complaints', np.float32(0.2575536)),\n",
              "  ('oversized baggage', np.float32(0.25153533)),\n",
              "  ('meal hours', np.float32(0.24799874)),\n",
              "  ('service', np.float32(0.24097374))],\n",
              " 'POS': [('meal', np.float64(0.026888868919567595)),\n",
              "  ('puppy', np.float64(0.020418167590978663)),\n",
              "  ('hours', np.float64(0.017155051566360827)),\n",
              "  ('beverage', np.float64(0.01697813481628213)),\n",
              "  ('food', np.float64(0.015639804216357845)),\n",
              "  ('upgrade', np.float64(0.015639804216357845)),\n",
              "  ('economy', np.float64(0.015639804216357845)),\n",
              "  ('service', np.float64(0.014903880421221035)),\n",
              "  ('special', np.float64(0.013356353005387723)),\n",
              "  ('landing', np.float64(0.013356353005387723))],\n",
              " 'MMR': [('inflight entertainment', np.float32(0.33409753)),\n",
              "  ('food offered', np.float32(0.3326105)),\n",
              "  ('meal landing', np.float32(0.3163199)),\n",
              "  ('premium economy', np.float32(0.31127477)),\n",
              "  ('oversized baggage', np.float32(0.25153533)),\n",
              "  ('cost cutting', np.float32(0.23613982)),\n",
              "  ('nothing beverage', np.float32(0.1827008)),\n",
              "  ('call center', np.float32(0.15894662)),\n",
              "  ('business class', np.float32(0.15826848)),\n",
              "  ('star', np.float32(0.15089199))]}"
            ]
          },
          "execution_count": 58,
          "metadata": {},
          "output_type": "execute_result"
        }
      ],
      "source": [
        "topic_model.get_topic(-1, full=True)"
      ]
    },
    {
      "cell_type": "code",
      "execution_count": 59,
      "metadata": {},
      "outputs": [
        {
          "data": {
            "text/plain": [
              "['Our ticket was puchased through an agent which went bankrupt during Covid.  Since the last 6 months we have been trying to get our money back.  everytime we call the contact centre, after waiting 2 or 3 hours, we end up with people who cant understand simple english and just say yes to everything.  everytime they say they will callback in 2 business days but since last time 2 months have passed and nothing.  even sending a request on the website which says that someone will revert back in 2 weeks time doesnt work.  it is the worse experince ever',\n",
              " 'SQ used to be one of the best airlines. Now it is frankly an embarrassment and a mess in terms of customer service. When I first bought my ticket they double charged me thousands of dollars and it took them a week to rectify the issue — nobody would pick up the phone, and I had to email, tweet at them, and call incessantly to get them to fix it (which they eventually did, admitting they made a mistake). Now their website is completely broken and keeps giving errors when I try to manage my booking, and when I try to get through on the phone to talk to someone (since, again, they are incapable of maintaining a working website) I have been on hold for nearly an hour (see pic). I see posts on social media that people have even waiting hours to speak to someone, and all SQ ever says is that they are experiencing high call volumes. You’d imagine they’d hire more staff or do something to address the issue, but instead they seem content to become one of the poorest customer service airlines you could possible buy a ticket from. I really used to think highly of this airline and now I will avoid flying it again. It’s just not worth the absolute nightmare of trying to get in touch with them.',\n",
              " \"They advertised complimentary rebooking which is why I chose this airline.  Because of COVID, I felt I needed the flexibility. After reading several similar reviews on tripadvisor,  I have just reported them to the Department of Transportation. Their website lacks functionality to rebook or cancel flights. Live chats with customer service state there are no representatives available.  I have tried submitting an online form 3 times with an automated response received but no follow up to resolve my issue within the time frame they promised. I have waited on hold for over an hour with their Los Angele office only to be disconnected at 1:20.  I have tried calling their office in the country I am visiting several times and I waited for over 30 minutes without success. I understand that with the pandemic, airline response times will be slower, but I began this process 18 days before my flight and still no success. \\n\\nI have never reported any business before, but this is the peak of negligence - either that or fraud.  Even if this eventually does get resolved, which I am beginning to doubt,  it has been a miserable, frustrating experience. I have resigned myself to lose a lot of money.\\n\\nMaybe in a pre or post-covid world this airline is good. But  I wouldn't book with them at this time.\"]"
            ]
          },
          "execution_count": 59,
          "metadata": {},
          "output_type": "execute_result"
        }
      ],
      "source": [
        "topic_model.get_representative_docs(1)"
      ]
    },
    {
      "cell_type": "markdown",
      "metadata": {},
      "source": [
        "## 2021 Summary\n",
        "Looking at the topic keywords and the representative docs, we can see that negative reviews are largely related to the following topics:\n",
        "- Customers frequently express frustration over how long it takes to process refunds or make changes to their bookings. These delays, often over seemingly simple matters, damage the airline’s reputation and create the impression of inefficiency.\n",
        "- Many reviewers feel that the service quality does not justify the high ticket prices. Inadequate support and unresolved issues contribute to a growing sense that the airline is overpriced for the experience it offers.\n",
        "- A critical concern raised by customers is the inability to access timely help, especially during urgent situations. Even when they manage to reach the support line, the assistance provided is often perceived as unhelpful or dismissive.\n",
        "- While less commonly mentioned, some negative reviews do highlight dissatisfaction with onboard services, particularly the quality of food and in-flight amenities."
      ]
    },
    {
      "cell_type": "markdown",
      "metadata": {},
      "source": [
        "# **2022**"
      ]
    },
    {
      "cell_type": "markdown",
      "metadata": {},
      "source": [
        "## Data slicing"
      ]
    },
    {
      "cell_type": "code",
      "execution_count": 60,
      "metadata": {},
      "outputs": [
        {
          "data": {
            "text/plain": [
              "(552, 11)"
            ]
          },
          "execution_count": 60,
          "metadata": {},
          "output_type": "execute_result"
        }
      ],
      "source": [
        "df_2022 = df[df['year'] == 2022]\n",
        "df_2022.shape"
      ]
    },
    {
      "cell_type": "code",
      "execution_count": 61,
      "metadata": {},
      "outputs": [
        {
          "data": {
            "image/png": "[encoded data removed]",
            "text/plain": [
              "<Figure size 700x400 with 1 Axes>"
            ]
          },
          "metadata": {},
          "output_type": "display_data"
        }
      ],
      "source": [
        "# Distribution of ratings in 2018\n",
        "df_2022['rating'].value_counts().sort_index().plot(kind='bar', figsize=(7, 4))\n",
        "plt.title('Distribution of Ratings in 2022')\n",
        "plt.xlabel('Rating')\n",
        "plt.ylabel('Number of Reviews')\n",
        "plt.show()"
      ]
    },
    {
      "cell_type": "markdown",
      "metadata": {},
      "source": [
        "## Fitting BERTopic on highly rated reviews"
      ]
    },
    {
      "cell_type": "code",
      "execution_count": 62,
      "metadata": {},
      "outputs": [
        {
          "name": "stdout",
          "output_type": "stream",
          "text": [
            "Total number of 2022 positive review: 124\n"
          ]
        }
      ],
      "source": [
        "df_2022_rating_4_5 = df_2022[df_2022['rating'].isin([4, 5])]\n",
        "print(\"Total number of 2022 positive review:\" , df_2022_rating_4_5.shape[0])"
      ]
    },
    {
      "cell_type": "code",
      "execution_count": 63,
      "metadata": {},
      "outputs": [
        {
          "data": {
            "text/html": [
              "<div>\n",
              "<style scoped>\n",
              "    .dataframe tbody tr th:only-of-type {\n",
              "        vertical-align: middle;\n",
              "    }\n",
              "\n",
              "    .dataframe tbody tr th {\n",
              "        vertical-align: top;\n",
              "    }\n",
              "\n",
              "    .dataframe thead th {\n",
              "        text-align: right;\n",
              "    }\n",
              "</style>\n",
              "<table border=\"1\" class=\"dataframe\">\n",
              "  <thead>\n",
              "    <tr style=\"text-align: right;\">\n",
              "      <th></th>\n",
              "      <th>Topic</th>\n",
              "      <th>Count</th>\n",
              "      <th>Name</th>\n",
              "      <th>Representation</th>\n",
              "      <th>POS</th>\n",
              "      <th>MMR</th>\n",
              "      <th>Representative_Docs</th>\n",
              "    </tr>\n",
              "  </thead>\n",
              "  <tbody>\n",
              "    <tr>\n",
              "      <th>0</th>\n",
              "      <td>-1</td>\n",
              "      <td>33</td>\n",
              "      <td>-1_class passengers_cabin crew_class seats_pas...</td>\n",
              "      <td>[class passengers, cabin crew, class seats, pa...</td>\n",
              "      <td>[passengers, service, class, seat, business, t...</td>\n",
              "      <td>[class passengers, cabin crew, boarding, seats...</td>\n",
              "      <td>[Check-In : At the dedicated Business Class ch...</td>\n",
              "    </tr>\n",
              "    <tr>\n",
              "      <th>1</th>\n",
              "      <td>0</td>\n",
              "      <td>65</td>\n",
              "      <td>0_cabin crew_cabin_hospitality_seats</td>\n",
              "      <td>[cabin crew, cabin, hospitality, seats, premiu...</td>\n",
              "      <td>[service, crew, food, good, economy, best, gre...</td>\n",
              "      <td>[cabin crew, hospitality, seats, premium econo...</td>\n",
              "      <td>[Flew Singapore Airlines from JFK to Jakarta, ...</td>\n",
              "    </tr>\n",
              "    <tr>\n",
              "      <th>2</th>\n",
              "      <td>1</td>\n",
              "      <td>26</td>\n",
              "      <td>1_boarding plane_boarding_incredible cabin_pla...</td>\n",
              "      <td>[boarding plane, boarding, incredible cabin, p...</td>\n",
              "      <td>[good, food, boarding, seat, great, class, cre...</td>\n",
              "      <td>[boarding plane, incredible cabin, seats, crew...</td>\n",
              "      <td>[Lounge : SilverKris Lounge\\nVery disappointin...</td>\n",
              "    </tr>\n",
              "  </tbody>\n",
              "</table>\n",
              "</div>"
            ],
            "text/plain": [
              "   Topic  Count                                               Name  \\\n",
              "0     -1     33  -1_class passengers_cabin crew_class seats_pas...   \n",
              "1      0     65               0_cabin crew_cabin_hospitality_seats   \n",
              "2      1     26  1_boarding plane_boarding_incredible cabin_pla...   \n",
              "\n",
              "                                      Representation  \\\n",
              "0  [class passengers, cabin crew, class seats, pa...   \n",
              "1  [cabin crew, cabin, hospitality, seats, premiu...   \n",
              "2  [boarding plane, boarding, incredible cabin, p...   \n",
              "\n",
              "                                                 POS  \\\n",
              "0  [passengers, service, class, seat, business, t...   \n",
              "1  [service, crew, food, good, economy, best, gre...   \n",
              "2  [good, food, boarding, seat, great, class, cre...   \n",
              "\n",
              "                                                 MMR  \\\n",
              "0  [class passengers, cabin crew, boarding, seats...   \n",
              "1  [cabin crew, hospitality, seats, premium econo...   \n",
              "2  [boarding plane, incredible cabin, seats, crew...   \n",
              "\n",
              "                                 Representative_Docs  \n",
              "0  [Check-In : At the dedicated Business Class ch...  \n",
              "1  [Flew Singapore Airlines from JFK to Jakarta, ...  \n",
              "2  [Lounge : SilverKris Lounge\\nVery disappointin...  "
            ]
          },
          "execution_count": 63,
          "metadata": {},
          "output_type": "execute_result"
        }
      ],
      "source": [
        "topics, probs = topic_model.fit_transform(df_2022_rating_4_5['text'])\n",
        "topic_model.get_topic_info()"
      ]
    },
    {
      "cell_type": "code",
      "execution_count": 64,
      "metadata": {},
      "outputs": [
        {
          "data": {
            "text/plain": [
              "{'Main': [('boarding plane', np.float32(0.49575403)),\n",
              "  ('boarding', np.float32(0.4525416)),\n",
              "  ('incredible cabin', np.float32(0.43974277)),\n",
              "  ('plane seemed', np.float32(0.4321625)),\n",
              "  ('crew friendly', np.float32(0.41750714)),\n",
              "  ('cabin', np.float32(0.40499973)),\n",
              "  ('seats', np.float32(0.40005577)),\n",
              "  ('crew seemed', np.float32(0.37884218)),\n",
              "  ('boeing', np.float32(0.37360618)),\n",
              "  ('clean spacious', np.float32(0.36468735))],\n",
              " 'POS': [('good', np.float64(0.03407359462259997)),\n",
              "  ('food', np.float64(0.025080444588778446)),\n",
              "  ('boarding', np.float64(0.02343878683029902)),\n",
              "  ('seat', np.float64(0.018087728301500485)),\n",
              "  ('great', np.float64(0.016794474195242368)),\n",
              "  ('class', np.float64(0.016271477590897143)),\n",
              "  ('crew', np.float64(0.016168196594683718)),\n",
              "  ('check', np.float64(0.014082264408161167)),\n",
              "  ('service', np.float64(0.014005856438180298)),\n",
              "  ('plane', np.float64(0.013451650682619071))],\n",
              " 'MMR': [('boarding plane', np.float32(0.49575403)),\n",
              "  ('incredible cabin', np.float32(0.43974277)),\n",
              "  ('seats', np.float32(0.40005577)),\n",
              "  ('crew seemed', np.float32(0.37884218)),\n",
              "  ('boeing', np.float32(0.37360618)),\n",
              "  ('clean spacious', np.float32(0.36468735)),\n",
              "  ('a350', np.float32(0.33041516)),\n",
              "  ('galley', np.float32(0.3075253)),\n",
              "  ('lounge silverkris', np.float32(0.28513426)),\n",
              "  ('business class', np.float32(0.27283114))]}"
            ]
          },
          "execution_count": 64,
          "metadata": {},
          "output_type": "execute_result"
        }
      ],
      "source": [
        "topic_model.get_topic(1, full=True)"
      ]
    },
    {
      "cell_type": "markdown",
      "metadata": {},
      "source": [
        "## Fitting BERTopic on lowly rated reviews"
      ]
    },
    {
      "cell_type": "code",
      "execution_count": 65,
      "metadata": {},
      "outputs": [
        {
          "name": "stdout",
          "output_type": "stream",
          "text": [
            "Total number of 2022 negative review: 365\n"
          ]
        }
      ],
      "source": [
        "df_2022_rating_1_2 = df_2022[df_2022['rating'].isin([1, 2])]\n",
        "print(\"Total number of 2022 negative review:\" , df_2022_rating_1_2.shape[0])"
      ]
    },
    {
      "cell_type": "code",
      "execution_count": 66,
      "metadata": {},
      "outputs": [
        {
          "data": {
            "text/html": [
              "<div>\n",
              "<style scoped>\n",
              "    .dataframe tbody tr th:only-of-type {\n",
              "        vertical-align: middle;\n",
              "    }\n",
              "\n",
              "    .dataframe tbody tr th {\n",
              "        vertical-align: top;\n",
              "    }\n",
              "\n",
              "    .dataframe thead th {\n",
              "        text-align: right;\n",
              "    }\n",
              "</style>\n",
              "<table border=\"1\" class=\"dataframe\">\n",
              "  <thead>\n",
              "    <tr style=\"text-align: right;\">\n",
              "      <th></th>\n",
              "      <th>Topic</th>\n",
              "      <th>Count</th>\n",
              "      <th>Name</th>\n",
              "      <th>Representation</th>\n",
              "      <th>POS</th>\n",
              "      <th>MMR</th>\n",
              "      <th>Representative_Docs</th>\n",
              "    </tr>\n",
              "  </thead>\n",
              "  <tbody>\n",
              "    <tr>\n",
              "      <th>0</th>\n",
              "      <td>-1</td>\n",
              "      <td>206</td>\n",
              "      <td>-1_booking_changi_melbourne_passengers</td>\n",
              "      <td>[booking, changi, melbourne, passengers, refun...</td>\n",
              "      <td>[service, economy, time, hours, food, call, cl...</td>\n",
              "      <td>[changi, passengers, refund, airport, brisbane...</td>\n",
              "      <td>[Singapore Airlines (SIA) is terrible\\nOutboun...</td>\n",
              "    </tr>\n",
              "    <tr>\n",
              "      <th>1</th>\n",
              "      <td>0</td>\n",
              "      <td>42</td>\n",
              "      <td>0_economy class_premium economy_passengers_seats</td>\n",
              "      <td>[economy class, premium economy, passengers, s...</td>\n",
              "      <td>[economy, food, seat, small, seats, class, mea...</td>\n",
              "      <td>[economy class, passengers, seats, lounge, mea...</td>\n",
              "      <td>[This review covers four business class flight...</td>\n",
              "    </tr>\n",
              "    <tr>\n",
              "      <th>2</th>\n",
              "      <td>1</td>\n",
              "      <td>31</td>\n",
              "      <td>1_refund_return ticket_fare difference_booking</td>\n",
              "      <td>[refund, return ticket, fare difference, booki...</td>\n",
              "      <td>[change, ticket, booking, return, email, fare,...</td>\n",
              "      <td>[refund, return ticket, fare difference, booki...</td>\n",
              "      <td>[post- Covid19 left Singapore Airlines with ve...</td>\n",
              "    </tr>\n",
              "    <tr>\n",
              "      <th>3</th>\n",
              "      <td>2</td>\n",
              "      <td>28</td>\n",
              "      <td>2_requested refund_refund ticket_waiting refun...</td>\n",
              "      <td>[requested refund, refund ticket, waiting refu...</td>\n",
              "      <td>[refund, department, call, email, booking, pho...</td>\n",
              "      <td>[requested refund, refund ticket, rebook ticke...</td>\n",
              "      <td>[I have been trying to rebook a flight which w...</td>\n",
              "    </tr>\n",
              "    <tr>\n",
              "      <th>4</th>\n",
              "      <td>3</td>\n",
              "      <td>27</td>\n",
              "      <td>3_luggage lost_lost baggage_lost luggage_singa...</td>\n",
              "      <td>[luggage lost, lost baggage, lost luggage, sin...</td>\n",
              "      <td>[luggage, baggage, lost, service, bag, parents...</td>\n",
              "      <td>[luggage lost, singaporeair, baggage, sin lax,...</td>\n",
              "      <td>[I flew business class on the SQ23 from NYC to...</td>\n",
              "    </tr>\n",
              "    <tr>\n",
              "      <th>5</th>\n",
              "      <td>4</td>\n",
              "      <td>19</td>\n",
              "      <td>4_trips service_booking_annoyed booked_sending...</td>\n",
              "      <td>[trips service, booking, annoyed booked, sendi...</td>\n",
              "      <td>[phone, time, service, emails, hours, name, al...</td>\n",
              "      <td>[trips service, booking, refund, ticket clear,...</td>\n",
              "      <td>[Purchased business class LAX- Singaore - they...</td>\n",
              "    </tr>\n",
              "    <tr>\n",
              "      <th>6</th>\n",
              "      <td>5</td>\n",
              "      <td>12</td>\n",
              "      <td>5_boarding_connecting passengers_passengers_de...</td>\n",
              "      <td>[boarding, connecting passengers, passengers, ...</td>\n",
              "      <td>[hours, service, singapor, air, delayed, great...</td>\n",
              "      <td>[boarding, connecting passengers, airport, 18 ...</td>\n",
              "      <td>[I was excited to try Singapore airlines for t...</td>\n",
              "    </tr>\n",
              "  </tbody>\n",
              "</table>\n",
              "</div>"
            ],
            "text/plain": [
              "   Topic  Count                                               Name  \\\n",
              "0     -1    206             -1_booking_changi_melbourne_passengers   \n",
              "1      0     42   0_economy class_premium economy_passengers_seats   \n",
              "2      1     31     1_refund_return ticket_fare difference_booking   \n",
              "3      2     28  2_requested refund_refund ticket_waiting refun...   \n",
              "4      3     27  3_luggage lost_lost baggage_lost luggage_singa...   \n",
              "5      4     19  4_trips service_booking_annoyed booked_sending...   \n",
              "6      5     12  5_boarding_connecting passengers_passengers_de...   \n",
              "\n",
              "                                      Representation  \\\n",
              "0  [booking, changi, melbourne, passengers, refun...   \n",
              "1  [economy class, premium economy, passengers, s...   \n",
              "2  [refund, return ticket, fare difference, booki...   \n",
              "3  [requested refund, refund ticket, waiting refu...   \n",
              "4  [luggage lost, lost baggage, lost luggage, sin...   \n",
              "5  [trips service, booking, annoyed booked, sendi...   \n",
              "6  [boarding, connecting passengers, passengers, ...   \n",
              "\n",
              "                                                 POS  \\\n",
              "0  [service, economy, time, hours, food, call, cl...   \n",
              "1  [economy, food, seat, small, seats, class, mea...   \n",
              "2  [change, ticket, booking, return, email, fare,...   \n",
              "3  [refund, department, call, email, booking, pho...   \n",
              "4  [luggage, baggage, lost, service, bag, parents...   \n",
              "5  [phone, time, service, emails, hours, name, al...   \n",
              "6  [hours, service, singapor, air, delayed, great...   \n",
              "\n",
              "                                                 MMR  \\\n",
              "0  [changi, passengers, refund, airport, brisbane...   \n",
              "1  [economy class, passengers, seats, lounge, mea...   \n",
              "2  [refund, return ticket, fare difference, booki...   \n",
              "3  [requested refund, refund ticket, rebook ticke...   \n",
              "4  [luggage lost, singaporeair, baggage, sin lax,...   \n",
              "5  [trips service, booking, refund, ticket clear,...   \n",
              "6  [boarding, connecting passengers, airport, 18 ...   \n",
              "\n",
              "                                 Representative_Docs  \n",
              "0  [Singapore Airlines (SIA) is terrible\\nOutboun...  \n",
              "1  [This review covers four business class flight...  \n",
              "2  [post- Covid19 left Singapore Airlines with ve...  \n",
              "3  [I have been trying to rebook a flight which w...  \n",
              "4  [I flew business class on the SQ23 from NYC to...  \n",
              "5  [Purchased business class LAX- Singaore - they...  \n",
              "6  [I was excited to try Singapore airlines for t...  "
            ]
          },
          "execution_count": 66,
          "metadata": {},
          "output_type": "execute_result"
        }
      ],
      "source": [
        "topics, probs = topic_model.fit_transform(df_2022_rating_1_2['text'])\n",
        "topic_model.get_topic_info()"
      ]
    },
    {
      "cell_type": "code",
      "execution_count": 67,
      "metadata": {},
      "outputs": [
        {
          "data": {
            "text/plain": [
              "{'Main': [('boarding', np.float32(0.32352397)),\n",
              "  ('connecting passengers', np.float32(0.31455958)),\n",
              "  ('passengers', np.float32(0.31216693)),\n",
              "  ('delayed', np.float32(0.30192202)),\n",
              "  ('airport', np.float32(0.28290826)),\n",
              "  ('air hostess', np.float32(0.28136918)),\n",
              "  ('18 hours', np.float32(0.26763615)),\n",
              "  ('plane', np.float32(0.26636878)),\n",
              "  ('lost time', np.float32(0.24842851)),\n",
              "  ('changi', np.float32(0.24656533))],\n",
              " 'POS': [('hours', np.float64(0.017804310925873992)),\n",
              "  ('service', np.float64(0.017287518279628745)),\n",
              "  ('singapor', np.float64(0.01614890931993687)),\n",
              "  ('air', np.float64(0.015772671843293395)),\n",
              "  ('delayed', np.float64(0.014004305119426574)),\n",
              "  ('great', np.float64(0.012843182408300348)),\n",
              "  ('connection', np.float64(0.0117196378959328)),\n",
              "  ('time', np.float64(0.011647388845064286)),\n",
              "  ('virgin', np.float64(0.011486198081964907)),\n",
              "  ('food', np.float64(0.01123210760218619))],\n",
              " 'MMR': [('boarding', np.float32(0.32352397)),\n",
              "  ('connecting passengers', np.float32(0.31455958)),\n",
              "  ('airport', np.float32(0.28290826)),\n",
              "  ('18 hours', np.float32(0.26763615)),\n",
              "  ('lost time', np.float32(0.24842851)),\n",
              "  ('jakarta', np.float32(0.24054338)),\n",
              "  ('leaves sfo', np.float32(0.23735382)),\n",
              "  ('hostess', np.float32(0.2318925)),\n",
              "  ('punctuality', np.float32(0.20051396)),\n",
              "  ('sleep straight', np.float32(0.16276819))]}"
            ]
          },
          "execution_count": 67,
          "metadata": {},
          "output_type": "execute_result"
        }
      ],
      "source": [
        "topic_model.get_topic(5, full=True)"
      ]
    },
    {
      "cell_type": "code",
      "execution_count": 68,
      "metadata": {},
      "outputs": [
        {
          "data": {
            "text/plain": [
              "['I was excited to try Singapore airlines for the first time to see the service and hype it boasts about. Unfortunately, the service was average. First flight punctuality was horrendous they had delayed departure for almost 45 minutes the cabin crew and ground staff decided to show exception to a passenger who boarded the flight late where as did not show exception to connecting flight passengers who had to reach on time to connect the flight towards their destination. Despite the assurance provided by staff that they would ask ground staff to delay the connecting flights so we could board they did not amid so we were rebooked. Therefore, connecting flight passengers were stranded at Singapore airport missing their connection flight the lounge provided was average nothing great no reclining seats to sleep it was straight on L shaped sofas also some staff were rude. Seems like we were deliberately delayed to miss the flight and had to wait for more than 10 hours. Therefore, 19 hours journey became 29 hours. Overall, very exhausting and tiring journey. Then when we boarded the connecting flight after waiting for 10 hours the flight was good but the services were not exceptional the same desert for twice the meal nothing different and the the food provided was not what I ordered despite I was loud and clear on my option the air hostess deliberately gave me the option I did not want but I was able to switch the food option as another air hostess passed by and I told her the other air hostess mixed up my choice of food. Also there are no fruit or salads provided which every flight provides. Also when we landed at destination our luggage was delayed for an hour which takes maximum 15 minutes. Overall, considering factors like punctuality, service it’s not really that excellent it’s ok.',\n",
              " 'Well well well… Singapore Airlines strikes again! \\n\\nAfter yet again another usual delayed flight with Singapore Airlines (FR208), from Heathrow to Singapore, the drinks service was non-existent, the only regular service was for business and premium economy classes. After almost dying of thirst, economy class passengers decided to start collecting their own drinks! Absolutely no effort was made by the captain to make up for lost time in the air, even though there was a tail wind for more than two thirds of the journey! \\nThis followed with a lack of communication between the Captain and the ground crew as a parking space for the aircraft had not been allocated on arrival,\\ncausing further delays for passengers trying to disembark the aircraft for any further connection flights. Many passengers (about 45) had a connecting flight to bali from Singapore with the narrowest time window possible and yes of course the connection terminal was an early morning marathon as we all had to run from one side of the airport terminal  to get to the other side of a different terminal within Singapore airport. All 45 of us managed to board the connection flight but guess what…yes you guessed it…the baggage was not transferred to the flight ! Another outstanding stunt and lack of incompetence from Singapore Airlines. \\nAll 45 of us who were on the connecting flight are now on the other side of the world, after a 17 hour flight, with no luggage, having to buy clothes, shoes and toiletries out of our own pockets. Cheers Singapore Airlines, thank you so much for your lack of care, attention, support and customer service. You have ruined our holiday and cost us a lot of money. None of the 45  passengers with missing luggage are any wiser as to where our bags are, as you have washed your hands of speaking to any of us and have passed the blame onto someone else as usual. You do not care care for your passengers once you have had our money! \\nPLEASE DO NOT FLY with SINGAPORE AIRLINES , unless you want to be treated like dirt. \\nIf there are any Singapore Airlines social media representatives out there who wish to manage their reputation by responding to this review with fake apologies, then please do not bother, instead, find our bags, compensate us for our expenses, ruined holiday and lost time. Do the right thing for a change and look after your passengers!',\n",
              " 'Considering this is the longest flight in the world, the flagship flight for Singapore Airlines, and the price paid, SA failed to deliver in PremEco.  But really it was all about the service, not the seat.\\n\\nSide note- Early Check-In at Changi Jewel to bag drop hours early is not allowed for SIN > USA.  Strike 1. Previous issues with SA\\'s website prevented us from booking the preferred seat in the front row with more legroom.  All attempts to contact SA customer support were ignored or incredibly delayed until the seat was booked by someone else.  Strike 2 and 3. \\n\\nBoarding area isn\\'t too special.  Announcements for boarding were poor.  Anyone not in 1st or Business class is definitely made to feel like the lowest.  Take off was almost 1am, but they decided to serve one of two meals right afterwards while everyone went to sleep.  Strike 4.  Meager efforts to offer food or beverage (let alone alcohol) the rest of the 17 hours.  Strike 5  Food was average, but below expectations for (again) the flagship flight / longest in world. Powder egg omelet/potatoes or chicken/fries  Crew was back in my face to remove my food 4 minutes after they\\'d served it, since the crew couldn\\'t wait to disappear for hours at a time.  Strike 6.  Not friendly, not looking to serve passengers paying top $ but quite ready to act superior to tell you what they can\\'t do, can\\'t serve and quick to use degrading tones to tell you to sit down, buckle up.\\n\\nExample 1: Would I like something to drink?  Yes, do you have hot tea?  We have English breakfast tea.  Do you have other flavors?  No.  Stunning.\\n\\nExample 2: Captain turns on seatbelt sign due to turbulence, attendants go to the back galley and start talking.  Turbulence ends, captain turns off seatbelt sign.  I get up and walk to the toilets.  Attendant, still seated talking to another attendant, turns to me and says \"you need to sit down.\"  Me: \"no sir, the seatbelt sign got turned off, and I\\'m hear to use the bathroom.  Pay attention and do your job\".\\n\\nWifi is only for upper class or KrisFlyer members.  Guess what, I am... but when I enter my info, it fails to connect.  Strike 7 (by the way, it isn\\'t high-speed internet anyway Strike 8).  4 whole channels of live TV, sad Strike 9.  Movie selection is average.  When you\\'re stuck in a tube for 18 hours, it needs to be spectacular, Strike 10.  No personal air control, and when sitting on tarmac, there is no air... so guess what, in Singapore it gets hot and humid really fast.  Strike 11.\\nI am a KrisFlyer member 8866151784 but logging into the wifi portal with my KrisFlyer information gave error \"Complimentary WiFi is not available for these details\".  Same result on second SG22 flight.  Unacceptable- Strike 12.\\n\\nPremEco seat was one of the best I\\'ve used, so I slept longer than most flights.  That was a good thing in itself, but also because it allowed me to skip more of the unpleastantness when awake.\\n\\nFor high-priced ticket, on a flagship flight of a highly-rated airlines, this was a well-rounded 17hr letdown.  But arrived ontime at least.']"
            ]
          },
          "execution_count": 68,
          "metadata": {},
          "output_type": "execute_result"
        }
      ],
      "source": [
        "topic_model.get_representative_docs(5)"
      ]
    },
    {
      "cell_type": "markdown",
      "metadata": {},
      "source": [
        "## 2022 Summary\n",
        "The issues identified in 2021 have not only persisted into 2022 but appear to have worsened in several key areas:\n",
        "- A notable shift in 2022 is the increase in complaints from premium and business class passengers. This signals a deeper problem with the quality of in-flight service, particularly the professionalism and attentiveness of the cabin crew.\n",
        "- Ticketing-related problems—such as booking errors, refund delays, and difficulties in making changes—have become more frequent and severe. This growing volume of complaints raises concerns about the airline’s operational efficiency and customer service infrastructure.\n",
        "- Delays and last-minute cancellations remain a major pain point for customers, contributing to a negative travel experience and further eroding trust in the airline.\n",
        "- Both pre-departure and in-flight customer service are showing signs of deterioration. Reviews increasingly mention poor responsiveness and delays in basic onboard services such as food and beverages, further impacting customer satisfaction."
      ]
    },
    {
      "cell_type": "markdown",
      "metadata": {},
      "source": [
        "# **2023**"
      ]
    },
    {
      "cell_type": "markdown",
      "metadata": {},
      "source": [
        "## Data slicing"
      ]
    },
    {
      "cell_type": "code",
      "execution_count": 69,
      "metadata": {},
      "outputs": [
        {
          "data": {
            "text/plain": [
              "(535, 11)"
            ]
          },
          "execution_count": 69,
          "metadata": {},
          "output_type": "execute_result"
        }
      ],
      "source": [
        "df_2023 = df[df['year'] == 2023]\n",
        "df_2023.shape"
      ]
    },
    {
      "cell_type": "code",
      "execution_count": 70,
      "metadata": {},
      "outputs": [
        {
          "data": {
            "image/png": "[encoded data removed]",
            "text/plain": [
              "<Figure size 700x400 with 1 Axes>"
            ]
          },
          "metadata": {},
          "output_type": "display_data"
        }
      ],
      "source": [
        "# Distribution of ratings in 2018\n",
        "df_2023['rating'].value_counts().sort_index().plot(kind='bar', figsize=(7, 4))\n",
        "plt.title('Distribution of Ratings in 2023')\n",
        "plt.xlabel('Rating')\n",
        "plt.ylabel('Number of Reviews')\n",
        "plt.show()"
      ]
    },
    {
      "cell_type": "markdown",
      "metadata": {},
      "source": [
        "## Fitting BERTopic on highly rated reviews"
      ]
    },
    {
      "cell_type": "code",
      "execution_count": 71,
      "metadata": {},
      "outputs": [
        {
          "name": "stdout",
          "output_type": "stream",
          "text": [
            "Total number of 2023 positive review: 183\n"
          ]
        }
      ],
      "source": [
        "df_2023_rating_4_5 = df_2023[df_2023['rating'].isin([4, 5])]\n",
        "print(\"Total number of 2023 positive review:\" , df_2023_rating_4_5.shape[0])"
      ]
    },
    {
      "cell_type": "code",
      "execution_count": 72,
      "metadata": {},
      "outputs": [
        {
          "data": {
            "text/html": [
              "<div>\n",
              "<style scoped>\n",
              "    .dataframe tbody tr th:only-of-type {\n",
              "        vertical-align: middle;\n",
              "    }\n",
              "\n",
              "    .dataframe tbody tr th {\n",
              "        vertical-align: top;\n",
              "    }\n",
              "\n",
              "    .dataframe thead th {\n",
              "        text-align: right;\n",
              "    }\n",
              "</style>\n",
              "<table border=\"1\" class=\"dataframe\">\n",
              "  <thead>\n",
              "    <tr style=\"text-align: right;\">\n",
              "      <th></th>\n",
              "      <th>Topic</th>\n",
              "      <th>Count</th>\n",
              "      <th>Name</th>\n",
              "      <th>Representation</th>\n",
              "      <th>POS</th>\n",
              "      <th>MMR</th>\n",
              "      <th>Representative_Docs</th>\n",
              "    </tr>\n",
              "  </thead>\n",
              "  <tbody>\n",
              "    <tr>\n",
              "      <th>0</th>\n",
              "      <td>-1</td>\n",
              "      <td>69</td>\n",
              "      <td>-1_passengers_baggage_class seats_cabin</td>\n",
              "      <td>[passengers, baggage, class seats, cabin, lugg...</td>\n",
              "      <td>[class, economy, seat, passengers, seats, busi...</td>\n",
              "      <td>[passengers, baggage, class seats, cabin, busi...</td>\n",
              "      <td>[We flew on Singapore Airlines B787-10 for thi...</td>\n",
              "    </tr>\n",
              "    <tr>\n",
              "      <th>1</th>\n",
              "      <td>0</td>\n",
              "      <td>61</td>\n",
              "      <td>0_boarding_cabin_cabin crew_airport</td>\n",
              "      <td>[boarding, cabin, cabin crew, airport, plane, ...</td>\n",
              "      <td>[service, food, experience, good, great, time,...</td>\n",
              "      <td>[boarding, cabin crew, airport, changi, travel...</td>\n",
              "      <td>[We recently flew coach on Singapore Airlines ...</td>\n",
              "    </tr>\n",
              "    <tr>\n",
              "      <th>2</th>\n",
              "      <td>1</td>\n",
              "      <td>53</td>\n",
              "      <td>1_boarding_seats_cabin_inflight</td>\n",
              "      <td>[boarding, seats, cabin, inflight, meal, meals...</td>\n",
              "      <td>[seat, service, good, food, great, staff, crew...</td>\n",
              "      <td>[boarding, seats, cabin, meals, aircraft, a350...</td>\n",
              "      <td>[After a pleasant stay at the Silver Kris loun...</td>\n",
              "    </tr>\n",
              "  </tbody>\n",
              "</table>\n",
              "</div>"
            ],
            "text/plain": [
              "   Topic  Count                                     Name  \\\n",
              "0     -1     69  -1_passengers_baggage_class seats_cabin   \n",
              "1      0     61      0_boarding_cabin_cabin crew_airport   \n",
              "2      1     53          1_boarding_seats_cabin_inflight   \n",
              "\n",
              "                                      Representation  \\\n",
              "0  [passengers, baggage, class seats, cabin, lugg...   \n",
              "1  [boarding, cabin, cabin crew, airport, plane, ...   \n",
              "2  [boarding, seats, cabin, inflight, meal, meals...   \n",
              "\n",
              "                                                 POS  \\\n",
              "0  [class, economy, seat, passengers, seats, busi...   \n",
              "1  [service, food, experience, good, great, time,...   \n",
              "2  [seat, service, good, food, great, staff, crew...   \n",
              "\n",
              "                                                 MMR  \\\n",
              "0  [passengers, baggage, class seats, cabin, busi...   \n",
              "1  [boarding, cabin crew, airport, changi, travel...   \n",
              "2  [boarding, seats, cabin, meals, aircraft, a350...   \n",
              "\n",
              "                                 Representative_Docs  \n",
              "0  [We flew on Singapore Airlines B787-10 for thi...  \n",
              "1  [We recently flew coach on Singapore Airlines ...  \n",
              "2  [After a pleasant stay at the Silver Kris loun...  "
            ]
          },
          "execution_count": 72,
          "metadata": {},
          "output_type": "execute_result"
        }
      ],
      "source": [
        "topics, probs = topic_model.fit_transform(df_2023_rating_4_5['text'])\n",
        "topic_model.get_topic_info()"
      ]
    },
    {
      "cell_type": "code",
      "execution_count": 73,
      "metadata": {},
      "outputs": [
        {
          "data": {
            "text/plain": [
              "{'Main': [('boarding', np.float32(0.41062257)),\n",
              "  ('seats', np.float32(0.3631532)),\n",
              "  ('cabin', np.float32(0.35801998)),\n",
              "  ('inflight', np.float32(0.3371767)),\n",
              "  ('meal', np.float32(0.33014247)),\n",
              "  ('meals', np.float32(0.3153733)),\n",
              "  ('aircraft', np.float32(0.3061269)),\n",
              "  ('seat', np.float32(0.30603677)),\n",
              "  ('plane', np.float32(0.29172614)),\n",
              "  ('crew', np.float32(0.282412))],\n",
              " 'POS': [('seat', np.float64(0.028251438905596282)),\n",
              "  ('service', np.float64(0.024673020146673972)),\n",
              "  ('good', np.float64(0.02357332757203222)),\n",
              "  ('food', np.float64(0.020673111719708336)),\n",
              "  ('great', np.float64(0.02049400446749534)),\n",
              "  ('staff', np.float64(0.020206422375572068)),\n",
              "  ('crew', np.float64(0.01994203903273847)),\n",
              "  ('excellent', np.float64(0.017108504706065376)),\n",
              "  ('seats', np.float64(0.015464088448163585)),\n",
              "  ('time', np.float64(0.014880500092704169))],\n",
              " 'MMR': [('boarding', np.float32(0.41062257)),\n",
              "  ('seats', np.float32(0.3631532)),\n",
              "  ('cabin', np.float32(0.35801998)),\n",
              "  ('meals', np.float32(0.3153733)),\n",
              "  ('aircraft', np.float32(0.3061269)),\n",
              "  ('a350', np.float32(0.2657036)),\n",
              "  ('best service', np.float32(0.26227167)),\n",
              "  ('entire crew', np.float32(0.2563612)),\n",
              "  ('pleasant', np.float32(0.24040094)),\n",
              "  ('business class', np.float32(0.19554591))]}"
            ]
          },
          "execution_count": 73,
          "metadata": {},
          "output_type": "execute_result"
        }
      ],
      "source": [
        "topic_model.get_topic(1, full=True)"
      ]
    },
    {
      "cell_type": "markdown",
      "metadata": {},
      "source": [
        "## Fitting BERTopic on lowly rated reviews"
      ]
    },
    {
      "cell_type": "code",
      "execution_count": 74,
      "metadata": {},
      "outputs": [
        {
          "name": "stdout",
          "output_type": "stream",
          "text": [
            "Total number of 2023 negative review: 283\n"
          ]
        }
      ],
      "source": [
        "df_2023_rating_1_2 = df_2023[df_2023['rating'].isin([1, 2])]\n",
        "print(\"Total number of 2023 negative review:\" , df_2023_rating_1_2.shape[0])"
      ]
    },
    {
      "cell_type": "code",
      "execution_count": 75,
      "metadata": {},
      "outputs": [
        {
          "data": {
            "text/html": [
              "<div>\n",
              "<style scoped>\n",
              "    .dataframe tbody tr th:only-of-type {\n",
              "        vertical-align: middle;\n",
              "    }\n",
              "\n",
              "    .dataframe tbody tr th {\n",
              "        vertical-align: top;\n",
              "    }\n",
              "\n",
              "    .dataframe thead th {\n",
              "        text-align: right;\n",
              "    }\n",
              "</style>\n",
              "<table border=\"1\" class=\"dataframe\">\n",
              "  <thead>\n",
              "    <tr style=\"text-align: right;\">\n",
              "      <th></th>\n",
              "      <th>Topic</th>\n",
              "      <th>Count</th>\n",
              "      <th>Name</th>\n",
              "      <th>Representation</th>\n",
              "      <th>POS</th>\n",
              "      <th>MMR</th>\n",
              "      <th>Representative_Docs</th>\n",
              "    </tr>\n",
              "  </thead>\n",
              "  <tbody>\n",
              "    <tr>\n",
              "      <th>0</th>\n",
              "      <td>-1</td>\n",
              "      <td>85</td>\n",
              "      <td>-1_booking_passengers_boarding_ticket</td>\n",
              "      <td>[booking, passengers, boarding, ticket, fare, ...</td>\n",
              "      <td>[seats, service, staff, class, seat, business,...</td>\n",
              "      <td>[booking, passengers, fare, changi, airport, i...</td>\n",
              "      <td>[I have used SQ and Changi often and generally...</td>\n",
              "    </tr>\n",
              "    <tr>\n",
              "      <th>1</th>\n",
              "      <td>0</td>\n",
              "      <td>96</td>\n",
              "      <td>0_passengers_seats_inflight_cabin crew</td>\n",
              "      <td>[passengers, seats, inflight, cabin crew, cabi...</td>\n",
              "      <td>[economy, crew, food, service, meal, premium, ...</td>\n",
              "      <td>[passengers, seats, airport, attendants, meal ...</td>\n",
              "      <td>[Travelled with Singapore on their premium eco...</td>\n",
              "    </tr>\n",
              "    <tr>\n",
              "      <th>2</th>\n",
              "      <td>1</td>\n",
              "      <td>75</td>\n",
              "      <td>1_cancellation_refund_cancel_booking</td>\n",
              "      <td>[cancellation, refund, cancel, booking, cancel...</td>\n",
              "      <td>[service, refund, hours, ticket, class, hour, ...</td>\n",
              "      <td>[cancellation, refund, booking, layover, 5pm, ...</td>\n",
              "      <td>[I have been a loyal customer and frequent fly...</td>\n",
              "    </tr>\n",
              "    <tr>\n",
              "      <th>3</th>\n",
              "      <td>2</td>\n",
              "      <td>27</td>\n",
              "      <td>2_lost luggage_luggage missing_luggage found_d...</td>\n",
              "      <td>[lost luggage, luggage missing, luggage found,...</td>\n",
              "      <td>[luggage, bag, lost, call, day, bags, service,...</td>\n",
              "      <td>[lost luggage, deliver luggage, bags, delta, i...</td>\n",
              "      <td>[Me and my family travelled from Perth to Toky...</td>\n",
              "    </tr>\n",
              "  </tbody>\n",
              "</table>\n",
              "</div>"
            ],
            "text/plain": [
              "   Topic  Count                                               Name  \\\n",
              "0     -1     85              -1_booking_passengers_boarding_ticket   \n",
              "1      0     96             0_passengers_seats_inflight_cabin crew   \n",
              "2      1     75               1_cancellation_refund_cancel_booking   \n",
              "3      2     27  2_lost luggage_luggage missing_luggage found_d...   \n",
              "\n",
              "                                      Representation  \\\n",
              "0  [booking, passengers, boarding, ticket, fare, ...   \n",
              "1  [passengers, seats, inflight, cabin crew, cabi...   \n",
              "2  [cancellation, refund, cancel, booking, cancel...   \n",
              "3  [lost luggage, luggage missing, luggage found,...   \n",
              "\n",
              "                                                 POS  \\\n",
              "0  [seats, service, staff, class, seat, business,...   \n",
              "1  [economy, crew, food, service, meal, premium, ...   \n",
              "2  [service, refund, hours, ticket, class, hour, ...   \n",
              "3  [luggage, bag, lost, call, day, bags, service,...   \n",
              "\n",
              "                                                 MMR  \\\n",
              "0  [booking, passengers, fare, changi, airport, i...   \n",
              "1  [passengers, seats, airport, attendants, meal ...   \n",
              "2  [cancellation, refund, booking, layover, 5pm, ...   \n",
              "3  [lost luggage, deliver luggage, bags, delta, i...   \n",
              "\n",
              "                                 Representative_Docs  \n",
              "0  [I have used SQ and Changi often and generally...  \n",
              "1  [Travelled with Singapore on their premium eco...  \n",
              "2  [I have been a loyal customer and frequent fly...  \n",
              "3  [Me and my family travelled from Perth to Toky...  "
            ]
          },
          "execution_count": 75,
          "metadata": {},
          "output_type": "execute_result"
        }
      ],
      "source": [
        "topics, probs = topic_model.fit_transform(df_2023_rating_1_2['text'])\n",
        "topic_model.get_topic_info()"
      ]
    },
    {
      "cell_type": "code",
      "execution_count": 76,
      "metadata": {},
      "outputs": [
        {
          "data": {
            "text/plain": [
              "{'Main': [('lost luggage', np.float32(0.6144964)),\n",
              "  ('luggage missing', np.float32(0.5801731)),\n",
              "  ('luggage found', np.float32(0.570658)),\n",
              "  ('deliver luggage', np.float32(0.5208669)),\n",
              "  ('luggage back', np.float32(0.5176441)),\n",
              "  ('luggage', np.float32(0.49004596)),\n",
              "  ('luggage next', np.float32(0.4849706)),\n",
              "  ('baggage', np.float32(0.47399655)),\n",
              "  ('lost bag', np.float32(0.46000248)),\n",
              "  ('inside luggage', np.float32(0.425406))],\n",
              " 'POS': [('luggage', np.float64(0.05080882633342233)),\n",
              "  ('bag', np.float64(0.02073263089011934)),\n",
              "  ('lost', np.float64(0.018924249284331056)),\n",
              "  ('call', np.float64(0.018923924261472266)),\n",
              "  ('day', np.float64(0.017005007302543087)),\n",
              "  ('bags', np.float64(0.014468150776762402)),\n",
              "  ('service', np.float64(0.01390929942327385)),\n",
              "  ('days', np.float64(0.013876273680371701)),\n",
              "  ('next', np.float64(0.013868628343680656)),\n",
              "  ('clothes', np.float64(0.013605401463452484))],\n",
              " 'MMR': [('lost luggage', np.float32(0.6144964)),\n",
              "  ('deliver luggage', np.float32(0.5208669)),\n",
              "  ('bags', np.float32(0.34080976)),\n",
              "  ('delta', np.float32(0.23311758)),\n",
              "  ('items', np.float32(0.2150942)),\n",
              "  ('deliver', np.float32(0.21171148)),\n",
              "  ('bangkok', np.float32(0.20747341)),\n",
              "  ('perth', np.float32(0.20488279)),\n",
              "  ('missing', np.float32(0.16864856)),\n",
              "  ('transferred', np.float32(0.15589796))]}"
            ]
          },
          "execution_count": 76,
          "metadata": {},
          "output_type": "execute_result"
        }
      ],
      "source": [
        "topic_model.get_topic(2, full=True)"
      ]
    },
    {
      "cell_type": "code",
      "execution_count": 77,
      "metadata": {},
      "outputs": [
        {
          "data": {
            "text/plain": [
              "['Me and my family travelled from Perth to Tokyo on January for 3 weeks holiday . First of all flight delayed for a hour because of the stupid reason that engineer had called in sick . When reaching Tokyo exhausted because of the chasing next flight at Singapore , my luggage was left behind at Singapore. Thankfully Japanese luggage handling team deals very professionally and deliver my luggage next day. \\nOn the way back to Perth , we told the lady at Singapore airlines check in time that please make sure our luggage will be arrive at time . She even added the priority tag . Flight was ok to Singapore . Flight attendants were looks very rush for everything and a very slow service . After that we arrive at Singapore and went to catch the next flight . Again the flight was delayed , flight attendants were agin rushed for everything and service was way too slow . And not forget to mentioned but the planes from both Perth to Tokyo and Tokyo to Perth was quite dirty and dusty. We can see they don’t clean the seat pockets as we find the used tissues and plastics were not cleaned . When we arrived at Perth , same story happens again , one of our luggage missing . We talked to the (Dnata) baggage handling desk lady and her respond was so rude. She said we can’t track your luggage so we don’t know anything . We are here just for customer service . Very very unprofessional and very loudly screaming to the customer . She keep\\nSaying she don’t know so please don’t ask anymore , once we got your luggage we will deliver to your house. \\nOverall very unpleasant and stressful flight . We are loyal customer of Singapore airlines for past 10-12 years but now their service is very big question mark. I hope they will be better in future .',\n",
              " \"We flew with Singapore airlines from Copenhagen to Singapore, then from Singapore to Cairns on a Sunday. One of our luggage was lost. At Cairns airport, we have been told not to worry : when the luggage would be found, it would be delivered to us, wherever we may be. We insisted on the fact that we were on a 3 weeks road trip and would be moving every day, a little further to Sydney, but the staff at the airport reassured us they would send the luggage wherever we may be. \\n\\nWe had a first call with an employee of Singapore Airlines, named Suzan, on Monday, saying that the company lost the luggage. She promised to call again the next day to inform us about the ongoing investigation to find it. We insisted again on the fact that we were on the move and Suzan said it wouldn't be a problem to send the luggage at a specific address.  \\n\\nUnlike what was promised, we had no news on the next day. We then tried to reach Singapore Airlines on the next day, without success. That’s indeed when we found out that the number she used to call us was only one way: we couldn’t call it, only it could call us. Suzan finally called back on the evening of the Wednesday saying that our luggage was found.  \\n\\nWhen we said that we would be in Ingham the next day, we were answered that it was too far to deliver the luggage! We were very surprised by this answer and started arguing on that topic, since we've been told the exact opposite since the beginning. When we asked if there could be a compensation linked to the loss, Suzan laughed at us, which we found very disrespectful. She even ended up hanging up on us!  \\n\\nAs we were wondering about what just happened to us (maybe it was the “Australian way” to deal with customers), another employee of the company called us back right away. We then found a compromise: since we were passing by the city of Innisfail on the next day (Thursday), we agreed to meet a courier there to get our luggage back. We gave our itinerary of the next days: after visiting the falls of Milaa Milaa and Elinja, we would be heading to Mamu Tropical Skywalk. We were almost sure not to have phone reception there and informed them that we would only be reachable when arriving closer to Innisfail, around 12 (lunchtime), time at which we agreed to meet the delivery person. \\n\\nThe driver was supposed to have been given our contact details and to call us when leaving Cardwell in the morning to set up a meeting point in Innisfail. We arrived at 11.30 AM in Innisfail and then waited for the driver’s call to head up to a specific meeting point. But we received no call, and we waited for 1h30 in Innisfail for the driver to call us. We even tried to call Singapore Airlines, but every person we were speaking to had no idea of what the situation was, neither who to re-direct us too, they simply advised us to send another email. Since we had to be in Ingham at the end of the day (we had a hotel reservation there), we couldn't stay any longer and had to move. During our trip to Ingham, we took time to write an email to the email contact we had received in Cairns to explain the situation. We had Wifi that night and the next morning but received no answer to our email. At that moment we were very stressed because we had no idea what could have happened to our luggage. \\n\\nThe next day, Friday, we had to reach Townsville because we had a ferry booking to go to Magnetic Island. When we were on Magnetic Island (with poor reception), we received a call at 11 AM – the exact time he was supposed to call us the day before.\\n\\nWhat happened during that call was beyond disrespect. The person pretended that he tried to call, and email us the day before without success. He even mentioned having sent at least 10 text messages to both our numbers. Which is very strange because we had reception for sure from 11.30 AM, since we managed to contact Singapore airlines helplines ourselves. We received no text message nor email! He also said that since he couldn't contact us, he went up to Mamu Tropical Skywalk and consulted the register (that everybody is supposed to sign but we never were asked to at any time) to find out we never went there. We were so shocked because it meant that he was calling us liars. We went to Mamu Tropical Skywalk, we have pictures of the place and we have hotel reservation in Yungaburra and Ingham to prove our itinerary too. So we can’t understand why he would use this excuse.\\n\\nOn top of that, he said that he had money compensation with him, but since we didn’t show up in Innisfail, he wouldn’t give us the money anymore. Which means that since this day, we didn’t receive the compensation mentioned. And to finish the call, the driver informed us that we had no other choice than going to Townsville's airport to collect our luggage in the afternoon, otherwise, they wouldn’t take care of our file anymore. So in the end, the promise to deliver the luggage wherever we were was never met. \\n\\nWe were so angry and frustrated during the call, that we stopped arguing and just wanted to get the luggage back not to waste our holidays with stress anymore. Another really strange thing: following this call, we both received a text message from him, from Suzan and also an email to confirm where the luggage would be sent, and we received all text messages, calls and emails sent at that time on both phones. We wonder why we didn’t receive anything the day before.\\n\\nTo sum up, it took Singapore Airlines 5 days to get us the luggage back. We received only 150 Australian Dollars to cover this loss, which was clearly not enough to cover 5 days of clothing / hygiene product / snorkeling equipment / ... that was in the luggage. We waited 1h30 in Innisfail for nothing. We had been charged for international calls with both our phones several times due to the poor communication of both companies. We had suffered a great deal of stress and frustration, we had been laughed at and disrespected and we had been called liars! \\n\\n \",\n",
              " 'Here are my details of my trip. \\n2nd March, 2023 – I flew with Delta to JFK in order to connect with Singapore airlines – JFK-FRA-SIN-HKT , due to arrive 4th March, 2023. When I arrived at JFK, on my way to collect my luggage I saw a Singapore desk in the area. So, I decided to stop and ask for directions: where to get my bag and where to check in with Singapore airlines. It was staffed by 2 individuals. While asking for directions and informing them that I will pick up by luggage from Delta and bring it across to the check-in desk. They both told me that it wasn’t necessary, just show them my Delta tag and my itinerary and they will have my luggage picked up and delivered to Singapore. I asked them twice if they are sure because Delta is not Star alliance. However, my luggage wasn’t picked up from the Delta carousel. \\n3rd March, 2023 – Attempt to ask and verify my luggage was on board to a Singapore rep in Frankfurt, where I was told that she was too busy to help me I should come back later. \\n4th March, 2023 – I arrived in Singapore and I went to T2 service desk (near F30) and was told that my luggage is in the system, it would arrive in Phuket. \\nI arrived in Phuket but my luggage was missing, I was first told by the ground staff in Phuket that it was in Singapore and would arrive the next day and that I should make a claim. I did just that.\\n\\n5th March, 2023 – I waited 2 days before I realized that I was receiving no assistance from Singapore airlines except for e-mails stating that they are sorry for the delayed baggage. That’s when I had to take action on my own. I received this message about 10 times over the past few days. \"We are still trying to locate your delayed bag(s) and will provide another update by tomorrow. You can also check the status here, with your reference number.\"\\n6th March, 2023 – I decided to check myself to locate my luggage and found it on Delta’s website, I then tried to call Singapore – JFK and inform them of the situation and this is when they told me that they couldn’t help me and hung up the phone when I asked to speak to a supervisor.  Erroneously thinking that since I found the luggage that I would receive some help as I have been without clothes, toiletries and medicine for 2 days. \\nI finally got through to Singapore JFK via e-mail and they now asked me for a photo  of my bag and of my flight details and boarding passes before they can help me. How bizarre? \\n\\nQuestions for Singapore Airlines:\\n1.\\tWhy was I told by JFK ground staff that my luggage on Delta airlines would be transferred to Singapore airlines, when it wasn’t. Even though I offered twice to retrieved my luggage myself the two staff members insisted that it wasn’t necessary as it will be handled. It wasn’t and of today 9th March, 2023 I still don’t have my luggage.\\n2.\\tWhy is it at FRA airport where I was in transit that no staff was at the Singapore desk for most of the day. I did manage to find a person at the gate that told me they were too busy to assist me – I wanted to verify that my luggage was indeed transferred. \\n3.\\tWhy was I told when I arrived in Singapore by the staff at the service desk (next to F30) that my luggage was in the system and would be at my final destination – Phuket.\\n4.\\tWhy could the ground staff at Phuket airport and Singapore airline online unable to find my luggage and kept sending e-mails that they have contacted every station for information.\\n5.\\tWhy is it that when I called the Singapore customer service at JFK airport in NYC they told me that they can’t help me and hung up on my call.\\n6.\\tMost important – Why is it when I located the luggage myself 2 days later – as it was with Delta and informed all parties that my bag was in JFK Delta office that no personnel from either Singapore office made any attempt to retrieve my luggage. I had to call Delta in Atlanta and ask them to contact Singapore ground staff at JFK and inform them that the luggage they are looking for is at JFK.']"
            ]
          },
          "execution_count": 77,
          "metadata": {},
          "output_type": "execute_result"
        }
      ],
      "source": [
        "topic_model.get_representative_docs(2)"
      ]
    },
    {
      "cell_type": "markdown",
      "metadata": {},
      "source": [
        "## 2023 Sumamry\n",
        "The traditionally strong reputation of Singapore Airlines has noticeably declined, with previously positive aspects now becoming major sources of dissatisfaction across the entire customer journey—from pre-departure to arrival:\n",
        "- Once a highlight of the premium offering, the airport lounge experience has deteriorated significantly, with reports of overcrowding, long queues, and a lack of available food or refreshments.\n",
        "- The in-flight experience, previously a key strength, is now a frequent source of complaints. Passengers describe small, uncomfortable, and sometimes unclean seats, along with poorly prepared meals and substandard food quality.\n",
        "- Reviews suggest that the cabin crew lacks coordination and appears underprepared for standard service routines, raising concerns about training and overall service management on board.\n",
        "- Ticketing, refunds, and cancellations continue to frustrate customers, but a growing concern is the failure of the rewards and loyalty programs. This is particularly damaging, as it risks alienating even the airline’s most loyal customer base.\n",
        "- Lost luggage complaints are rising, and the core issue appears to be the airline's poor handling of these cases through its customer support channels.\n",
        "- Customer service is frequently described as not only unhelpful but also rude and unprofessional, reinforcing the perception that the airline no longer prioritizes service excellence."
      ]
    },
    {
      "cell_type": "markdown",
      "metadata": {},
      "source": [
        "# **2024**"
      ]
    },
    {
      "cell_type": "markdown",
      "metadata": {},
      "source": [
        "## Data slicing"
      ]
    },
    {
      "cell_type": "code",
      "execution_count": 78,
      "metadata": {},
      "outputs": [
        {
          "name": "stdout",
          "output_type": "stream",
          "text": [
            "(96, 11)\n"
          ]
        }
      ],
      "source": [
        "df_2024 = df[df['year'] == 2024]\n",
        "print(df_2024.shape)"
      ]
    },
    {
      "cell_type": "code",
      "execution_count": 79,
      "metadata": {},
      "outputs": [
        {
          "data": {
            "image/png": "[encoded data removed]",
            "text/plain": [
              "<Figure size 700x400 with 1 Axes>"
            ]
          },
          "metadata": {},
          "output_type": "display_data"
        }
      ],
      "source": [
        "# Distribution of ratings in 2018\n",
        "df_2024['rating'].value_counts().sort_index().plot(kind='bar', figsize=(7, 4))\n",
        "plt.title('Distribution of Ratings in 2024')\n",
        "plt.xlabel('Rating')\n",
        "plt.ylabel('Number of Reviews')\n",
        "plt.show()"
      ]
    },
    {
      "cell_type": "markdown",
      "metadata": {},
      "source": [
        "Due to the extremly small number of positive reviews, we will focus on the negative reviews for 2024 only. "
      ]
    },
    {
      "cell_type": "markdown",
      "metadata": {},
      "source": [
        "## Fitting BERTopic on lowly rated reviews"
      ]
    },
    {
      "cell_type": "code",
      "execution_count": 80,
      "metadata": {},
      "outputs": [
        {
          "name": "stdout",
          "output_type": "stream",
          "text": [
            "Total number of 2024 negative review: 60\n"
          ]
        }
      ],
      "source": [
        "df_2024_rating_1_2 = df_2024[df_2024['rating'].isin([1, 2])]\n",
        "print(\"Total number of 2024 negative review:\" , df_2024_rating_1_2.shape[0])"
      ]
    },
    {
      "cell_type": "code",
      "execution_count": 81,
      "metadata": {},
      "outputs": [
        {
          "data": {
            "text/html": [
              "<div>\n",
              "<style scoped>\n",
              "    .dataframe tbody tr th:only-of-type {\n",
              "        vertical-align: middle;\n",
              "    }\n",
              "\n",
              "    .dataframe tbody tr th {\n",
              "        vertical-align: top;\n",
              "    }\n",
              "\n",
              "    .dataframe thead th {\n",
              "        text-align: right;\n",
              "    }\n",
              "</style>\n",
              "<table border=\"1\" class=\"dataframe\">\n",
              "  <thead>\n",
              "    <tr style=\"text-align: right;\">\n",
              "      <th></th>\n",
              "      <th>Topic</th>\n",
              "      <th>Count</th>\n",
              "      <th>Name</th>\n",
              "      <th>Representation</th>\n",
              "      <th>POS</th>\n",
              "      <th>MMR</th>\n",
              "      <th>Representative_Docs</th>\n",
              "    </tr>\n",
              "  </thead>\n",
              "  <tbody>\n",
              "    <tr>\n",
              "      <th>0</th>\n",
              "      <td>-1</td>\n",
              "      <td>25</td>\n",
              "      <td>-1_missing luggage_refund_drinks offered_baggage</td>\n",
              "      <td>[missing luggage, refund, drinks offered, bagg...</td>\n",
              "      <td>[service, luggage, food, airport, claim, econo...</td>\n",
              "      <td>[missing luggage, refund, drinks offered, airp...</td>\n",
              "      <td>[Singapore Airlines feedback channel is one of...</td>\n",
              "    </tr>\n",
              "    <tr>\n",
              "      <th>1</th>\n",
              "      <td>0</td>\n",
              "      <td>24</td>\n",
              "      <td>0_passengers_cabin_seats_plane</td>\n",
              "      <td>[passengers, cabin, seats, plane, boarded, sea...</td>\n",
              "      <td>[seat, time, service, class, cabin, chicken, e...</td>\n",
              "      <td>[passengers, cabin, star alliance, meals, prem...</td>\n",
              "      <td>[This journey I took recently with Singapore a...</td>\n",
              "    </tr>\n",
              "    <tr>\n",
              "      <th>2</th>\n",
              "      <td>1</td>\n",
              "      <td>11</td>\n",
              "      <td>1_bought ticket_called booking_cancel_cancelling</td>\n",
              "      <td>[bought ticket, called booking, cancel, cancel...</td>\n",
              "      <td>[ticket, voucher, booking, company, money, bac...</td>\n",
              "      <td>[bought ticket, called booking, cancelling, mo...</td>\n",
              "      <td>[I booked a round ticket from singapore airlin...</td>\n",
              "    </tr>\n",
              "  </tbody>\n",
              "</table>\n",
              "</div>"
            ],
            "text/plain": [
              "   Topic  Count                                              Name  \\\n",
              "0     -1     25  -1_missing luggage_refund_drinks offered_baggage   \n",
              "1      0     24                    0_passengers_cabin_seats_plane   \n",
              "2      1     11  1_bought ticket_called booking_cancel_cancelling   \n",
              "\n",
              "                                      Representation  \\\n",
              "0  [missing luggage, refund, drinks offered, bagg...   \n",
              "1  [passengers, cabin, seats, plane, boarded, sea...   \n",
              "2  [bought ticket, called booking, cancel, cancel...   \n",
              "\n",
              "                                                 POS  \\\n",
              "0  [service, luggage, food, airport, claim, econo...   \n",
              "1  [seat, time, service, class, cabin, chicken, e...   \n",
              "2  [ticket, voucher, booking, company, money, bac...   \n",
              "\n",
              "                                                 MMR  \\\n",
              "0  [missing luggage, refund, drinks offered, airp...   \n",
              "1  [passengers, cabin, star alliance, meals, prem...   \n",
              "2  [bought ticket, called booking, cancelling, mo...   \n",
              "\n",
              "                                 Representative_Docs  \n",
              "0  [Singapore Airlines feedback channel is one of...  \n",
              "1  [This journey I took recently with Singapore a...  \n",
              "2  [I booked a round ticket from singapore airlin...  "
            ]
          },
          "execution_count": 81,
          "metadata": {},
          "output_type": "execute_result"
        }
      ],
      "source": [
        "topics, probs = topic_model.fit_transform(df_2024_rating_1_2['text'])\n",
        "topic_model.get_topic_info()"
      ]
    },
    {
      "cell_type": "code",
      "execution_count": 82,
      "metadata": {},
      "outputs": [
        {
          "data": {
            "text/plain": [
              "{'Main': [('bought ticket', np.float32(0.4241184)),\n",
              "  ('called booking', np.float32(0.3757091)),\n",
              "  ('cancel', np.float32(0.37020043)),\n",
              "  ('cancelling', np.float32(0.3630726)),\n",
              "  ('booking', np.float32(0.33754572)),\n",
              "  ('ticket', np.float32(0.3277098)),\n",
              "  ('money back', np.float32(0.32585767)),\n",
              "  ('got ticket', np.float32(0.30439228)),\n",
              "  ('booking com', np.float32(0.2844854)),\n",
              "  ('tickets', np.float32(0.26148883))],\n",
              " 'POS': [('ticket', np.float64(0.034642530053735056)),\n",
              "  ('voucher', np.float64(0.033834111795040776)),\n",
              "  ('booking', np.float64(0.02607654165220317)),\n",
              "  ('company', np.float64(0.02225451573284126)),\n",
              "  ('money', np.float64(0.019183320669633977)),\n",
              "  ('back', np.float64(0.01829459985788338)),\n",
              "  ('issue', np.float64(0.016809871948587844)),\n",
              "  ('call', np.float64(0.015398646696356572)),\n",
              "  ('service', np.float64(0.01532602485778806)),\n",
              "  ('tickets', np.float64(0.015209753141277175))],\n",
              " 'MMR': [('bought ticket', np.float32(0.4241184)),\n",
              "  ('called booking', np.float32(0.3757091)),\n",
              "  ('cancelling', np.float32(0.3630726)),\n",
              "  ('money back', np.float32(0.32585767)),\n",
              "  ('voucher', np.float32(0.25190565)),\n",
              "  ('fee', np.float32(0.24873342)),\n",
              "  ('already paid', np.float32(0.19480975)),\n",
              "  ('service', np.float32(0.18146439)),\n",
              "  ('outrageous', np.float32(0.16980688)),\n",
              "  ('75 dollars', np.float32(0.14736852))]}"
            ]
          },
          "execution_count": 82,
          "metadata": {},
          "output_type": "execute_result"
        }
      ],
      "source": [
        "topic_model.get_topic(1, full=True)"
      ]
    },
    {
      "cell_type": "code",
      "execution_count": 83,
      "metadata": {},
      "outputs": [
        {
          "data": {
            "text/plain": [
              "['This journey I took recently with Singapore airlines was one of the worst in my 12 years of international travel experience. I boarded in Coimbatore, India via Scoot airlines( operated by Singapore airlines). The flight was delayed by 2 hrs. They kept saying delayed by 30 mins and kept moving the time. There was no reason given. Food was not that great too. Staffs were mostly friendly except one. There was no ice cream with kids meal and it came only with adult. She gave my husband and me, we asked one more for our 9 year old daughter and she refused saying it was not part of the kids meal. Anyways, even though flight was delayed, i was hoping they would make arrangements with out flight to Seattle. However, they just made us run, literally... We were at the terminal finally and their systems did not recognize the boarding pass we had and they made us wait further for validating us manually. It was 12 hrs flight to Seattle. Seats were so close and narrow like a bus seat. Not comfortable at all. When we landed we were told that our checkin bags did not arrive and it would take 4  more days to arrive but we would be compensated. As I was tracking I only got email that they were trying to locate my check-in bags without exactly updating the actual status. Then the bags arrived 4 days later. I wanted to reach out to customer support for compensation they promised at the airport. There is no customer care number you can reach for these kinds of questions. There are onlu forms and emails to send. I am waiting for response for the last 10 days. And there is none yet. I will not be flying with them again.',\n",
              " 'Their Premium Economy cabin is a RIP-OFF. We always fly Premium Economy class when traveling international due to the distance. Very sad to report that we were very disappointed with the dimension of the seat. Due to the poor design where the tray is integrated into the arm rest, so the dimension they show on their site is BOGUS. The arm rest takes up at least 2 inches of the seat leaving you with  the actual seat size that is no larger than their economy class seat. DO NOT PAY the extra $800-$1000 extra for SIA PE Cabin. The footrest does not extend properly, and the seat DOES NOT recline like premium economy in other airlines. The service on the slight from SFO-SIN was great (good attentive stewardess due to higher ratio of staff to passengers, the bathroom was clean and they were generous with their food and beverage/snack services) but on the return flight it was truly a plain old economy class service. In addition to that, they were long delays while we were in transit which resulted in my missing my reunion luncheon with classmates whom I have not seen in over 40 years. The customer service of ground crew is not up the the SIA golden class services they promote. During the over 2-3 hour delay, we were in the waiting area which has no water or bathroom facilities. When I asked the crew how long the delay would be (we arrived early at 0730 for our 1100 flight, missing breakfast etc. ) I was told she has no information to share. Asked if there is sufficient time to leave the area to grab food and do a bathroom break (this was at 1230), was told she has no idea... \\nAll in all not worth the extra $$$$ and given the mediocre ground service, and the delays etc. I would not use them again, when there are so many other great options out there for premium economy cabins with other airlines. Cathay Pacific is top of our list for Asian travel, Lufthansa, Air France, United and definitely Virgin Air. We heard so much about SIA and decided to pay the HUGE difference in cost this time around. NEVER AGAIN.',\n",
              " 'We have travelled with Singapore airlines a few times before  prior to lockdown and they were very good. This was a very special trip for my family and I but this time the airline was terrible and I am not normally someine who complains. This airline is supposed to be ranked in the top 10 in the world and in some lists they are ranked number 1  I do not know how this could possibly be it was terrible there is no leg room we have had more leg room on Ryanair only this flight was 13 hours the food was horrible and tasted of the containers they came in. They offered no eye mask earplugs and more important deep vien thrombosis socks which we have always got on long haul flights prior to lockdown. On the outward journey the check in was good and the crew were very nice. The return trip was appalling again the food was terrible. On the manage my booking page it showed the meals and supposedly we had the option to opt for a vegetarian option but it was not available to us and said we could change it on board however the dinner course was fish or chicken I am allergic to fish so chose chicken they were only about 20 rows into the economy section but we were told there was no more chicken I told them of my allergy they said they would get me something else. This was a night flight we were 4 row from the front of our section by the time they got to the front they started to collect the trays even when people were still eating as was my wife so they tried to take the bits that had been used I tried to get the girls attention to ask about my alternative meal but she went straight by at which time I gave it up ate my wifes roll and tried to sleep the crew clearly wanted to finish the meals turn the lights off and retire to the back of the plane as to do what ever they do there the next we saw of them until breakfast the choices there was scrambled eggs or chicken porridge I do not eat eggs and do not know what the other thing is so declined I was asked if I wanted the vegitarian option I said yes the tray the llady pulled out was the same tray with the main course removed at this point I had enough complained at what they had done she asked me would I like a chicken wrap I said yes please then a male member of the crew came to me with 2 different sandwiches one supposed to be beef and I have no idea what was in the other I said I had been promised a chicken wrap (there suggestion) to be told they had no chicken wraps I then told them sarcastically I would leave it as I had eaten 2 rolls during the flight so was full fully frustrated I put on my mask to sleep whilst this happened a member of the crew approached my wife to offer me a packet of crisps\\nI am so frustrated that I intend to write direct to the CEO of Singapore airlines but in truth I expect no reply as I was a economy ticketed customer and I think they only pander to Business and 1st Class passengers so please be aware before paying this airlines over inflated prices would be my opinion']"
            ]
          },
          "execution_count": 83,
          "metadata": {},
          "output_type": "execute_result"
        }
      ],
      "source": [
        "topic_model.get_representative_docs(0)"
      ]
    },
    {
      "cell_type": "markdown",
      "metadata": {},
      "source": [
        "## 2024 Summary\n",
        "The same core issues continue to affect customer satisfaction, with little to no sign of improvement:\n",
        "- Both pre-departure and in-flight service remain problematic, with ongoing reports of rude, unhelpful staff and a general lack of responsiveness to customer needs.\n",
        "- Complaints about uncomfortable seating and poor food quality persist, indicating that the airline has yet to address key elements of the onboard experience.\n",
        "- Customers continue to face long wait times and inefficient support when dealing with ticket changes or cancellations, making these processes unnecessarily frustrating.\n",
        "- The noticeable drop in review volume and increased cancellations review suggests that more customers are choosing to cancel their flights or avoid flying with the airline altogether, pointing to a potential erosion of trust and loyalty."
      ]
    },
    {
      "cell_type": "markdown",
      "metadata": {},
      "source": [
        "# **Summary**\n",
        "**Customer Satisfaction and Service Quality Review**\n",
        "  \n",
        "**2018–2020: Period of High Customer Satisfaction**  \n",
        "Between 2018 and 2020, the airline enjoyed a strong reputation for customer satisfaction. Positive reviews far outweighed negative ones, with frequent praise focused on in-flight services and amenities. Key highlights included:\n",
        "- Comfortable and clean seating\n",
        "- High-quality food, including the popular Book the Cook program\n",
        "- Friendly, professional, and well-trained cabin crews\n",
        "  \n",
        "While some negative reviews existed, they were minor and scattered, leaving the airline with a high overall rating and growing customer loyalty.\n",
        "\n",
        "**2021–Present: Rapid Decline in Service Quality**  \n",
        "From 2021 onwards, the airline began experiencing a significant and continuous drop in service quality and customer satisfaction. The very elements that once drove positive reviews became sources of widespread complaints:\n",
        "- *Seats*: Reported as uncomfortable and dirty, even in premium and business class.\n",
        "- *Food*: Declining quality in meals and poor execution of the Book the Cook service, often leaving passengers hungry and disappointed.\n",
        "- *Cabin Crew*: Described as undertrained, unprepared, and frequently rude or unprofessional.\n",
        "- *Luggage Handling*: An increase in lost baggage incidents, with poor support for affected customers.\n",
        "- *Customer Support*: Widely criticized for being unhelpful, slow, and even making situations worse for passengers.\n",
        "- *Ticketing, Cancellations & Refunds*: Numerous reports of customers being unable to get refunds or modify bookings.\n",
        "- *Pricing Concerns*: With declining service levels, many customers now view the airline as overpriced and no longer worth the cost.\n",
        "  \n",
        "This erosion of quality has resulted in the airline losing even its most loyal customers, and if unaddressed, could lead to severe long-term consequences for the brand.\n",
        "\n",
        "\n",
        "**Key Insight**\n",
        "  \n",
        "The most damaging aspect of this decline is not just the drop in service quality—but the perception that customers are not being listened to. Many feel unappreciated and undervalued, which fuels frustration and drives them away.\n"
      ]
    },
    {
      "cell_type": "markdown",
      "metadata": {},
      "source": [
        "# **Recommendations**\n",
        "  \n",
        "**1. Fix the Fundamentals First**\n",
        "  \n",
        "These are the areas where the airline once excelled—and now face the most complaints. Restoring them should be the top priority to gain customer's trust and favor:\n",
        "- *Seats*: Deep clean and refurbish airpcraft interiors, especially premium and business class cabin. Establish strict preflight procedures and high cleaning standards. \n",
        "- *Food & Book the Cook Service*: Re-evaluate partnerships with catering providers and re-train cabin crew on accurate order management and service timing. Make sure service standard is consistent across all flights.\n",
        "- *Cabin Crew*: Launch new rigorous mandatory training programs focused on improving service exellence and professionalism. Implement a system for monitoring and rewarding good service.\n",
        "\n",
        "**2. Repair Operational Problems**\n",
        "- *Ticketing, Cancellations & Refunds*: Revise partnership with third-party ticketing platforms and other airlines to ensure ticket information are aligned across all partners. Revamp Singapore Airline's website and encourage customers to use the website other than third party platforms by promotion programs. Ensure customers problems are address in a timely manner.\n",
        "- *Customer Support*: Reduce response time and increase the size of customer support teams to make sure customers' problem are addressed and look after. Devise a training program for all agents to ensure they are well-versed in the airline's policies and procedures. Implement a system for monitoring and rewarding good service as well as punishment for unprofessional behavior.\n",
        "- *Baggage Handling*: Partner with ground service providers to implement better tracking systems. Implement and introduce digital baggage tracking via app notifications. Improve compensation and support protocols for lost luggage incidents.\n",
        "\n",
        "**3. Rebuild Customer Trust** \n",
        "- *Show customers that they are heard*: Send personal apologies or compensation for recent service failures. Create a “Customer Advisory Panel”/\"Customer Feedback Box\" to get feedback directly from customers, which would not only help the airline to understand customers' needs but also show that the airline is willing to listen and improve.\n",
        "- *Transparent Communication*: Use newsletters, in-flight videos, and social media to keep passengers informed and engaged.Communicate openly about what is being done to improve.\n",
        "- *Value Proposition Readjustment*: Avoid premium pricing until service quality improves, actively offer promotions or complimentary bonuses to retain customers. "
      ]
    }
  ],
  "metadata": {
    "accelerator": "GPU",
    "colab": {
      "collapsed_sections": [
        "QWwOLsVlV8Xg",
        "elS5OXxjV8Xk",
        "pUofs7YonpIC",
        "IyzjHc4lpWeR",
        "vVk8H03lbKWI"
      ],
      "gpuType": "T4",
      "provenance": []
    },
    "kernelspec": {
      "display_name": "Python 3",
      "name": "python3"
    },
    "language_info": {
      "codemirror_mode": {
        "name": "ipython",
        "version": 3
      },
      "file_extension": ".py",
      "mimetype": "text/x-python",
      "name": "python",
      "nbconvert_exporter": "python",
      "pygments_lexer": "ipython3",
      "version": "3.12.8"
    }
  },
  "nbformat": 4,
  "nbformat_minor": 0
}
